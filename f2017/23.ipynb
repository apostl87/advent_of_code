{
 "cells": [
  {
   "cell_type": "code",
   "execution_count": 1,
   "id": "2ff8b1a0-67a7-4b13-98be-ed8c985f2d55",
   "metadata": {},
   "outputs": [],
   "source": [
    "import string, copy, re\n",
    "from collections import deque, defaultdict\n",
    "import numpy as np\n",
    "from aoclib import *\n",
    "\n",
    "inp = open(\"in23.txt\").read().strip()\n",
    "instructions = inp.splitlines()"
   ]
  },
  {
   "cell_type": "code",
   "execution_count": 20,
   "id": "9e9329e0-782d-4dee-a7d2-31058ebdd1ef",
   "metadata": {},
   "outputs": [],
   "source": [
    "class Program(object):\n",
    "    def __init__(self, a = 0):\n",
    "        self.registers = defaultdict(int)\n",
    "        self.registers['a'] = a\n",
    "        self.pointer = 0\n",
    "        self.q = []\n",
    "        self.calledmul = 0\n",
    "\n",
    "    def __repr__(self):\n",
    "        return __str__(self)\n",
    "        \n",
    "    def __str__(self):\n",
    "        return ',\\t'.join([str(self.pointer)] + [(str(k) + \": \" + str(v)) for k, v in self.registers.items()])\n",
    "\n",
    "    def run(self, instructions, runOnce=False):\n",
    "        \n",
    "        if runOnce:\n",
    "            stop = False\n",
    "            \n",
    "        while 0 <= self.pointer < len(instructions):                \n",
    "\n",
    "            if runOnce:\n",
    "                if stop:\n",
    "                    break\n",
    "                else:\n",
    "                    stop = True\n",
    "                \n",
    "            line = instructions[self.pointer]\n",
    "            p = line.split()\n",
    "\n",
    "            try:\n",
    "                val = int(p[-1])\n",
    "            except:\n",
    "                val = self.registers[p[-1]]\n",
    "                \n",
    "            match p[0]:\n",
    "                case 'set':\n",
    "                    self.registers[p[1]] = val\n",
    "                case 'add':\n",
    "                    self.registers[p[1]] += val\n",
    "                case 'sub':\n",
    "                    self.registers[p[1]] -= val\n",
    "                case 'mul':\n",
    "                    self.calledmul += 1\n",
    "                    self.registers[p[1]] *= val                    \n",
    "                case 'jnz':\n",
    "                    try:\n",
    "                        if int(p[1]) != 0:\n",
    "                            self.pointer += val\n",
    "                            continue\n",
    "                    except:\n",
    "                        if self.registers[p[1]] != 0:\n",
    "                            self.pointer += val\n",
    "                            continue\n",
    "            self.pointer += 1"
   ]
  },
  {
   "cell_type": "code",
   "execution_count": 21,
   "id": "28dc148e-6665-498d-b426-398fc2ff4a34",
   "metadata": {},
   "outputs": [
    {
     "name": "stdout",
     "output_type": "stream",
     "text": [
      "9409\n"
     ]
    }
   ],
   "source": [
    "# Part 1\n",
    "prog1 = Program(0)\n",
    "prog1.run(instructions)\n",
    "print(prog1.calledmul)"
   ]
  },
  {
   "cell_type": "code",
   "execution_count": 28,
   "id": "2a7cad53-29aa-4b5f-a28c-19bcab2f2727",
   "metadata": {},
   "outputs": [
    {
     "name": "stdout",
     "output_type": "stream",
     "text": [
      "913\n"
     ]
    }
   ],
   "source": [
    "# Part 2\n",
    "def is_prime(n):\n",
    "  for i in range(2,n//2 + 1):\n",
    "    if (n%i) == 0:\n",
    "      return False\n",
    "  return True\n",
    "\n",
    "h = 0\n",
    "b = 109_900\n",
    "c = b + 17000\n",
    "\n",
    "while True:\n",
    "    if not is_prime(b):\n",
    "        h += 1\n",
    "    if b == c:\n",
    "        break\n",
    "    b += 17\n",
    "\n",
    "print( h)"
   ]
  },
  {
   "cell_type": "code",
   "execution_count": 27,
   "id": "6f2a2bae-9699-494a-916c-d57c526cacca",
   "metadata": {},
   "outputs": [
    {
     "data": {
      "text/plain": [
       "True"
      ]
     },
     "execution_count": 27,
     "metadata": {},
     "output_type": "execute_result"
    }
   ],
   "source": [
    "not is_prime(c)"
   ]
  },
  {
   "cell_type": "code",
   "execution_count": null,
   "id": "5bc49f36-b266-4366-b913-3b7e2d00992c",
   "metadata": {},
   "outputs": [],
   "source": []
  }
 ],
 "metadata": {
  "kernelspec": {
   "display_name": "Python 3 (ipykernel)",
   "language": "python",
   "name": "python3"
  },
  "language_info": {
   "codemirror_mode": {
    "name": "ipython",
    "version": 3
   },
   "file_extension": ".py",
   "mimetype": "text/x-python",
   "name": "python",
   "nbconvert_exporter": "python",
   "pygments_lexer": "ipython3",
   "version": "3.12.3"
  }
 },
 "nbformat": 4,
 "nbformat_minor": 5
}
