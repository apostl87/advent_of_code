{
 "cells": [
  {
   "cell_type": "code",
   "execution_count": 28,
   "id": "4d194561-dd1f-4f15-886f-d1e3809feef2",
   "metadata": {},
   "outputs": [
    {
     "name": "stdout",
     "output_type": "stream",
     "text": [
      "4416\n"
     ]
    }
   ],
   "source": [
    "from collections import defaultdict\n",
    "\n",
    "data = open(\"8.in\").read().strip()\n",
    "\n",
    "d = defaultdict(int)\n",
    "data += '\\n'\n",
    "data = data.replace('\\n', ' else 0\\n')\n",
    "data = data.replace('inc', '+=')\n",
    "data = data.replace('dec', '-=')\n",
    "exec(data, {}, d)\n",
    "print(max(d.values()))"
   ]
  },
  {
   "cell_type": "code",
   "execution_count": 20,
   "id": "5ee3bfcf-f272-4504-a215-89b8a74fb33a",
   "metadata": {},
   "outputs": [
    {
     "name": "stdout",
     "output_type": "stream",
     "text": [
      "answer_a: 4416\n",
      "answer_b: 5199\n"
     ]
    }
   ],
   "source": [
    "\"\"\"\n",
    "--- Day 8: I Heard You Like Registers ---\n",
    "https://adventofcode.com/2017/day/8\n",
    "\"\"\"\n",
    "import operator as op\n",
    "from collections import defaultdict\n",
    "from types import SimpleNamespace\n",
    "\n",
    "data = open(\"8.in\").read().strip()\n",
    "from parse import parse\n",
    "\n",
    "\n",
    "ops = {\n",
    "    \">\": op.gt,\n",
    "    \"<\": op.lt,\n",
    "    \">=\": op.ge,\n",
    "    \"<=\": op.le,\n",
    "    \"==\": op.eq,\n",
    "    \"!=\": op.ne,\n",
    "    \"inc\": op.iadd,\n",
    "    \"dec\": op.isub,\n",
    "}\n",
    "\n",
    "\n",
    "b = 0\n",
    "d = defaultdict(int)\n",
    "template = \"{x} {i:op} {m:d} if {y} {cmp:op} {n:d}\"\n",
    "for line in data.splitlines():\n",
    "    parsed = parse(template, line, {\"op\": ops.get})\n",
    "    r = SimpleNamespace(**parsed.named)\n",
    "    d[r.x] = r.i(d[r.x], r.cmp(d[r.y], r.n) and r.m)\n",
    "    b = max(b, d[r.x])\n",
    "\n",
    "\n",
    "print(\"answer_a:\", max(d.values()))\n",
    "print(\"answer_b:\", b)"
   ]
  }
 ],
 "metadata": {
  "kernelspec": {
   "display_name": "Python 3 (ipykernel)",
   "language": "python",
   "name": "python3"
  },
  "language_info": {
   "codemirror_mode": {
    "name": "ipython",
    "version": 3
   },
   "file_extension": ".py",
   "mimetype": "text/x-python",
   "name": "python",
   "nbconvert_exporter": "python",
   "pygments_lexer": "ipython3",
   "version": "3.12.3"
  }
 },
 "nbformat": 4,
 "nbformat_minor": 5
}
