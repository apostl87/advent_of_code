{
 "cells": [
  {
   "cell_type": "code",
   "execution_count": 1,
   "id": "b047930c-632d-4155-a16f-f755ec8ef860",
   "metadata": {},
   "outputs": [],
   "source": [
    "import string, copy, re\n",
    "from collections import deque, defaultdict\n",
    "from aoclib import *\n",
    "import numpy as np\n",
    "\n",
    "inp = open(\"21.in\").read().strip()"
   ]
  },
  {
   "cell_type": "code",
   "execution_count": 32,
   "id": "2839e074-1b9c-4c6c-87ec-e4c8b1d3207b",
   "metadata": {},
   "outputs": [],
   "source": [
    "enhancement = dict()\n",
    "for line in inp.splitlines():\n",
    "    p = line.split(\" => \")\n",
    "    enhancement[p[0]] = p[1]\n",
    "\n",
    "def str2ndarray(str2d):\n",
    "    return np.array(datato2dlist(str2d))\n",
    "\n",
    "def ndarray2str(nparray2d):\n",
    "    return list2string([list(x) for x in list(nparray2d)])\n",
    "\n",
    "congruencies = [\n",
    "    lambda x: x,\n",
    "    lambda x: np.rot90(x), \n",
    "    lambda x: np.rot90(np.rot90(x)),\n",
    "    lambda x: np.rot90(np.rot90(np.rot90(x))),\n",
    "    lambda x: np.fliplr(x),\n",
    "    lambda x: np.rot90(np.fliplr(x)),\n",
    "    lambda x: np.rot90(np.rot90(np.fliplr(x))),\n",
    "    lambda x: np.rot90(np.rot90(np.rot90(np.fliplr(x))))\n",
    "]\n",
    "\n",
    "def transform_image(image):\n",
    "    for c in congruencies:\n",
    "        img = c(image)\n",
    "        img = ndarray2str(img)\n",
    "        img_flat =  '/'.join(img.splitlines())\n",
    "        if img_flat in enhancement:\n",
    "            img_flat_enhanced = enhancement[img_flat]\n",
    "            return str2ndarray('\\n'.join(img_flat_enhanced.split('/')))\n",
    "    return None\n",
    "\n",
    "def split_image(image):\n",
    "    # returns a list of images: [images]\n",
    "    if len(image) < 4:\n",
    "        return [image]\n",
    "    if len(image) % 2 == 0:\n",
    "        n = len(image) // 2\n",
    "    elif len(image) % 3 == 0:\n",
    "        n = len(image) // 3\n",
    "    else:\n",
    "        return None\n",
    "    images = [subimage for chunk in np.vsplit(image, n) for subimage in np.hsplit(chunk, n)]\n",
    "    return images\n",
    "\n",
    "def block_images(images):\n",
    "    # returns a single np.ndarray\n",
    "    n = int(np.sqrt(len(images)))\n",
    "    return np.block([images[i:i+n] for i in range(0, len(images), n)])"
   ]
  },
  {
   "cell_type": "code",
   "execution_count": 36,
   "id": "543c0886-79b6-4f49-9249-b17234487470",
   "metadata": {},
   "outputs": [
    {
     "name": "stdout",
     "output_type": "stream",
     "text": [
      "125\n",
      "1782917\n"
     ]
    }
   ],
   "source": [
    "initial = \"\"\"\n",
    ".#.\n",
    "..#\n",
    "###\n",
    "\"\"\".strip()\n",
    "\n",
    "# Part 1\n",
    "image = str2ndarray(initial)\n",
    "for i in range(5):\n",
    "    images = split_image(image)\n",
    "    images = [transform_image(image) for image in images]\n",
    "    image = block_images(images)\n",
    "print(ndarray2str(image).count('#'))\n",
    "\n",
    "# Part 2\n",
    "image = str2ndarray(initial)\n",
    "for i in range(18):\n",
    "    print(\"Iteration\", )\n",
    "    images = split_image(image)\n",
    "    images = [transform_image(image) for image in images]\n",
    "    image = block_images(images)\n",
    "print(ndarray2str(image).count('#'))"
   ]
  },
  {
   "cell_type": "code",
   "execution_count": null,
   "id": "c42e21be-8361-49b4-812a-479c00ba0151",
   "metadata": {},
   "outputs": [],
   "source": []
  }
 ],
 "metadata": {
  "kernelspec": {
   "display_name": "Python 3 (ipykernel)",
   "language": "python",
   "name": "python3"
  },
  "language_info": {
   "codemirror_mode": {
    "name": "ipython",
    "version": 3
   },
   "file_extension": ".py",
   "mimetype": "text/x-python",
   "name": "python",
   "nbconvert_exporter": "python",
   "pygments_lexer": "ipython3",
   "version": "3.12.3"
  }
 },
 "nbformat": 4,
 "nbformat_minor": 5
}
