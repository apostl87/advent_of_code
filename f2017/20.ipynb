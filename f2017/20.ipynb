{
 "cells": [
  {
   "cell_type": "code",
   "execution_count": 15,
   "id": "adbd0415-152f-4b59-9a8e-435ca6e7d786",
   "metadata": {},
   "outputs": [],
   "source": [
    "import string, copy, re\n",
    "from collections import deque, defaultdict\n",
    "from aoclib import *\n",
    "\n",
    "inp = open(\"20.in\").read().strip()"
   ]
  },
  {
   "cell_type": "code",
   "execution_count": 31,
   "id": "cd7151ea-23f6-4415-b797-000ded486151",
   "metadata": {},
   "outputs": [
    {
     "name": "stdout",
     "output_type": "stream",
     "text": [
      "376\n",
      "574\n"
     ]
    }
   ],
   "source": [
    "# Init\n",
    "def init_p():\n",
    "    arr = []\n",
    "    regex = r'([-]*\\d+)'\n",
    "    for i, line in enumerate(inp.splitlines()):\n",
    "        vals = re.findall(regex, line)\n",
    "        p = tuple(int(x) for x in vals[:3])\n",
    "        v = tuple(int(x) for x in vals[3:6])\n",
    "        a = tuple(int(x) for x in vals[6:])\n",
    "        arr.append({'x': p, 'v': v, 'a': a})\n",
    "    return arr\n",
    "\n",
    "# Part 1\n",
    "particles = init_p()\n",
    "it = 0\n",
    "idx_nearest = []\n",
    "while it < 1000:\n",
    "    it += 1\n",
    "\n",
    "    for p in particles:\n",
    "        p['v'] = tuple(x + y for x, y in zip(p['v'], p['a']))\n",
    "        p['x'] = tuple(x + y for x, y in zip(p['x'], p['v']))\n",
    "\n",
    "idx, dmin = min([(i, p) for i, p in enumerate(particles)], key = lambda p: sum(abs(xi) for xi in p[1]['x']))\n",
    "idx_nearest.append(idx)\n",
    "print(idx)\n",
    "\n",
    "# Part 2\n",
    "particles = init_p()\n",
    "N = len(particles)\n",
    "it = 0\n",
    "\n",
    "while it < 1000:\n",
    "    it += 1\n",
    "\n",
    "    new_particles = []\n",
    "    for p in particles:\n",
    "        p['v'] = tuple(x + y for x, y in zip(p['v'], p['a']))\n",
    "        p['x'] = tuple(x + y for x, y in zip(p['x'], p['v']))\n",
    "\n",
    "    particlesx = [p['x'] for p in particles]\n",
    "    for i, px in enumerate(particlesx):\n",
    "        if particlesx.count(px) == 1:\n",
    "            new_particles.append(particles[i])\n",
    "\n",
    "    particles = new_particles\n",
    "\n",
    "    if it % 100 == 0:\n",
    "        if N == (N := len(particles)):\n",
    "            break\n",
    "\n",
    "print(len(particles))"
   ]
  },
  {
   "cell_type": "code",
   "execution_count": 38,
   "id": "dbf89a7a-e9d1-41c6-9d6f-e0a57e3badf6",
   "metadata": {},
   "outputs": [
    {
     "data": {
      "text/plain": [
       "[]"
      ]
     },
     "execution_count": 38,
     "metadata": {},
     "output_type": "execute_result"
    }
   ],
   "source": [
    "particles"
   ]
  },
  {
   "cell_type": "code",
   "execution_count": 8,
   "id": "6b79a48b-08e3-4ea6-ba60-c4531140e7e3",
   "metadata": {},
   "outputs": [
    {
     "ename": "SyntaxError",
     "evalue": "invalid syntax. Maybe you meant '==' or ':=' instead of '='? (873058137.py, line 1)",
     "output_type": "error",
     "traceback": [
      "\u001b[0;36m  Cell \u001b[0;32mIn[8], line 1\u001b[0;36m\u001b[0m\n\u001b[0;31m    a = 2, b= 3\u001b[0m\n\u001b[0m    ^\u001b[0m\n\u001b[0;31mSyntaxError\u001b[0m\u001b[0;31m:\u001b[0m invalid syntax. Maybe you meant '==' or ':=' instead of '='?\n"
     ]
    }
   ],
   "source": [
    "a = 2, b= 3"
   ]
  },
  {
   "cell_type": "code",
   "execution_count": null,
   "id": "200200a5-f610-4790-9584-931dedc11596",
   "metadata": {},
   "outputs": [],
   "source": []
  }
 ],
 "metadata": {
  "kernelspec": {
   "display_name": "Python 3 (ipykernel)",
   "language": "python",
   "name": "python3"
  },
  "language_info": {
   "codemirror_mode": {
    "name": "ipython",
    "version": 3
   },
   "file_extension": ".py",
   "mimetype": "text/x-python",
   "name": "python",
   "nbconvert_exporter": "python",
   "pygments_lexer": "ipython3",
   "version": "3.12.3"
  }
 },
 "nbformat": 4,
 "nbformat_minor": 5
}
