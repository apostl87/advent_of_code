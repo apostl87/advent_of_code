{
 "cells": [
  {
   "cell_type": "code",
   "execution_count": 65,
   "id": "a1fe1f56-d425-4925-8a02-337f19d67756",
   "metadata": {},
   "outputs": [
    {
     "data": {
      "text/plain": [
       "1868"
      ]
     },
     "execution_count": 65,
     "metadata": {},
     "output_type": "execute_result"
    }
   ],
   "source": [
    "import string, copy, re\n",
    "from collections import deque, defaultdict\n",
    "import numpy as np\n",
    "from aoclib import *\n",
    "\n",
    "inp = open(\"in24.txt\").read().strip()\n",
    "\n",
    "components = set(tuple(int(x) for x in line.split(\"/\")) for line in inp.splitlines())\n",
    "\n",
    "## Slow solution\n",
    "def plug_in_next(chain):\n",
    "    chains = []\n",
    "    for c in components:\n",
    "        if frozenset(c) in set((frozenset(x) for x in chain)):\n",
    "            continue     \n",
    "        if chain[-1][1] in c:\n",
    "            if c[0] == chain[-1][1]:\n",
    "                chains.append(chain + [ [c[0], c[1]] ])\n",
    "            else:\n",
    "                chains.append(chain + [ [c[1], c[0]] ])\n",
    "    if chains:\n",
    "        return chains\n",
    "    else:\n",
    "        return None\n",
    "\n",
    "# Pseudo-component as a starting anchor\n",
    "chains = [[[0, 0]]]\n",
    "finished_chains = []\n",
    "while chains:\n",
    "    new_chains = []\n",
    "    for chain in chains:\n",
    "        grown_chains = plug_in_next(chain)\n",
    "        if grown_chains:\n",
    "            new_chains.extend(grown_chains)\n",
    "        else:\n",
    "            finished_chains.append(chain)\n",
    "    chains = new_chains\n",
    "\n",
    "# Part 1\n",
    "scores = [sum([x + y for x, y in chain]) for ch in finished_chains]\n",
    "print(\"Part 1:\", max(scores))\n",
    "# Part 2\n",
    "max_len = max(len(x) for x in finished_chains)\n",
    "longest_chains = filter(lambda chain: len(chain) == max_len, finished_chains)\n",
    "scores = map(lambda chain: sum([x + y for x, y in chain]), longest_chains)\n",
    "print(\"Part 2:\", max(scores))"
   ]
  },
  {
   "cell_type": "code",
   "execution_count": 89,
   "id": "55310b81-40c6-4f68-bb2e-1d4c04e2816d",
   "metadata": {},
   "outputs": [
    {
     "name": "stdout",
     "output_type": "stream",
     "text": [
      "1868\n",
      "1841\n"
     ]
    }
   ],
   "source": [
    "## Fast solution by u794575248\n",
    "\n",
    "data = []\n",
    "with open('in24.txt', 'r') as f:\n",
    "    for line in f.readlines():\n",
    "        a, b = line.split('/')\n",
    "        data.append((int(a), int(b)))\n",
    "\n",
    "bridge = ([], 0)\n",
    "\n",
    "def run(b, d):\n",
    "    available = [a for a in d if b[1] in a]\n",
    "    if len(available) == 0:\n",
    "        yield b\n",
    "    else:\n",
    "        for a in available:\n",
    "            d_ = d.copy()\n",
    "            d_.remove(a)\n",
    "            for q in run((b[0] + [a], a[0] if b[1] == a[1] else a[1]), d_):\n",
    "                yield q\n",
    "\n",
    "# part 1\n",
    "x = list(map(lambda bridge: sum([a + b for a, b in bridge[0]]), run(bridge, data)))\n",
    "print(max(x))\n",
    "# part 2\n",
    "max_len = max(map(lambda bridge: len(bridge[0]), run(bridge, data)))\n",
    "long = filter(lambda bridge: len(bridge[0]) == max_len, run(bridge, data))\n",
    "print(max(map(lambda bridge: sum([a + b for a, b in bridge[0]]), long)))\n"
   ]
  },
  {
   "cell_type": "code",
   "execution_count": 91,
   "id": "197f3528-b7d5-475c-9dda-3d78c689b1e5",
   "metadata": {},
   "outputs": [
    {
     "name": "stdout",
     "output_type": "stream",
     "text": [
      "1868\n",
      "1841\n"
     ]
    }
   ],
   "source": [
    "# Fast solution by mkeeter\n",
    "def gen_bridges(bridge, components):\n",
    "    bridge = bridge or [(0, 0)]\n",
    "    cur = bridge[-1][1]\n",
    "    for b in components[cur]:\n",
    "        if not ((cur, b) in bridge or (b, cur) in bridge):\n",
    "            new = bridge+[(cur, b)]\n",
    "            yield new\n",
    "            yield from gen_bridges(new, components)\n",
    "\n",
    "def parse_components(input):\n",
    "    components = defaultdict(set)\n",
    "    for l in input.strip().splitlines():\n",
    "        a, b = [int(x) for x in l.split('/')]\n",
    "        components[a].add(b)\n",
    "        components[b].add(a)\n",
    "    return components\n",
    "\n",
    "def solve(input):\n",
    "    components = parse_components(input)\n",
    "    mx = []\n",
    "    for bridge in gen_bridges(None, components):\n",
    "        mx.append((len(bridge), sum(a+b for a, b in bridge)))\n",
    "    return mx\n",
    "\n",
    "solution = solve(inp)\n",
    "part1 = sorted(solution, key=lambda x: x[1])[-1][1]\n",
    "part2 = sorted(solution)[-1][1]\n",
    "print(part1)\n",
    "print(part2)"
   ]
  }
 ],
 "metadata": {
  "kernelspec": {
   "display_name": "Python 3 (ipykernel)",
   "language": "python",
   "name": "python3"
  },
  "language_info": {
   "codemirror_mode": {
    "name": "ipython",
    "version": 3
   },
   "file_extension": ".py",
   "mimetype": "text/x-python",
   "name": "python",
   "nbconvert_exporter": "python",
   "pygments_lexer": "ipython3",
   "version": "3.12.3"
  }
 },
 "nbformat": 4,
 "nbformat_minor": 5
}
