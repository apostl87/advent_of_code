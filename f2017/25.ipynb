{
 "cells": [
  {
   "cell_type": "code",
   "execution_count": 6,
   "id": "f0f52ec5-4106-442f-b46b-0f4ee214eb39",
   "metadata": {},
   "outputs": [],
   "source": [
    "import re\n",
    "from collections import defaultdict"
   ]
  },
  {
   "cell_type": "code",
   "execution_count": 8,
   "id": "7a41d6e3-9ef8-4c2a-b307-056b63bc47d6",
   "metadata": {},
   "outputs": [
    {
     "name": "stdout",
     "output_type": "stream",
     "text": [
      "4230\n"
     ]
    }
   ],
   "source": [
    "# Parsing input manually in this case\n",
    "A, B, C, D, E, F = range(6)\n",
    "\n",
    "states_cv = {\n",
    "    (A, 0): (1, 1, B), # Value to write, move to relative position, next state\n",
    "    (A, 1): (0, -1, D),\n",
    "    (B, 0): (1, 1, C), \n",
    "    (B, 1): (0, 1, F),\n",
    "    (C, 0): (1, -1, C), \n",
    "    (C, 1): (1, -1, A),\n",
    "    (D, 0): (0, -1, E), \n",
    "    (D, 1): (1, 1, A),\n",
    "    (E, 0): (1, -1, A), \n",
    "    (E, 1): (0, 1, B),\n",
    "    (F, 0): (0, 1, C), \n",
    "    (F, 1): (0, 1, E)\n",
    "}\n",
    "\n",
    "N = 12317297\n",
    "state = A\n",
    "slots = defaultdict(int)\n",
    "cursor = 0\n",
    "\n",
    "for i in range(N):\n",
    "    v, m, state = states_cv[(state, slots[cursor])]\n",
    "    slots[cursor] = v\n",
    "    cursor += m\n",
    "\n",
    "print(sum(slots.values()))"
   ]
  }
 ],
 "metadata": {
  "kernelspec": {
   "display_name": "Python 3 (ipykernel)",
   "language": "python",
   "name": "python3"
  },
  "language_info": {
   "codemirror_mode": {
    "name": "ipython",
    "version": 3
   },
   "file_extension": ".py",
   "mimetype": "text/x-python",
   "name": "python",
   "nbconvert_exporter": "python",
   "pygments_lexer": "ipython3",
   "version": "3.12.3"
  }
 },
 "nbformat": 4,
 "nbformat_minor": 5
}
