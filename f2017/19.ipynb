{
 "cells": [
  {
   "cell_type": "code",
   "execution_count": 23,
   "id": "adbd0415-152f-4b59-9a8e-435ca6e7d786",
   "metadata": {},
   "outputs": [],
   "source": [
    "import string, copy\n",
    "from collections import deque, defaultdict\n",
    "from aoclib import *\n",
    "\n",
    "inp = open(\"19.in\").read()\n",
    "testinp = \"\"\"\n",
    "     |          \n",
    "     |  +--+    \n",
    "     A  |  C    \n",
    " F---|----E|--+ \n",
    "     |  |  |  D \n",
    "     +B-+  +--+ \n",
    "\"\"\""
   ]
  },
  {
   "cell_type": "code",
   "execution_count": 29,
   "id": "6d7b9638-79ca-4805-b06b-05c73a29cd76",
   "metadata": {},
   "outputs": [
    {
     "name": "stdout",
     "output_type": "stream",
     "text": [
      "LIWQYKMRP\n",
      "16764\n",
      "[60, 199]\n"
     ]
    }
   ],
   "source": [
    "grid = []\n",
    "for row in inp.splitlines():\n",
    "    grid.append([])\n",
    "    for char in row:\n",
    "        grid[-1].append(char)\n",
    "#print(list2string(grid))\n",
    "\n",
    "# Starting point\n",
    "if '|' in grid[0]:\n",
    "    pos = [grid[0].index('|'), 0]\n",
    "    dir = (0, 1)\n",
    "elif '-' in grid[0]:\n",
    "    pos = [grid[0].index('-'), 0]\n",
    "    dir = (1, 0)\n",
    "\n",
    "letters = []\n",
    "it = 0\n",
    "while True:\n",
    "    it += 1\n",
    "    pos[0] += dir[0]\n",
    "    pos[1] += dir[1]\n",
    "    match grid[pos[1]][pos[0]]:\n",
    "        case \" \":\n",
    "            outoftrack = True\n",
    "            break\n",
    "        case '|' | '-':\n",
    "            pass\n",
    "        case '+':\n",
    "            dir = (dir[1], dir[0])\n",
    "            try:\n",
    "                if grid[pos[1] + dir[1]][pos[0] + dir[0]] == \" \":\n",
    "                    dir = tuple(-x for x in dir)\n",
    "            except:\n",
    "                dir = tuple(-x for x in dir)\n",
    "                \n",
    "        case _:\n",
    "            letters.append(grid[pos[1]][pos[0]])\n",
    "\n",
    "print(''.join(letters))\n",
    "print(it)\n",
    "print(pos)"
   ]
  },
  {
   "cell_type": "code",
   "execution_count": null,
   "id": "cd7151ea-23f6-4415-b797-000ded486151",
   "metadata": {},
   "outputs": [],
   "source": []
  }
 ],
 "metadata": {
  "kernelspec": {
   "display_name": "Python 3 (ipykernel)",
   "language": "python",
   "name": "python3"
  },
  "language_info": {
   "codemirror_mode": {
    "name": "ipython",
    "version": 3
   },
   "file_extension": ".py",
   "mimetype": "text/x-python",
   "name": "python",
   "nbconvert_exporter": "python",
   "pygments_lexer": "ipython3",
   "version": "3.12.3"
  }
 },
 "nbformat": 4,
 "nbformat_minor": 5
}
