{
 "cells": [
  {
   "cell_type": "code",
   "execution_count": 30,
   "id": "7b6ba269-cc82-4ab6-a867-c7cdc5521990",
   "metadata": {},
   "outputs": [],
   "source": [
    "import string, copy\n",
    "from collections import deque, defaultdict\n",
    "\n",
    "inp = open(\"19.in\").read().strip()\n",
    "testinp = \"\"\"\n",
    "snd 1\n",
    "snd 2\n",
    "snd p\n",
    "rcv a\n",
    "rcv b\n",
    "rcv c\n",
    "rcv d\n",
    "\"\"\".strip()\n",
    "\n",
    "instructions = inp.splitlines()"
   ]
  },
  {
   "cell_type": "code",
   "execution_count": 31,
   "id": "4f88f0aa-e62c-43f8-a978-33465dea5fa2",
   "metadata": {},
   "outputs": [],
   "source": [
    "class Program(object):\n",
    "    def __init__(self, p):\n",
    "        self.registers = defaultdict(int)\n",
    "        self.registers['p'] = p\n",
    "        self.pointer = 0\n",
    "        self.q = []\n",
    "\n",
    "    def __str__(self):\n",
    "        for k, v in self.registers.items():\n",
    "            print(str(k) + \": \" + str(v))\n",
    "\n",
    "    def run(self):\n",
    "        while 0 <= self.pointer < len(instructions):\n",
    "\n",
    "            line = instructions[self.pointer]\n",
    "            p = line.split()\n",
    "\n",
    "            try:\n",
    "                val = int(p[-1])\n",
    "            except:\n",
    "                val = self.registers[p[-1]]\n",
    "\n",
    "            #print(p, self.registers['p'], val)\n",
    "                \n",
    "            match p[0]:\n",
    "                case 'snd':\n",
    "                    self.pointer += 1\n",
    "                    return val\n",
    "                case 'set':\n",
    "                    self.registers[p[1]] = val\n",
    "                case 'add':\n",
    "                    self.registers[p[1]] += val\n",
    "                case 'mul':\n",
    "                    self.registers[p[1]] *= val\n",
    "                case 'mod':\n",
    "                    self.registers[p[1]] %= val\n",
    "                case 'rcv':\n",
    "                    if self.q:\n",
    "                        self.registers[p[-1]] = self.q.pop(0)\n",
    "                    else:\n",
    "                        return None\n",
    "                    \n",
    "                case 'jgz':\n",
    "                    try:\n",
    "                        if int(p[1]) > 0:\n",
    "                            self.pointer += val\n",
    "                            continue\n",
    "                    except:\n",
    "                        if self.registers[p[1]] > 0:\n",
    "                            self.pointer += val\n",
    "                            continue\n",
    "            self.pointer += 1"
   ]
  },
  {
   "cell_type": "code",
   "execution_count": 44,
   "id": "8244a54a-1711-4dae-8863-a35626b48b60",
   "metadata": {},
   "outputs": [
    {
     "name": "stdout",
     "output_type": "stream",
     "text": [
      "deadlock\n",
      "7620\n"
     ]
    }
   ],
   "source": [
    "prog1 = Program(0)\n",
    "prog2 = Program(1)\n",
    "\n",
    "result = 0\n",
    "while True:\n",
    "    if res1 := prog1.run():\n",
    "        prog2.q.append(res1)\n",
    "    if res2 := prog2.run():\n",
    "        result += 1\n",
    "        prog1.q.append(res2)\n",
    "    if not res1 and not res1 and not prog1.q and not prog2.q:\n",
    "        print(\"deadlock\")\n",
    "        break\n",
    "\n",
    "print(result)"
   ]
  }
 ],
 "metadata": {
  "kernelspec": {
   "display_name": "Python 3 (ipykernel)",
   "language": "python",
   "name": "python3"
  },
  "language_info": {
   "codemirror_mode": {
    "name": "ipython",
    "version": 3
   },
   "file_extension": ".py",
   "mimetype": "text/x-python",
   "name": "python",
   "nbconvert_exporter": "python",
   "pygments_lexer": "ipython3",
   "version": "3.12.3"
  }
 },
 "nbformat": 4,
 "nbformat_minor": 5
}
