{
 "cells": [
  {
   "cell_type": "code",
   "execution_count": 1,
   "id": "b047930c-632d-4155-a16f-f755ec8ef860",
   "metadata": {},
   "outputs": [],
   "source": [
    "import string, copy, re\n",
    "from collections import deque, defaultdict\n",
    "from aoclib import *\n",
    "import numpy as np\n",
    "\n",
    "inp = open(\"in22.txt\").read().strip()"
   ]
  },
  {
   "cell_type": "code",
   "execution_count": 32,
   "id": "c42e21be-8361-49b4-812a-479c00ba0151",
   "metadata": {},
   "outputs": [
    {
     "name": "stdout",
     "output_type": "stream",
     "text": [
      "5433\n"
     ]
    }
   ],
   "source": [
    "# Part 1\n",
    "grid = defaultdict(lambda: False)\n",
    "for y, row in enumerate(inp.splitlines()):\n",
    "    for x, char in enumerate(row):\n",
    "        if char == '#':\n",
    "            grid[x + 1j*y] = True\n",
    "\n",
    "# Simulation\n",
    "carrier_pos = x//2 + (y//2) * 1j\n",
    "direction = -1j\n",
    "result = 0\n",
    "N_part1 = 10_000\n",
    "for i in range(N_part1):\n",
    "    if grid[carrier_pos] == True:\n",
    "        direction *= 1j\n",
    "        grid[carrier_pos] = False\n",
    "    else:\n",
    "        result += 1\n",
    "        direction *= -1j\n",
    "        grid[carrier_pos] = True\n",
    "    carrier_pos += direction\n",
    "    \n",
    "print(result)"
   ]
  },
  {
   "cell_type": "code",
   "execution_count": 33,
   "id": "cbba24b0-2cfa-41b6-b1c9-c9d77ce70c7c",
   "metadata": {},
   "outputs": [
    {
     "name": "stdout",
     "output_type": "stream",
     "text": [
      "2512599\n"
     ]
    }
   ],
   "source": [
    "# Part 2\n",
    "grid = defaultdict(lambda: 'clean')\n",
    "for y, row in enumerate(inp.splitlines()):\n",
    "    for x, char in enumerate(row):\n",
    "        if char == '#':\n",
    "            grid[x + 1j*y] = 'infected'\n",
    "\n",
    "# Simulation\n",
    "carrier_pos = x//2 + (y//2) * 1j\n",
    "direction = -1j\n",
    "N_part2 = 10_000_000\n",
    "result2 = 0\n",
    "for i in range(N_part2):\n",
    "    match grid[carrier_pos]:\n",
    "        case 'infected':\n",
    "            direction *= 1j\n",
    "            grid[carrier_pos] = 'flagged'\n",
    "        case 'clean':\n",
    "            direction *= -1j\n",
    "            grid[carrier_pos] = 'weakened'\n",
    "        case 'weakened':\n",
    "            result2 += 1\n",
    "            grid[carrier_pos] = 'infected'\n",
    "        case 'flagged':\n",
    "            direction *= -1\n",
    "            grid[carrier_pos] = 'clean'\n",
    "    carrier_pos += direction\n",
    "    \n",
    "print(result2)"
   ]
  },
  {
   "cell_type": "code",
   "execution_count": null,
   "id": "47cff681-6f69-4c33-8f79-ff0a1ea2e07e",
   "metadata": {},
   "outputs": [],
   "source": []
  }
 ],
 "metadata": {
  "kernelspec": {
   "display_name": "Python 3 (ipykernel)",
   "language": "python",
   "name": "python3"
  },
  "language_info": {
   "codemirror_mode": {
    "name": "ipython",
    "version": 3
   },
   "file_extension": ".py",
   "mimetype": "text/x-python",
   "name": "python",
   "nbconvert_exporter": "python",
   "pygments_lexer": "ipython3",
   "version": "3.12.3"
  }
 },
 "nbformat": 4,
 "nbformat_minor": 5
}
