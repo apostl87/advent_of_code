{
 "cells": [
  {
   "cell_type": "code",
   "execution_count": 40,
   "id": "244662ba-fa46-4a1d-905f-4ca92f91e340",
   "metadata": {},
   "outputs": [],
   "source": [
    "from itertools import cycle\n",
    "import numpy as np\n",
    "from aoclib import list2string\n",
    "\n",
    "lines = open('13.txt').read().strip()"
   ]
  },
  {
   "cell_type": "code",
   "execution_count": 41,
   "id": "eb074a5b-7a31-4a8e-be18-ad664441ddec",
   "metadata": {},
   "outputs": [
    {
     "name": "stdout",
     "output_type": "stream",
     "text": [
      "3966\n"
     ]
    }
   ],
   "source": [
    "timestamp, inservice = lines.splitlines()\n",
    "timestamp = int(timestamp)\n",
    "inservice = inservice.split(\",\")\n",
    "inservice = [int(x) for x in inservice if x.isnumeric()]\n",
    "min_waittime = np.infty\n",
    "for id in inservice:\n",
    "    waittime = id - timestamp % id\n",
    "    if waittime < min_waittime:\n",
    "        min_waittime = waittime\n",
    "        result = waittime * id\n",
    "print(result)"
   ]
  },
  {
   "cell_type": "code",
   "execution_count": 62,
   "id": "86baf730-fc0b-4458-a879-4360919d9447",
   "metadata": {},
   "outputs": [
    {
     "name": "stdout",
     "output_type": "stream",
     "text": [
      "800177252346225\n"
     ]
    }
   ],
   "source": [
    "# Part 2\n",
    "timestamp, ids = lines.splitlines()\n",
    "timestamp = int(timestamp)\n",
    "ids = ids.split(\",\")\n",
    "ids = [int(x) if x.isnumeric() else x for x in ids]\n",
    "\n",
    "timestamp = ids[0]\n",
    "period = ids[0]\n",
    "aligned = 1\n",
    "while True:\n",
    "    timestamp += period\n",
    "    invalid = False\n",
    "    for i, id in enumerate(ids[aligned:], start = aligned):\n",
    "        if id == 'x':\n",
    "            aligned += 1\n",
    "        elif (timestamp + i) % id == 0:\n",
    "            aligned += 1\n",
    "            period *= id\n",
    "        else:\n",
    "            break\n",
    "    if aligned == len(ids):\n",
    "        print(timestamp)\n",
    "        break"
   ]
  },
  {
   "cell_type": "code",
   "execution_count": null,
   "id": "e1b56f59-f4db-42d0-bbac-d4391995c65d",
   "metadata": {},
   "outputs": [],
   "source": []
  }
 ],
 "metadata": {
  "kernelspec": {
   "display_name": "Python 3 (ipykernel)",
   "language": "python",
   "name": "python3"
  },
  "language_info": {
   "codemirror_mode": {
    "name": "ipython",
    "version": 3
   },
   "file_extension": ".py",
   "mimetype": "text/x-python",
   "name": "python",
   "nbconvert_exporter": "python",
   "pygments_lexer": "ipython3",
   "version": "3.12.3"
  }
 },
 "nbformat": 4,
 "nbformat_minor": 5
}
