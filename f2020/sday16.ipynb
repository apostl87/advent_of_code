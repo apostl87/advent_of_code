{
 "cells": [
  {
   "cell_type": "code",
   "execution_count": 54,
   "id": "244662ba-fa46-4a1d-905f-4ca92f91e340",
   "metadata": {},
   "outputs": [],
   "source": [
    "import numpy as np, re\n",
    "from itertools import cycle, combinations\n",
    "from collections import defaultdict\n",
    "from aoclib import list2string\n",
    "import copy\n",
    "\n",
    "lines = open('16.txt').read().strip()\n",
    "rules, myticket, nearbytickets = lines.split(\"\\n\\n\")"
   ]
  },
  {
   "cell_type": "code",
   "execution_count": 55,
   "id": "e1b56f59-f4db-42d0-bbac-d4391995c65d",
   "metadata": {},
   "outputs": [
    {
     "name": "stdout",
     "output_type": "stream",
     "text": [
      "23954\n"
     ]
    }
   ],
   "source": [
    "# Part 1\n",
    "ranges = set()\n",
    "for rule in rules.splitlines():\n",
    "    x = re.findall(r'(\\d+\\-\\d+) or (\\d+\\-\\d+)', rule)\n",
    "    for range_ in x[0]:\n",
    "        ranges.add(tuple([int(y) for y in range_.split(\"-\")]))\n",
    "    #[ranges.append(list(range_.split(\"-\")) for range_ in x[0])]\n",
    "result = 0\n",
    "for ticket in nearbytickets.splitlines()[1:]:\n",
    "    numbers = [int(x) for x in ticket.split(\",\")]\n",
    "    for number in numbers:\n",
    "        if not any([low <= number <= hi for (low, hi) in ranges]):\n",
    "            result += number\n",
    "print(result)\n",
    "\n",
    "# Valid tickets (for part 2)\n",
    "validtickets = []\n",
    "for ticket in nearbytickets.splitlines()[1:]:\n",
    "    valid = True\n",
    "    numbers = [int(x) for x in ticket.split(\",\")]\n",
    "    for number in numbers:\n",
    "        if not any([low <= number <= hi for (low, hi) in ranges]):\n",
    "            result += number\n",
    "            valid = False\n",
    "    if valid:\n",
    "        validtickets.append(numbers)"
   ]
  },
  {
   "cell_type": "code",
   "execution_count": 77,
   "id": "2bdd8f49-1456-4f48-98ce-aa06054b347f",
   "metadata": {},
   "outputs": [
    {
     "name": "stdout",
     "output_type": "stream",
     "text": [
      "453459307723\n"
     ]
    }
   ],
   "source": [
    "# Part 2\n",
    "ranges = defaultdict(list)\n",
    "for rule in rules.splitlines():\n",
    "    field = rule.split(\":\")[0]\n",
    "    x = re.findall(r'(\\d+\\-\\d+) or (\\d+\\-\\d+)', rule)\n",
    "    for range_ in x[0]:\n",
    "        ranges[field].append(tuple([int(y) for y in range_.split(\"-\")]))\n",
    "    #[ranges.append(list(range_.split(\"-\")) for range_ in x[0])]\n",
    "\n",
    "candidates = dict()\n",
    "for field in ranges:\n",
    "    (low1, hi1), (low2, hi2) = ranges[field][0], ranges[field][1]\n",
    "    valid_indices = set(range(len(validtickets[0])))\n",
    "    for ticket in validtickets:\n",
    "        #numbers = [int(x) for x in ticket.split(\",\")]\n",
    "        valid_indices &= set([i for i, n in enumerate(ticket) if(low1 <= n <= hi1 or low2 <= n <= hi2)])\n",
    "    candidates[field] = valid_indices\n",
    "\n",
    "last_set = set()\n",
    "correct_position = dict()\n",
    "for (field, candidates) in sorted(candidates.items(), key = lambda x: len(x[1])):\n",
    "    correct_position[field] = (candidates - last_set).pop()\n",
    "    last_set = candidates\n",
    "\n",
    "mynumbers = myticket.splitlines()[-1].split(\",\")\n",
    "product = 1\n",
    "for field in correct_position:\n",
    "    if \"departure\" == field[:9]:\n",
    "        product *= int(mynumbers[correct_position[field]])\n",
    "print(product)"
   ]
  },
  {
   "cell_type": "code",
   "execution_count": 75,
   "id": "3cf4562e-9e6f-4d9c-9d27-7181c25edd28",
   "metadata": {},
   "outputs": [
    {
     "data": {
      "text/plain": [
       "['131',\n",
       " '67',\n",
       " '137',\n",
       " '61',\n",
       " '149',\n",
       " '107',\n",
       " '109',\n",
       " '79',\n",
       " '71',\n",
       " '127',\n",
       " '173',\n",
       " '157',\n",
       " '167',\n",
       " '139',\n",
       " '151',\n",
       " '163',\n",
       " '59',\n",
       " '53',\n",
       " '113',\n",
       " '73']"
      ]
     },
     "execution_count": 75,
     "metadata": {},
     "output_type": "execute_result"
    }
   ],
   "source": []
  },
  {
   "cell_type": "code",
   "execution_count": 71,
   "id": "74f847e5-6aac-4831-80de-a4f737038df9",
   "metadata": {},
   "outputs": [
    {
     "data": {
      "text/plain": [
       "[('arrival station', {6}),\n",
       " ('train', {6, 10}),\n",
       " ('seat', {4, 6, 10}),\n",
       " ('row', {4, 6, 9, 10}),\n",
       " ('type', {4, 6, 9, 10, 17}),\n",
       " ('arrival platform', {4, 6, 9, 10, 16, 17}),\n",
       " ('wagon', {4, 5, 6, 9, 10, 16, 17}),\n",
       " ('zone', {2, 4, 5, 6, 9, 10, 16, 17}),\n",
       " ('arrival track', {2, 4, 5, 6, 9, 10, 16, 17, 18}),\n",
       " ('departure date', {2, 4, 5, 6, 9, 10, 14, 16, 17, 18}),\n",
       " ('departure location', {1, 2, 4, 5, 6, 9, 10, 14, 16, 17, 18}),\n",
       " ('departure station', {1, 2, 3, 4, 5, 6, 9, 10, 14, 16, 17, 18}),\n",
       " ('departure time', {0, 1, 2, 3, 4, 5, 6, 9, 10, 14, 16, 17, 18}),\n",
       " ('departure track', {0, 1, 2, 3, 4, 5, 6, 7, 9, 10, 14, 16, 17, 18}),\n",
       " ('departure platform', {0, 1, 2, 3, 4, 5, 6, 7, 8, 9, 10, 14, 16, 17, 18}),\n",
       " ('duration', {0, 1, 2, 3, 4, 5, 6, 7, 8, 9, 10, 13, 14, 16, 17, 18}),\n",
       " ('arrival location',\n",
       "  {0, 1, 2, 3, 4, 5, 6, 7, 8, 9, 10, 12, 13, 14, 16, 17, 18}),\n",
       " ('price', {0, 1, 2, 3, 4, 5, 6, 7, 8, 9, 10, 12, 13, 14, 15, 16, 17, 18}),\n",
       " ('route', {0, 1, 2, 3, 4, 5, 6, 7, 8, 9, 10, 12, 13, 14, 15, 16, 17, 18, 19}),\n",
       " ('class',\n",
       "  {0, 1, 2, 3, 4, 5, 6, 7, 8, 9, 10, 11, 12, 13, 14, 15, 16, 17, 18, 19})]"
      ]
     },
     "execution_count": 71,
     "metadata": {},
     "output_type": "execute_result"
    }
   ],
   "source": [
    "sorted(candidates.items(), key = lambda x: len(x[1]))"
   ]
  },
  {
   "cell_type": "code",
   "execution_count": 29,
   "id": "98391b6e-4ac4-4fd6-8fa5-0257405b860d",
   "metadata": {},
   "outputs": [
    {
     "name": "stdout",
     "output_type": "stream",
     "text": [
      "18929178\n"
     ]
    }
   ],
   "source": [
    "class: 0-1 or 4-19\n",
    "row: 0-5 or 8-19\n",
    "seat: 0-13 or 16-19\n",
    "\n",
    "your ticket:\n",
    "11,12,13\n",
    "\n",
    "nearby tickets:\n",
    "3,9,18\n",
    "15,1,5\n",
    "5,14,9"
   ]
  },
  {
   "cell_type": "code",
   "execution_count": 50,
   "id": "84c9459e-c316-4583-88a1-845222a628b4",
   "metadata": {},
   "outputs": [
    {
     "data": {
      "text/plain": [
       "(1, 2)"
      ]
     },
     "execution_count": 50,
     "metadata": {},
     "output_type": "execute_result"
    }
   ],
   "source": [
    "a = set((1, 2))\n",
    "a.pop(), a.pop()"
   ]
  },
  {
   "cell_type": "code",
   "execution_count": 60,
   "id": "42bc2dec-e9ed-42e9-a3d9-e2a460cc70d8",
   "metadata": {},
   "outputs": [
    {
     "data": {
      "text/plain": [
       "{0, 1, 2, 3, 4, 5}"
      ]
     },
     "execution_count": 60,
     "metadata": {},
     "output_type": "execute_result"
    }
   ],
   "source": [
    "set(range(6))"
   ]
  },
  {
   "cell_type": "code",
   "execution_count": null,
   "id": "1cfd837f-df94-4295-94e7-abbfe78dbbb7",
   "metadata": {},
   "outputs": [],
   "source": []
  }
 ],
 "metadata": {
  "kernelspec": {
   "display_name": "Python 3 (ipykernel)",
   "language": "python",
   "name": "python3"
  },
  "language_info": {
   "codemirror_mode": {
    "name": "ipython",
    "version": 3
   },
   "file_extension": ".py",
   "mimetype": "text/x-python",
   "name": "python",
   "nbconvert_exporter": "python",
   "pygments_lexer": "ipython3",
   "version": "3.12.3"
  }
 },
 "nbformat": 4,
 "nbformat_minor": 5
}
