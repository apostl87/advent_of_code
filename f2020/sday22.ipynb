{
 "cells": [
  {
   "cell_type": "code",
   "execution_count": 53,
   "id": "0aa42a41-1a23-4e6a-be03-e8d903153297",
   "metadata": {},
   "outputs": [],
   "source": [
    "import numpy as np, re\n",
    "from itertools import cycle\n",
    "from aoclib import list2string\n",
    "\n",
    "lines = open('22.txt').read().strip()"
   ]
  },
  {
   "cell_type": "code",
   "execution_count": 54,
   "id": "cec9439b-557f-4ce1-b0f3-88c714804e6d",
   "metadata": {},
   "outputs": [
    {
     "name": "stdout",
     "output_type": "stream",
     "text": [
      "33098\n"
     ]
    }
   ],
   "source": [
    "deck1, deck2 = lines.split(\"\\n\\n\")\n",
    "deck1 = [int(x) for x in re.findall(r'\\d+', deck1)][1:]\n",
    "deck2 = [int(x) for x in re.findall(r'\\d+', deck2)][1:]\n",
    "\n",
    "wins = [0, 0]\n",
    "\n",
    "while deck1 and deck2:\n",
    "    d1, d2 = deck1.pop(0), deck2.pop(0)\n",
    "    if d1 > d2:\n",
    "        wins[0] += 1\n",
    "        deck1 += sorted([d1, d2], reverse = True)\n",
    "    else:\n",
    "        wins[1] += 1\n",
    "        deck2 += sorted([d1, d2], reverse = True)\n",
    "\n",
    "if deck1:\n",
    "    winning_deck = deck1\n",
    "else:\n",
    "    winning_deck = deck2\n",
    "    \n",
    "print(sum(x*y for x, y in zip(winning_deck, range(len(winning_deck), 0, -1))))"
   ]
  },
  {
   "cell_type": "code",
   "execution_count": 55,
   "id": "5244eb12-d46d-45e5-9707-05e2e922e193",
   "metadata": {},
   "outputs": [
    {
     "name": "stdout",
     "output_type": "stream",
     "text": [
      "Player 1 with score = 35055\n"
     ]
    }
   ],
   "source": [
    "deck1, deck2 = lines.split(\"\\n\\n\")\n",
    "deck1 = [int(x) for x in re.findall(r'\\d+', deck1)][1:]\n",
    "deck2 = [int(x) for x in re.findall(r'\\d+', deck2)][1:]\n",
    "global i\n",
    "i = 1\n",
    "def winner(deck1, deck2, gamenumber):\n",
    "    global i\n",
    "    history = set()\n",
    "    #print(gamenumber)\n",
    "    while deck1 and deck2:\n",
    "        if (tuple(deck1), tuple(deck2)) in history:\n",
    "            return 1, 0\n",
    "        history.add((tuple(deck1), tuple(deck2)))\n",
    "        d1, d2 = deck1.pop(0), deck2.pop(0)\n",
    "        if len(deck1) >= d1 and len(deck2) >= d2:\n",
    "            winner_, _ = winner(deck1[:d1].copy(), deck2[:d2].copy(), i:=i+1)\n",
    "        else:\n",
    "            winner_ = 1 if d1 > d2 else 2\n",
    "        if winner_ == 1:\n",
    "            deck1 += [d1, d2]\n",
    "        else:\n",
    "            deck2 += [d2, d1]\n",
    "    \n",
    "    if deck1:\n",
    "        winning_deck, p = deck1, 1\n",
    "    else:\n",
    "        winning_deck, p = deck2, 2\n",
    "        \n",
    "    return p, sum(x*y for x, y in zip(winning_deck, range(len(winning_deck), 0, -1)))\n",
    "\n",
    "p, sum_ = winner(deck1, deck2, 1)\n",
    "print(\"Player\", p, \"with score =\", sum_)"
   ]
  },
  {
   "cell_type": "code",
   "execution_count": null,
   "id": "7fba2327-cccb-4cc8-b10d-61581a42c28b",
   "metadata": {},
   "outputs": [],
   "source": []
  }
 ],
 "metadata": {
  "kernelspec": {
   "display_name": "Python 3 (ipykernel)",
   "language": "python",
   "name": "python3"
  },
  "language_info": {
   "codemirror_mode": {
    "name": "ipython",
    "version": 3
   },
   "file_extension": ".py",
   "mimetype": "text/x-python",
   "name": "python",
   "nbconvert_exporter": "python",
   "pygments_lexer": "ipython3",
   "version": "3.12.3"
  }
 },
 "nbformat": 4,
 "nbformat_minor": 5
}
