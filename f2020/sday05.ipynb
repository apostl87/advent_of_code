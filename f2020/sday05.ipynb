{
 "cells": [
  {
   "cell_type": "code",
   "execution_count": 25,
   "id": "244662ba-fa46-4a1d-905f-4ca92f91e340",
   "metadata": {},
   "outputs": [],
   "source": [
    "import re\n",
    "lines = open('05.txt').read().strip()"
   ]
  },
  {
   "cell_type": "code",
   "execution_count": 26,
   "id": "fd87b123-f65a-4668-b4db-7db5789b6cfe",
   "metadata": {},
   "outputs": [
    {
     "name": "stdout",
     "output_type": "stream",
     "text": [
      "(108, 0) Seat ID: 864\n"
     ]
    }
   ],
   "source": [
    "# Part 1\n",
    "occ = set()\n",
    "for line in lines.splitlines():\n",
    "    row = 0\n",
    "    for i in range(7):\n",
    "        if line[i] == 'B':\n",
    "            row += 2**(6-i)\n",
    "    column = 0\n",
    "    for i in range(7, 10):\n",
    "        if line[i] == 'R':\n",
    "            column += 2**(9-i)\n",
    "    occ.add((row, column))\n",
    "print(max(occ, key = lambda x: x[0]*8 + x[1]), \"Seat ID:\", max([x[0]*8 + x[1] for x in occ]))"
   ]
  },
  {
   "cell_type": "code",
   "execution_count": 27,
   "id": "61f13991-fb25-4017-94af-591e671d0bd9",
   "metadata": {},
   "outputs": [
    {
     "name": "stdout",
     "output_type": "stream",
     "text": [
      "{739}\n"
     ]
    }
   ],
   "source": [
    "# Part 2\n",
    "seatids = set([x[0]*8 + x[1] for x in occ])\n",
    "min_, max_ = min(seatids), max(seatids)\n",
    "allnumbers = set(range(min_, max_))\n",
    "print(allnumbers - seatids)"
   ]
  },
  {
   "cell_type": "code",
   "execution_count": null,
   "id": "5415dbe3-b3da-4373-b33b-bcbf555b3ee0",
   "metadata": {},
   "outputs": [],
   "source": []
  }
 ],
 "metadata": {
  "kernelspec": {
   "display_name": "Python 3 (ipykernel)",
   "language": "python",
   "name": "python3"
  },
  "language_info": {
   "codemirror_mode": {
    "name": "ipython",
    "version": 3
   },
   "file_extension": ".py",
   "mimetype": "text/x-python",
   "name": "python",
   "nbconvert_exporter": "python",
   "pygments_lexer": "ipython3",
   "version": "3.12.3"
  }
 },
 "nbformat": 4,
 "nbformat_minor": 5
}
