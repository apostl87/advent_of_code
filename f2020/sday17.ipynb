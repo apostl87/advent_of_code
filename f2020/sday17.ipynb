{
 "cells": [
  {
   "cell_type": "code",
   "execution_count": 39,
   "id": "244662ba-fa46-4a1d-905f-4ca92f91e340",
   "metadata": {},
   "outputs": [],
   "source": [
    "import numpy as np, re\n",
    "from itertools import cycle, combinations, product\n",
    "from collections import defaultdict\n",
    "from aoclib import list2string\n",
    "import copy\n",
    "\n",
    "lines = open('17.txt').read().strip()\n",
    "#lines = \".#.\\n..#\\n###\""
   ]
  },
  {
   "cell_type": "code",
   "execution_count": 40,
   "id": "170d8086-b6b4-4f32-9cc6-69a376c123d9",
   "metadata": {},
   "outputs": [
    {
     "name": "stdout",
     "output_type": "stream",
     "text": [
      "112\n"
     ]
    }
   ],
   "source": [
    "# Part 1\n",
    "# init\n",
    "active_cubes = set()\n",
    "for i, line in enumerate(lines.splitlines()):\n",
    "    for j, char in enumerate(line):\n",
    "        if char == '#':\n",
    "            active_cubes.add((0, i, j))\n",
    "neighbors_rel = set(product((1, 0, -1), (1, 0, -1), (1, 0, -1)))\n",
    "neighbors_rel.remove((0, 0, 0))\n",
    "# calc\n",
    "step = 0\n",
    "while True:\n",
    "    new_active_cubes = set()\n",
    "    for z in range(min(w[0] for w in active_cubes) - 1, max(w[0] for w in active_cubes) + 2):\n",
    "        for y in range(min(w[1] for w in active_cubes) - 1, max(w[1] for w in active_cubes) + 2):\n",
    "            for x in range(min(w[2] for w in active_cubes) - 1, max(w[2] for w in active_cubes) + 2):\n",
    "                neighbors = set([(z + z_, y + y_, x + x_) for (z_, y_, x_) in neighbors_rel])\n",
    "                num_active = len(neighbors & active_cubes)\n",
    "                if (z, y, x) in active_cubes and num_active in [2, 3]:\n",
    "                    new_active_cubes.add((z, y, x))\n",
    "                elif (z, y, x) not in active_cubes and num_active == 3:\n",
    "                    new_active_cubes.add((z, y, x))\n",
    "    active_cubes = new_active_cubes\n",
    "    step += 1\n",
    "    if step == 6:\n",
    "        break\n",
    "print(len(active_cubes))"
   ]
  },
  {
   "cell_type": "code",
   "execution_count": 41,
   "id": "baab463f-b878-4e4d-aaa9-2ff09d1a3316",
   "metadata": {},
   "outputs": [
    {
     "name": "stdout",
     "output_type": "stream",
     "text": [
      "848\n"
     ]
    }
   ],
   "source": [
    "# Part 1\n",
    "# init\n",
    "active_cubes = set()\n",
    "for i, line in enumerate(lines.splitlines()):\n",
    "    for j, char in enumerate(line):\n",
    "        if char == '#':\n",
    "            active_cubes.add((0, 0, i, j))\n",
    "neighbors_rel = set(product((1, 0, -1), (1, 0, -1), (1, 0, -1), (1, 0, -1)))\n",
    "neighbors_rel.remove((0, 0, 0, 0))\n",
    "# calc\n",
    "step = 0\n",
    "while True:\n",
    "    new_active_cubes = set()\n",
    "    for z in range(min(w[0] for w in active_cubes) - 1, max(w[0] for w in active_cubes) + 2):\n",
    "        for y in range(min(w[1] for w in active_cubes) - 1, max(w[1] for w in active_cubes) + 2):\n",
    "            for x in range(min(w[2] for w in active_cubes) - 1, max(w[2] for w in active_cubes) + 2):\n",
    "                for v in range(min(w[3] for w in active_cubes) - 1, max(w[3] for w in active_cubes) + 2):\n",
    "                    neighbors = set([(z + z_, y + y_, x + x_, v + v_) for (z_, y_, x_, v_) in neighbors_rel])\n",
    "                    num_active = len(neighbors & active_cubes)\n",
    "                    if (z, y, x, v) in active_cubes and num_active in [2, 3]:\n",
    "                        new_active_cubes.add((z, y, x, v))\n",
    "                    elif (z, y, x, v) not in active_cubes and num_active == 3:\n",
    "                        new_active_cubes.add((z, y, x, v))\n",
    "    active_cubes = new_active_cubes\n",
    "    step += 1\n",
    "    if step == 6:\n",
    "        break\n",
    "print(len(active_cubes))"
   ]
  },
  {
   "cell_type": "code",
   "execution_count": null,
   "id": "a880f2ab-0b0e-46c7-9c44-2c91ba9a3717",
   "metadata": {},
   "outputs": [],
   "source": []
  }
 ],
 "metadata": {
  "kernelspec": {
   "display_name": "Python 3 (ipykernel)",
   "language": "python",
   "name": "python3"
  },
  "language_info": {
   "codemirror_mode": {
    "name": "ipython",
    "version": 3
   },
   "file_extension": ".py",
   "mimetype": "text/x-python",
   "name": "python",
   "nbconvert_exporter": "python",
   "pygments_lexer": "ipython3",
   "version": "3.12.3"
  }
 },
 "nbformat": 4,
 "nbformat_minor": 5
}
