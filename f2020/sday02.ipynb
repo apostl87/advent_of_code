{
 "cells": [
  {
   "cell_type": "code",
   "execution_count": 10,
   "id": "244662ba-fa46-4a1d-905f-4ca92f91e340",
   "metadata": {},
   "outputs": [
    {
     "name": "stdout",
     "output_type": "stream",
     "text": [
      "556\n",
      "605\n"
     ]
    }
   ],
   "source": [
    "import re\n",
    "\n",
    "lines = open('02.txt').read().strip().splitlines()\n",
    "\n",
    "result = 0\n",
    "for line in lines:\n",
    "    count, letter, password = line.split()\n",
    "    mincount, maxcount = count.split('-')\n",
    "    letter = letter[0]\n",
    "    if int(mincount) <= password.count(letter) <= int(maxcount):\n",
    "        result += 1\n",
    "print(result)\n",
    "\n",
    "result = 0\n",
    "for line in lines:\n",
    "    pos, letter, password = line.split()\n",
    "    pos1, pos2 = pos.split('-')\n",
    "    letter = letter[0]\n",
    "    valid = False\n",
    "    valid = not valid if password[int(pos1)-1] == letter else valid\n",
    "    valid = not valid if password[int(pos2)-1] == letter else valid\n",
    "    result += 1 if valid else 0\n",
    "print(result)"
   ]
  },
  {
   "cell_type": "code",
   "execution_count": null,
   "id": "1f2ec9fa-5865-4bcd-8626-44f6c6065dbe",
   "metadata": {},
   "outputs": [],
   "source": []
  }
 ],
 "metadata": {
  "kernelspec": {
   "display_name": "Python 3 (ipykernel)",
   "language": "python",
   "name": "python3"
  },
  "language_info": {
   "codemirror_mode": {
    "name": "ipython",
    "version": 3
   },
   "file_extension": ".py",
   "mimetype": "text/x-python",
   "name": "python",
   "nbconvert_exporter": "python",
   "pygments_lexer": "ipython3",
   "version": "3.12.3"
  }
 },
 "nbformat": 4,
 "nbformat_minor": 5
}
