{
 "cells": [
  {
   "cell_type": "code",
   "execution_count": 3,
   "id": "11aa137d-42ca-488d-8945-7baae849920f",
   "metadata": {},
   "outputs": [
    {
     "name": "stdout",
     "output_type": "stream",
     "text": [
      "918339\n",
      "23869440\n"
     ]
    }
   ],
   "source": [
    "from itertools import combinations\n",
    "\n",
    "numbers = []\n",
    "for line in open('01.txt').read().splitlines():\n",
    "    numbers.append(int(line))\n",
    "\n",
    "for c in combinations(numbers, 2):\n",
    "    if sum(c) == 2020:\n",
    "        print(c[0] * c[1])\n",
    "\n",
    "for c in combinations(numbers, 3):\n",
    "    if sum(c) == 2020:\n",
    "        print(c[0] * c[1] * c[2])"
   ]
  },
  {
   "cell_type": "code",
   "execution_count": null,
   "id": "a299bd8b-a5f5-4a1c-844b-f84beb2a24d8",
   "metadata": {},
   "outputs": [],
   "source": []
  },
  {
   "cell_type": "code",
   "execution_count": null,
   "id": "0b9eef09-29ba-457d-8d80-16c7ef839e89",
   "metadata": {},
   "outputs": [],
   "source": []
  }
 ],
 "metadata": {
  "kernelspec": {
   "display_name": "Python 3 (ipykernel)",
   "language": "python",
   "name": "python3"
  },
  "language_info": {
   "codemirror_mode": {
    "name": "ipython",
    "version": 3
   },
   "file_extension": ".py",
   "mimetype": "text/x-python",
   "name": "python",
   "nbconvert_exporter": "python",
   "pygments_lexer": "ipython3",
   "version": "3.12.3"
  }
 },
 "nbformat": 4,
 "nbformat_minor": 5
}
