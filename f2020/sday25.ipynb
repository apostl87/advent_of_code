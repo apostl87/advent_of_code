{
 "cells": [
  {
   "cell_type": "code",
   "execution_count": 28,
   "id": "244662ba-fa46-4a1d-905f-4ca92f91e340",
   "metadata": {},
   "outputs": [],
   "source": [
    "import numpy as np, re\n",
    "from itertools import cycle, combinations, groupby\n",
    "from collections import defaultdict\n",
    "from aoclib import list2string\n",
    "import copy\n",
    "\n",
    "#lines = open('24.txt').read().strip()"
   ]
  },
  {
   "cell_type": "code",
   "execution_count": 39,
   "id": "170d8086-b6b4-4f32-9cc6-69a376c123d9",
   "metadata": {},
   "outputs": [
    {
     "name": "stdout",
     "output_type": "stream",
     "text": [
      "386\n"
     ]
    }
   ],
   "source": [
    "#line = 'sesenwnenenewseeswwswswwnenewsewsw'\n",
    "\n"
   ]
  },
  {
   "cell_type": "code",
   "execution_count": 17,
   "id": "0585cd55-d5c9-4e92-a37b-d35cd1b2823e",
   "metadata": {},
   "outputs": [],
   "source": [
    "x = 2084668\n",
    "y = 3704642\n",
    "\n",
    "def enc_key(public_key, loop_size):\n",
    "    n = 1\n",
    "    for i in range(loop_size):\n",
    "        n = (n * public_key) % 20201227\n",
    "    return n\n",
    "\n",
    "def loop_size(x):\n",
    "    n = 1\n",
    "    i = 0\n",
    "    while n != x:\n",
    "        n = (n * 7) % 20201227\n",
    "        i += 1\n",
    "    return i"
   ]
  },
  {
   "cell_type": "code",
   "execution_count": 18,
   "id": "e081c160-6d38-4b96-90e8-3378c66097c6",
   "metadata": {},
   "outputs": [
    {
     "name": "stdout",
     "output_type": "stream",
     "text": [
      "12419160\n",
      "2115361\n",
      "42668\n",
      "42668\n"
     ]
    }
   ],
   "source": [
    "print(s1 := loop_size(x))\n",
    "print(s2 := loop_size(y))\n",
    "\n",
    "print(enc_key(x, s2))\n",
    "print(enc_key(y, s1))"
   ]
  },
  {
   "cell_type": "code",
   "execution_count": null,
   "id": "986989f0-857e-4acb-9774-4b1937b62a8d",
   "metadata": {},
   "outputs": [],
   "source": []
  },
  {
   "cell_type": "code",
   "execution_count": null,
   "id": "2da801cc-5e8f-4f97-86c2-62d79ab26823",
   "metadata": {},
   "outputs": [],
   "source": []
  }
 ],
 "metadata": {
  "kernelspec": {
   "display_name": "Python 3 (ipykernel)",
   "language": "python",
   "name": "python3"
  },
  "language_info": {
   "codemirror_mode": {
    "name": "ipython",
    "version": 3
   },
   "file_extension": ".py",
   "mimetype": "text/x-python",
   "name": "python",
   "nbconvert_exporter": "python",
   "pygments_lexer": "ipython3",
   "version": "3.12.3"
  }
 },
 "nbformat": 4,
 "nbformat_minor": 5
}
