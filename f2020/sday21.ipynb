{
 "cells": [
  {
   "cell_type": "code",
   "execution_count": 53,
   "id": "0aa42a41-1a23-4e6a-be03-e8d903153297",
   "metadata": {},
   "outputs": [],
   "source": [
    "import numpy as np, re\n",
    "from itertools import cycle\n",
    "from aoclib import list2string\n",
    "\n",
    "lines = open('21.txt').read().strip()"
   ]
  },
  {
   "cell_type": "code",
   "execution_count": 102,
   "id": "cec9439b-557f-4ce1-b0f3-88c714804e6d",
   "metadata": {},
   "outputs": [
    {
     "name": "stdout",
     "output_type": "stream",
     "text": [
      "2779\n",
      "lkv,lfcppl,jhsrjlj,jrhvk,zkls,qjltjd,xslr,rfpbpn\n"
     ]
    }
   ],
   "source": [
    "# Part 1\n",
    "\n",
    "allergens = dict()\n",
    "all_ingredients = []\n",
    "for line in lines.splitlines():\n",
    "    expr = line.split(\" (contains \")\n",
    "    if len(expr) == 2:\n",
    "        ingredients = set(expr[0].split())\n",
    "        allergen_list = [x.strip() for x in expr[-1].strip(\")\").split(\",\")]\n",
    "        for a in allergen_list:\n",
    "            allergens[a] = ingredients if a not in allergens else allergens[a].intersection(ingredients)\n",
    "    elif len(expr) == 1:\n",
    "        ingredients = set(expr.split())\n",
    "    for i in ingredients:\n",
    "        all_ingredients.append(i)\n",
    "\n",
    "while any([len(x) > 1 for x in allergens.values()]):\n",
    "    for a in sorted(allergens, key = lambda x: len(allergens[x])):\n",
    "        if len(allergens[a]) == 1:\n",
    "            for x in allergens:\n",
    "                if x == a:\n",
    "                    continue\n",
    "                allergens[x] -= allergens[a] \n",
    "\n",
    "tolerable = set(all_ingredients)\n",
    "for v in allergens.values():\n",
    "    tolerable -= v\n",
    "\n",
    "result = 0\n",
    "for tol in sorted(tolerable):\n",
    "    result += all_ingredients.count(tol)\n",
    "print(result)\n",
    "\n",
    "# Part 2\n",
    "canonical = ','.join([allergens[x].pop() for x in sorted(allergens)])\n",
    "print(canonical)"
   ]
  },
  {
   "cell_type": "code",
   "execution_count": 100,
   "id": "19fd0952-e5cf-4289-a013-cbaa4dbaf0b3",
   "metadata": {},
   "outputs": [
    {
     "data": {
      "text/plain": [
       "'lkv,lfcppl,jhsrjlj,jrhvk,zkls,qjltjd,xslr,rfpbpn'"
      ]
     },
     "execution_count": 100,
     "metadata": {},
     "output_type": "execute_result"
    }
   ],
   "source": [
    "canonical"
   ]
  },
  {
   "cell_type": "code",
   "execution_count": null,
   "id": "2c60aaf2-ac66-4983-bc11-7e556458e6f5",
   "metadata": {},
   "outputs": [],
   "source": []
  }
 ],
 "metadata": {
  "kernelspec": {
   "display_name": "Python 3 (ipykernel)",
   "language": "python",
   "name": "python3"
  },
  "language_info": {
   "codemirror_mode": {
    "name": "ipython",
    "version": 3
   },
   "file_extension": ".py",
   "mimetype": "text/x-python",
   "name": "python",
   "nbconvert_exporter": "python",
   "pygments_lexer": "ipython3",
   "version": "3.12.3"
  }
 },
 "nbformat": 4,
 "nbformat_minor": 5
}
