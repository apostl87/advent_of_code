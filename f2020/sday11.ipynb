{
 "cells": [
  {
   "cell_type": "code",
   "execution_count": 93,
   "id": "244662ba-fa46-4a1d-905f-4ca92f91e340",
   "metadata": {},
   "outputs": [],
   "source": [
    "import re\n",
    "from collections import defaultdict\n",
    "import copy\n",
    "from itertools import combinations\n",
    "from math import sqrt\n",
    "from aoclib import list2string\n",
    "\n",
    "lines = open('11full.txt').read().strip()"
   ]
  },
  {
   "cell_type": "code",
   "execution_count": 94,
   "id": "eb074a5b-7a31-4a8e-be18-ad664441ddec",
   "metadata": {},
   "outputs": [],
   "source": [
    "area = [list(x) for x in lines.splitlines()]\n",
    "m, n = len(area), len(area[0])\n",
    "\n",
    "def euclidean_distance(y1, x1, y2, x2):\n",
    "    return sqrt((y1-y2)**2 + (x1-x2)**2)\n",
    "def neighbor_positions(c):\n",
    "    return [(y_, x_) for y_ in range(len(area)) for x_ in range(len(area[0])) if 0 < euclidean_distance(*c, y_, x_) < 2 and 0 <= y_ <= m-1 and 0 <= x_ <= n-1]\n",
    "\n",
    "# init\n",
    "seatsmap = {}\n",
    "for y in range(m):\n",
    "    for x in range(n):\n",
    "        if area[y][x] == 'L':\n",
    "            seatsmap[(y, x)] = [(y_, x_) for (y_, x_) in neighbor_positions((y, x)) if area[y_][x_] == 'L']"
   ]
  },
  {
   "cell_type": "code",
   "execution_count": 95,
   "id": "6d560b01-326f-4d92-a9e4-95e0addb5075",
   "metadata": {},
   "outputs": [
    {
     "name": "stdout",
     "output_type": "stream",
     "text": [
      "125\n"
     ]
    }
   ],
   "source": [
    "# Part 1\n",
    "steps = 0\n",
    "while True:\n",
    "    steps += 1\n",
    "    to_occupy, to_free = set(), set()\n",
    "    for seat in seatsmap:\n",
    "        neighbors = 0\n",
    "        for p in seatsmap[seat]:\n",
    "            neighbors += 1 if area[p[0]][p[1]] == '#' else 0\n",
    "            if neighbors == 4: break\n",
    "        if area[seat[0]][seat[1]] == 'L' and neighbors == 0:\n",
    "            to_occupy.add((seat[0],seat[1]))\n",
    "        if area[seat[0]][seat[1]] == '#' and neighbors >= 4:\n",
    "            to_free.add((seat[0], seat[1]))\n",
    "    if len(to_occupy) == 0 and len(to_free) == 0:\n",
    "        break\n",
    "    for seat in to_occupy:\n",
    "        area[seat[0]][seat[1]] = '#'\n",
    "    for seat in to_free:\n",
    "        area[seat[0]][seat[1]] = 'L'\n",
    "print(steps)"
   ]
  },
  {
   "cell_type": "code",
   "execution_count": 96,
   "id": "9e69f347-826d-4f61-a423-e862db00c7cd",
   "metadata": {},
   "outputs": [
    {
     "name": "stdout",
     "output_type": "stream",
     "text": [
      "2494\n"
     ]
    }
   ],
   "source": [
    "print(list2string(area).count('#'))"
   ]
  },
  {
   "cell_type": "code",
   "execution_count": 99,
   "id": "80bd3a5c-e825-40a3-8c2f-200c95b74a4f",
   "metadata": {},
   "outputs": [
    {
     "name": "stdout",
     "output_type": "stream",
     "text": [
      "91\n"
     ]
    }
   ],
   "source": [
    "from itertools import product\n",
    "import sys\n",
    "directions = list(product((1, 0, -1), (1, 0, -1)))\n",
    "directions.remove((0, 0))\n",
    "area = [list(x) for x in lines.splitlines()]\n",
    "\n",
    "# Part 2\n",
    "steps = 0\n",
    "while True:\n",
    "    steps += 1\n",
    "    to_occupy, to_free = set(), set()\n",
    "    for seat in seatsmap:\n",
    "        visible = 0\n",
    "        for dir in directions:\n",
    "            d = 1\n",
    "            while True:\n",
    "                y, x = seat[0] + d * dir[0], seat[1] + d * dir[1]\n",
    "                if not (0 <= y <= m-1 and 0 <= x <= n-1):\n",
    "                    break\n",
    "                if area[y][x] == '#': \n",
    "                    visible += 1\n",
    "                    break\n",
    "                if area[y][x] == 'L':\n",
    "                    break\n",
    "                d += 1\n",
    "            if visible == 5:\n",
    "                break\n",
    "        if area[seat[0]][seat[1]] == 'L' and visible == 0:\n",
    "            to_occupy.add((seat[0],seat[1]))\n",
    "        if area[seat[0]][seat[1]] == '#' and visible >= 5:\n",
    "            to_free.add((seat[0], seat[1]))\n",
    "    if len(to_occupy) == 0 and len(to_free) == 0:\n",
    "        break\n",
    "    for seat in to_occupy:\n",
    "        area[seat[0]][seat[1]] = '#'\n",
    "    for seat in to_free:\n",
    "        area[seat[0]][seat[1]] = 'L'\n",
    "print(steps)"
   ]
  },
  {
   "cell_type": "code",
   "execution_count": 100,
   "id": "ae5dee87-6556-49e4-ab32-54f2ccc80b49",
   "metadata": {},
   "outputs": [
    {
     "name": "stdout",
     "output_type": "stream",
     "text": [
      "2306\n",
      "#L#L#L#.L#L#L#L#L.#L#L#L.#L#L#L#L#L#L.#L#L#L#L#L##L#L.#L#L#L#.L#L#.L#L#.L#L#L#L#L#L#L#L#L.#L#L#L#L#\n",
      "LLLLLLLLLLLLLLLLL.LLLLLLLLLLLLLL.LLLL.LLLLLLLLL.LLLL#.LLLLLLLLLLLL.LLLL.LLLLLLLLLLLLLLLL#.LLLLLLLLL\n",
      "#L#L#L#.L#L#L#L#L#L#L#L#L#L#L#LL.L#LL.#L#L#L#L#.L##LLL#L#L#L#.L#L#.L#L#.L#L#L#L#L#L#L##LLL#L#L#L#L#\n",
      "LLLLLLLLLLLLLLLLL.LLLLLL.LLLLLL#.LLL#.LLLLLLLLL.#LLL#.LLLLLLLLLLLL.LLLL.LLLLLLLL.LLLLL.L#LLLLLLLLLL\n",
      "#L#L#L#.L#L#L#L#LL#L#L#L#L#L#LLL.#L#L.#L#L#L#.L#LL#LL.##L#L#L#L#L#.L#.L#L#L#L#LL.#L#L#LLLL#L#L#L#L#\n",
      "LLLLLLL.#LLLLLLLLLLLLLLLLLLLLL##.LLLL.LLLLLLLLLLLL#L#LLLLLLLL.LLLL.LLLLLLLLLLLL#..LLLL#L#.LLLLLLLLL\n",
      "#L#L#L#.LL#L#L#L#.L#L#L#.L#L#LLLL#L#L.#L#L#L#L#L#LLLL.#L#L#L#.L#L#.LL#L#L#L#L#LL#L#L#LLLL.#L#L#L#L#\n",
      "LLLLLLL.#LLLLLLLLLLLLLLL.#LLLL#LLLLLL.LLLLLLLLL.#L#L#.LLLLLLLLLLLLL#LLL.LLLLLL#L.LLLLL#L#.LLLLLLLLL\n",
      "#L#L#.L.LL#L#L#L#.L#L#L#.LL#L#LL#L#LL.#L#L#L#L#LLLLLL.#L#L#L.#L#L#LLLL#.L#L##LLL.#L##LLLLL#L#L#L#L#\n",
      "..LLL..#.L..LL...LL......#..LL..L..L#........L.....L#LL.L.L.L.........L.L..L.L.....L..#............\n",
      "L#L#L#LLL#L#L#L#L#LL#L#L#LLL#LLL.#L#L.L#L#L#L#L#L##LL.L#L#L#L.#L#L#LL#L.#L#LLL#LLL#LLLLLL.L#L#L#L#L\n",
      "#LLLLLL.#LLLLLLLLLL#.LLL.L#LLL#LLLLLL.LLLLLLLLL.LLLL#.LLLLLLL.LLLLLLLL#.LL#L#LLL#LLLL#L##.LLLLLLLL#\n",
      "LL#L#L#LLL#L#L#L#.LLL#L#.LLL#LLL.#L#L.#L#L.#L#LL#L#LL.L#L#L#L.#LL#.L#LL.#LLLLL#L.LL#LLLLL.#L#L#L#LL\n",
      "#LLLLLL.#LLLLLLLLL##LLL#L#L#LL#LLLLLL.LLLLLLLLL.LLLLL#LLLLLL#.LLLL.LLL#.LL#L#LL#L#LL#L#L#.LLLLLLLL#\n",
      "LL#L#L#.LL#L#L#L#.LLLL#L.LLLLLLL#L#LL.#L#L#L#LL#L#L#L.#L#L#LLL#L#L.#LLL.#LLLL#LLLLLLLLLLLL#L#L#L#LL\n",
      "#LLLLLL.#LLLL.LLL.#L#LLL.L#L#L#LLLLL#.LLLLLLLLL.L#LL#.LLLLLL#.LLL#.LL#L.#L#LLLL#.L#L#L#L#LLLLLLLLL#\n",
      "LLL#L#L#LL#L##L#L.LLLLL#.LLLLLLL.##LL.#L#L#L#L#.LLLLL.#L#L#LL.##LL.#LLLL#LLL##LL.LLLLLLLLL#L#L#L#LL\n",
      "....L..LL...L.L.L.......LL....#.....L..L...L.L.L....#L.L..L...LL...L....L..L...#.............LL..L#\n",
      "#L#L#L#.L#L#LLLL#L#L#L#L#L#L#L#L.LLLL.LLL#L#L#L.#L#LL.L#L#L#L#L#.L.L#LL.##LLLLLL.#L#L#L#L.L#L#L#LLL\n",
      "LLLLLLL.LLLLL#L#L.LLLLLLLLLLLLLL.#L#L.#LLLLLLLLLLLLL#.LLLLLLL.LL#L#LLL#.LLL#L#L#.LLLLLLLL.LLLLLL#L#\n",
      "#L#L#L#.L#L#LLLLL#L#L#L#L#L#L#L#LLLLLLLL#L#L#L#L#L#LLL#L#L#L#L#LLL.L#LL.##LLLLLL.#L#L#L#L.#L#L#LLLL\n",
      "LLLLLLL.#LLLL#L#L.LLLLLL.#LLLLLL.#L#L.#LLLLLLLL.#LLL#LLLLLLLL.LLL#LLLL#LLLL#L#L#LLLLLLLL#.LLLLLL#L#\n",
      "#L#L#.L.LL#L#LLLLL#L#L#L.LL#L#L#.LLLL.LL#L#L#L#.LL#L..L#L#L#L#L#LL.L#LL.L#LLLLLL.L#L#L#LLL#L#L#LLLL\n",
      "LLLLLLL.#LLLLL#L#.LLLLLL.#LLLLLLL#L#L.#LLLLLLLLL#LLLL.LLLLLLL.LLL#.LLL#.LLL#L#L#.LLLLLLL#.LLLLLL#L#\n",
      "#L#L#L#.LL#L#LLLLL#L#L#L.LL#L#L#LLLLL.LL#L#L#L#.LL#L#L#L#L#L#LL#LL#L#LLLL#LLLLLL.L#L#L#LL.#L#L#LLLL\n",
      "LLLLLLL.#LLLLL#L#.LLLLLLL#LLLLLL.#L#L.#LLLLLLLL.#LLLLLLLLLLLLLLLLL.LLL#.LLL#L#L#.LLLLLLL#.LLLLLL#L#\n",
      "#L#L#L#.LL#L#LLLL.##L#L#L.L#L#L#LLLLL.LL#L#L#L#.LL##L.#L#L#L#L#L#L.#.LLL#.LLLLLLL#L#L#LLL#L#L#LLLLL\n",
      "..L...L.#....L........L.......L.L...L..L.LL.........#.......LLL.L#.L...LL....#..L.L.L.L#.....L.....\n",
      "L#L#L#L.LLL#L#L#L.LLLL#L#L#L#L#L#L#L#.L#L#L#L#L.LLLLL.L#L#L#L.L#LL.L#L#.L#L#LLL#.LLLLLLLL.#L#L#L#L#\n",
      "#LLLLLL.#L#LLLLLL.#L#L#L.LLLLLLLLLLLL.#LLLLLLLL.#L#L#.LLLLL#L#LLL#.LLLLLLLLLL#LL.#L#L#L#L.LLLLLLLLL\n",
      "LL#L#L#.LLLL#L#L#.LLLLLLL#L#L#L#L#L#L.LLL#L#L#L.LL#LL.L#L#LLL.L#LL.#L#L#L#L#LLL#.LLLLLLLL.#L#L#L#L#\n",
      "#LLLLLLL#L#LLLLLLL#L#L#L.LLLLLLLLLLLL#L#LLLLLLL.#LLLL#LLLL#L#.LLL#.LLLL.LLLLL#LLL#.L#L#L#L#LLLLLLLL\n",
      "LL#L#L#..LLLL#L#L.LLLLLL.#L#L#L#.LL#L.L.LL#L#L#.LL##L.#L#LLLL.L#LL.L#.L.L#L#LLL#LL#LLLLLL.LL#L#L#L#\n",
      "#LLLLLL.L#L#LLLLL.#L#L#L.LLLLLLL.#LLL.#L#LLLLLLL#LLL#.LLLL#L#.LLL#LLL.#.L.LLL#L.LLLL#L#LL.#LLLLLLLL\n",
      "LL#L#L#.LLLLL#L#L#LLLLLL.#L#L#L#.LL##LLLLL#L#L#LLL#LL.#L#LLLL.L#LL.L#LL.#LL#LL#L#L#LLLLL#.LL#L#L#L#\n",
      "#LLLLLL.##L#LLLLL.L#L#L#.LLLLLLL.#LLLL#L.LLLLLL.#L#L#..LLL#L#.LLL#.LLL#LL#LLLLLL.LLL#L#LL.#LLLLLLLL\n",
      "LL#L#L#.LLLLL#L#L.LLLLLL.#L#L###LLL##.LL#L#L#L#.LLLLLL#L#LLL#L#LLL.#LLL.L#L#L#LL.##LLL#L#.LL#L#L#L#\n",
      "#......L..#...L....#...L...#...L...L..#L...L......L#......LL......LLL#..L.....L#...L.LL..#....LL..L\n",
      "LLL#L#L.#L#L#L#L#.LLL#LL..LLLLLL#L#LL.LLL#L#L#L.L#LLL#L#L#L#L.L#L#.LLLL.#L#L#LLL.LLL#LLLL.L#L#L#LL#\n",
      "#L#LLLLLLLLLLLLLL.L#LLL#LL#L#L#L.LLL#.L#L#LLLLL.LLL#LLLLLLLLL#LLLL.L#L#.LLLLLL#LLL#LLL#L#LLLLLLL#LL\n",
      "LLLL#L#L#L#L#L#L#.LLLL#L.LLLLLLL.##L#.LLLLL#L#L.##L.L#L#L#L#L.L#L##LLLL.#L#L#LL#.LLL#LLLL.###L#LLL#\n",
      "#L#LLLL.LLLLLLLLLL#L#LLL#L#L#L##.LLLL.L#L#LLLLL.LLLLLLLLLLLLLLLLLL.L#L#.LLLLLLLL.L#LLL#L#.LLLLLL#LL\n",
      "LLLL#L.#L#L#L#L#L.LLLL#L.LLLLLLLL#L#L#LLLLL#L#L#LL#L##L#L#L#L#L#L#.LLLL.##L#L#L##LLL#LLLL.###L.LLL#\n",
      "#L#LLLLLLLLLLLLLL.#L#LLL.#L#L#L#.LLLL.L#L#L.LLL.LLLLL.LLLLLLL.LL.L.L#L#LLLLLLLLL.L#LLL#L#.LLLL#L#LL\n",
      "LLLL#L#.L#L#L#L#L#LLLL##LLLLLLLLL#L##.LLLLLL#L#.#.#L#.LL#L#L#.LLL#.LLLL..#L#L#L#.LLL#LLLLL#L#LLLLL#\n",
      "#L#L#L#.LLLLL#LLL.LL#L#LL#L#L#L#LLLLLL##L#L#LL#LLLLLL.L.#L#LLLL#LLL#L#L#LLLLLLLL.L#LL#L##.LLLL#L#LL\n",
      "L....L...#....L...#.....L....L.LL..#..L.LL.L..#..L#...LL..L......#...L.LL...L.L.....L.L.LL#.LL.L.L.\n",
      "#LL#L#L.LLLL#L#L#.LLL#L#LL#L#L#L.L#LL.#LLL#L#LL.L##L#.L#L#L#.L#LLL.L#L#.L#L#L#L#.LLL#LLL#.L#L#L#LL#\n",
      "LL#LLLL.#L#LLLLLLLL#L#L#.L#L#L#L#LLL#LLL#L#L#L#.LL#L#LLLLLLL#LLL#L#LLLLLLLLLLLLL.L#LLL#LL.LLL#LLLL#\n",
      "#LLLL#L#LL#LLLLLL.L#L#L..LLLLLLL.L#LL.#LLLLL#L#.LLLLL.##L#LLLL#LLL.L#L#L##L#L#L#.LLLLLL#L#L#LLLL#LL\n",
      "L#L#L#L.LLLL#L#L#.L#L#L..L#L#L#L.LLL#LLLLL#L#L#.L#L##.LLLLL#..L#L#.L#L#LLLLLLLLL.L#L##L#L.LLL#L#LL#\n",
      "........#........L......#...L...#.L.....#..L..LL.L..L.L.#L#.L..L..L.L.#L.#.L#......L...#..L#L....L.\n",
      "#L#L#L#L#LLLL#L#L.#L#L#L.LLLLLLL.#LLL.LLLL##LL#LLL#L#.LLLLLLL#L#LLLLLLL.#LLL#L##.LLLLLLLL.LLLL#L#LL\n",
      "LL#L#LLLL#L#LLLLL.#L#L#LLL#L#LL#.LL#L.#L#LLL#LL.#LLLL.#L#L#LL.LLL#L#.L#.LL#LLLLL.L#L#L#L#.LL#LLLLL#\n",
      "#LLLLL#.LLLLL#L#LLLLLLLL#LLLL#LLL#LLLLLLLL#LLL#.LL#L#.LLLLLL#.L#LL.L.LL.L#LL#L#L#LLLLLLLLL#LLL#L#LL\n",
      "LL#L#L#.L#L#LLLLL.#L#L#L.LL#LLL#.LL#L.#L#LLL#LL.#LLLL.L#L#LLL.LLL#.L#L#.LLL#LLLL.L#L#L#L#LLL#LLLLL#\n",
      "#LLLLLL.LLLLL#L#L.LLLLLLL#LLL#LLL#LLLLLLLL#LLL..LL#L#.LLLLL#LLL#LLLLLLL.L#LLL#L#..LLLLLLLL#LLL#L#LL\n",
      "LL#LL#L#L#L#LLLLL.L#L#L#LLL#LLL#.LL#L.#L#LLLL#L.#LLLL.L#L#LLL#L#L#L#L#L.LLL#LLLL.#L#L#L##.LL#LLLLL#\n",
      "#LL#LLLLLLLLL#L#L#LLLLLL.#LLL#LL.#LLL.LLL#L#LLL.L..#L#LLLLL#L.LLLL.LLLL#L#LLLL#LLLLLLLLLLL#LLL#L#LL\n",
      "L#LLL.#.L#L#.LLLLLL#L#L#LLL#LL#L.LL#L.##LLL#L#L.L#L#LLL#L#LLL.#L#L#LL#L.LLLL#LLL.#L#L#L#LLLL#LLLLL#\n",
      "..L#..L......#.L.L...LL.L.LLL.L.....#LL..#L...L...#.L.#L....#.....L.#L..#L#...L#...L.....L#L.L..#L.\n",
      "#LLLLL#.LLLLLLL.#.LL#L#L.#L#L#L#..LLL.#LLLLL#L#LLLLL#.LLLLLLLLL#LLLLLL#.LLLLLLLL.L#L#L#L#LLLLL#LLLL\n",
      "LL#L#LL.#L#L#L#LL.#LLLLL.LLLLLLL.##L#LLL#L#LLLL.###LLL#L#L#L#.LL.#.L#LL.L#L#L#L#LLLLLLLLL.#L#L#L#L#\n",
      "#LLLLL#LLLLLLLLL#.LL#L#L#L#L#L#LLLLLLL#LLLLL#L#.LLLL#.LLLLLLL.#LLLLLLL#.LLLLLLLLL#L#L#L##.LLLLLLLLL\n",
      "LL#L#LL.#L#L#L#LL.#LLLLLLLLLLLLL#L#L#LLL#L#LLLLL##L#L.L#L#L#L.LL#L.##LL..#L#L#L#.LLLLLLLLL#L#L#L#L#\n",
      "#LLLL#L.LLLLLLLL#.LL#LL#.L#L#L#L.LLLL.#LLLLL#L#.LLLLL.LLLLLLL.LLLL.LLL#.LLLLLLLL.#L#L#L#LLLLLLLLLLL\n",
      "L#L#LLL#L#L#LL#LL.#LL#L#.L#L#LL..#LL#.LL#L#LLLL.L#LL#L#L#L#L#L#L#L.L#LL.#L#L#L#L#LL#LLLLL.#L#L#L#L#\n",
      "..L..#.L....#.L..L.#.LL......L#L.L...L..L..#..........LL.......L...#L.#.L.L...L.......#........L...\n",
      "#LLLLL#LLL#L.L###.LLLL#L.#L#LLLLL#LLL.L#L#L#L##L#LLLL.L#L#L#L#LLL#.LLLL.##L#L#L#.LLL#LLL#.L#LLLLLLL\n",
      "LL#L#LL.#LLLLLLLL.#L#LLL.LL#L#L#LLL#L#LLLLLLLLL.LL#L#LLLLLLLL.L#LL.L#L#.LLLLLLLL.L#LLLLLL.#LLL#L#L#\n",
      "#LLLL.#.LL#L#L###.LLLL#L.#LLLLLL.#LLLLL#L#L#L##.L#LLL.##L.#L#.LLL##LLLL.##L#L#L#LLLL#L#L#.LL#LLLLLL\n",
      "LL#L#LLL#LLLLLLLL.#L#LLL.L#L#L#L.LL#L.LLLLLLLLL.LLL##.LLL.LLL.L#LL.L#L#.LLLLLLLL.##LLLLLL.#LLL.L#L.\n",
      "#LLLLL#.LL#L#L###.LLLL#L#LLLLLLL.#LLL#L#L#L#L#L#L#LLLL#L#L#L#LLLL#LLLLLL#L#L#L##.LLL#L#L#.LL#L#LLL#\n",
      "LL#L#LLLLLLLLLLLL.#L#LLL.L#L#LL#L#L#L.LLLLLLLLL.LLL##.LLLLLLLL#LLL.L#L#.LLLLLLLL.##LLLLLL.#LLLLL#LL\n",
      "#LLLLL#L#L#L#L###.LLLL#L.LLLL#L#.LLLLLL#L#L#L#L.##LLLL#L#L#L#.LL##.LLLL.#L#L#L#L.LLL#L#L#.LL#L#LLL#\n",
      "LL#L#.L.LLLLLLLLL.#L#LL..#L#LLLL.L#L#.LLLL.LLLL.LLL#L.LLLLLLL.#LLL.#L##.LL.LLLLL.#LLLLLLL.#LLLLL#LL\n",
      "#LLLLLL.L#L#L#L#L.LLLL#LLLL#L#L#.LLL#L#L#L#LL#L.##LLL#L#L#L#L.LL#L.LLLL.L#L#L#L#.#L#LL#LL.LL#L#LLL#\n",
      "..#.......L..LL.L..#..LL#LL..L...#.L.L....L...#.LL.#.......L.....L#.........L.L......#.L..L.....#..\n",
      "LLLLLL#.LL#L#LLL#.LLLL#L.L#L#L#L.LL#L.LLL.LL#LLL##LLL.#L#L#L#.LLLL.#L##.LLLLLLLLLL#LLLLL#.LLLLLLLLL\n",
      "#L#L#LL.#L#L#L#L#L#L#L#L.LLL#LLL#LLLL##L#L#LLLL.#LLLL.#L#LLLL.L#L#.LLLL.L#L#L#L#.LLL#L#LLL#L#L#L#L#\n",
      "LLLLLL#.LLLLLLLLL.#LLLLL.#LLLL#L.#L#L.LLLLLLL#L.#L#L#LLLLL#L#.LLLL.#L#L.LLLLLLLL.L#LLLLL#.LLLLLLLLL\n",
      "#L#L#LL.##L#L#L#L.L#L#L#.LL#LLLL.LLLLLL#L#L#LLL.LLLLLL#L#LLLL.L#L#.LLLL#L#L#L#L#.LLL#L#LL.#L#L#L#L#\n",
      "LLLLLL#LLLLLLLLLL.LLLLLL.#LL#L#L.#L#L#LLLLLLL#L#L##L#.LLLL#L#LLLLLLL#LL.LLLLLLLL.L#LLLLLLLLLLLLLLLL\n",
      "#L#L#L#.L#L#L#L#L#L#L#L#.L#LLLLL.LLLL.L#L#L#LLL.LLLLL.#L#LLLLL#L##.LLL#L#L#L#L#L#L#L#L#L#L#L#L#L#L#\n",
      "LLLLLLL.LLLLLLLLL.LLLLLLLLLL#L#L.L#L#.LLLLLLLL#L#LL#LLLLLL#L#.LLLL.#LLLLLLLLLLLL.LLLLLLLL.LLLLLLLLL\n",
      "#LL#L#L#L#L#L#L#L.#LL#L#.L#LLL#L.LLL#L#L#L#L#LL.LLLLL.#L#L#LL.#L##.LL#L#L#L#LL#L.#L#L#L#L.L#L#L#LL#\n",
      "L...LL.L..LLLL.LLL.L....L......#.............LL.....#...LL.L...L.L......LL....L......L...LL.L.....L\n",
      "#L#L#L#.LL#L#L#L#.LL#L#L.L.#L#LL.#L#L.L#L#L#L#L##LLLL.L#L#L#L.LLL#LL#LL.#L#L#L#L.L#L#L#LLL#L#L#L#L#\n",
      "LLLLLLL.#LLLLLLLL.#LLLLL.#LLLLL#.LLLL#LLLLLL###.LL#L#.LLLLLLL.L#LL.#LL#.LLLLLLLLLLLLLLLL#.LLLLLLLLL\n",
      "#L#L#L#LLL#L#L#L#LLL#L#.LLL#L#LL.#L#L.#L#L#LLLL.#LLLLLL#L#L#L#LLL#.LL#L.#L#L#L#L#L#L#L#LL.#L#L#L#L#\n",
      "LLLLLLLL#LLLLLLLL.#LLLLL.#LLLLL#LLLLLLLLLLL#LL#LLL#L#.LLLLLLLLL#LL.#LLLLLLLLLLLL.LLLLLLL#.LLLLLLLLL\n",
      "#L#L#L#LLL#L#L#L#.LL#L#LLLL#L#LL.#L#L#L#L#LLLLL.L#LLL.#L#L#L#.L.L#.LL#L#L#L#L#L#.L#L#L#LLL#L#L#L#L#\n",
      "LLLLLLL.#LLLLLLLL.#LLLLL.#LLLLL#LLLLLLLLLLL.L#L#LL.L#.LLLLLLL.LLLL.LLLL.LLLLLLLLLLLLLLLL#LLLLLLLLLL\n",
      "#L#L#L#LLL#L#L#L#LLL#L#L.LL#L#LL.#L#L#L#L#L#LLL.LL#LL.#L#L#L#.L#L#.L#L#.L#L#L#L#.L#L#L#LL.#L#L#L#L#\n",
      "LLLLLLL.#LLLLLLLL.#LLLLL#LLLLLL#.LLLL.LLLLLLLL#L#LLL#.LLLLLLLLLLLLLLLLLLLLLLLLLLLLLLLLLL#.LLLLLLLLL\n",
      "#L#L#L#.LL#L#L#L#.LL#L#LL#L#L#LL.#L#L.#L#L#L#LL.LL#LL.#L#L#L#.L#L#LL#L#.L#L#L#L#.L#L#L#LL.#L#L#L#L#\n",
      "LLLLLLL.LLLLLLLLL.LLLLLL.LLLLLLL.LLLL.LLLLLLLLL#LLLL#.LLLLLLL.LLLL.#LLL.LLLLLLLL.LLLLLLL#.LLLLLLLLL\n",
      "#L#L#L#L#L#L#L#L#L#L#L#L#L#L#L#L.#L#L.#L#L.#L#L.L#L#L.#L#L#L#.L#L#.L.#L#L#L#L#L#.L#L#L#.L.#L#L#L#L#\n",
      "\n"
     ]
    }
   ],
   "source": [
    "print(list2string(area).count('#'))\n",
    "print(list2string(area))"
   ]
  },
  {
   "cell_type": "code",
   "execution_count": null,
   "id": "584ea677-13de-4220-b660-581951175710",
   "metadata": {},
   "outputs": [],
   "source": []
  }
 ],
 "metadata": {
  "kernelspec": {
   "display_name": "Python 3 (ipykernel)",
   "language": "python",
   "name": "python3"
  },
  "language_info": {
   "codemirror_mode": {
    "name": "ipython",
    "version": 3
   },
   "file_extension": ".py",
   "mimetype": "text/x-python",
   "name": "python",
   "nbconvert_exporter": "python",
   "pygments_lexer": "ipython3",
   "version": "3.12.3"
  }
 },
 "nbformat": 4,
 "nbformat_minor": 5
}
