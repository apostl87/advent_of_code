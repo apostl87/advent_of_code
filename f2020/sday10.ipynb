{
 "cells": [
  {
   "cell_type": "code",
   "execution_count": 46,
   "id": "244662ba-fa46-4a1d-905f-4ca92f91e340",
   "metadata": {},
   "outputs": [],
   "source": [
    "import re\n",
    "from collections import defaultdict\n",
    "import copy\n",
    "from itertools import combinations\n",
    "\n",
    "lines = open('10.txt').read().strip()\n",
    "lines = lines.splitlines()\n",
    "\n",
    "jolts = [0] + sorted([int(x) for x in lines])\n",
    "jolts = jolts + [jolts[-1] + 3]"
   ]
  },
  {
   "cell_type": "code",
   "execution_count": 47,
   "id": "6d560b01-326f-4d92-a9e4-95e0addb5075",
   "metadata": {},
   "outputs": [
    {
     "name": "stdout",
     "output_type": "stream",
     "text": [
      "2048\n"
     ]
    }
   ],
   "source": [
    "# Part 1\n",
    "diffs = defaultdict(int)\n",
    "for i in range(len(jolts) - 1):\n",
    "    diffs[jolts[i+1] - jolts[i]] += 1\n",
    "print(diffs[1] * diffs[3])"
   ]
  },
  {
   "cell_type": "markdown",
   "id": "678a4b2e-26f0-416f-a6e4-b7a337865ea2",
   "metadata": {},
   "source": [
    "<h3>Example input</h3>"
   ]
  },
  {
   "cell_type": "markdown",
   "id": "05f490bb-606a-456c-96c4-23ee82bd0d3a",
   "metadata": {},
   "source": [
    "35\n",
    "20\n",
    "15\n",
    "25\n",
    "47\n",
    "40\n",
    "62\n",
    "\n",
    "0 2 3 4 6 7\n",
    "\n",
    "0 2 4 7\n",
    "0 2 3 4 7\n",
    "0 3 4 7\n",
    "0 2 4 6 7\n",
    "0 3 4 6 7\n",
    "0 2 3 4 6 7\n",
    "0 3 6 7\n"
   ]
  },
  {
   "cell_type": "code",
   "execution_count": 45,
   "id": "aadf7a08-ce3a-486d-aca6-8e35a16f8257",
   "metadata": {},
   "outputs": [
    {
     "name": "stdout",
     "output_type": "stream",
     "text": [
      "1322306994176\n"
     ]
    }
   ],
   "source": [
    "#! /usr/bin/python3\n",
    "\n",
    "# https://adventofcode.com/2020/day/10\n",
    "# Efficient solution to part 2\n",
    "\n",
    "adapters = [0]\n",
    "f = open('10.txt', 'r')\n",
    "while number := f.readline():\n",
    "\tadapters.append(int(number))\n",
    "adapters.sort()\n",
    "adapters.append(adapters[len(adapters) - 1] + 3)\n",
    "\n",
    "sequences = []\n",
    "x = 0\n",
    "for i in range(1, len(adapters)):\n",
    "\tif adapters[i] - adapters[i - 1] == 3:\n",
    "\t\tsequences.append(adapters[x:i])\n",
    "\t\tx = i\n",
    "\n",
    "def selection(i, sequence):\n",
    "\tglobal valid\n",
    "\tif sequence[i] - chain[len(chain) - 1] > 3:\n",
    "\t\treturn 0\n",
    "\tif i == len(sequence) - 1:\n",
    "\t\tvalid += 1\n",
    "\t\treturn\n",
    "\tchain.append(sequence[i])\n",
    "\tif selection(i + 1, sequence) == 0:\n",
    "\t\treturn\n",
    "\tchain.pop()\n",
    "\tif selection(i + 1, sequence) == 0:\n",
    "\t\treturn\n",
    "\n",
    "total = 1\n",
    "for sequence in sequences:\n",
    "\tchain = [sequence[0]]\n",
    "\tvalid = 0\n",
    "\tif len(sequence) > 1:\n",
    "\t\tselection(1, sequence)\n",
    "\t\ttotal *= valid\n",
    "\n",
    "print(total)"
   ]
  },
  {
   "cell_type": "code",
   "execution_count": 115,
   "id": "ef028b59-b830-4906-833d-e1208c7b4fbe",
   "metadata": {},
   "outputs": [],
   "source": [
    "from itertools import groupby\n",
    "import math\n",
    "import operator\n",
    "\n",
    "def parse_input(raw):\n",
    "    return sorted(int(n) for n in raw.splitlines())\n",
    "\n",
    "with open('10.txt') as file:\n",
    "    input10 = parse_input(file.read())\n",
    "\n",
    "def get_differences(joltages):\n",
    "    return list(map(\n",
    "        operator.sub,\n",
    "        joltages + [joltages[-1] + 3],\n",
    "        [0] + joltages\n",
    "    ))\n",
    "\n",
    "def multiply_diffs(differences):\n",
    "    return differences.count(1) * differences.count(3)\n",
    "\n",
    "def count_arrangements(differences):\n",
    "    res = 1\n",
    "    for k, g in groupby(differences):\n",
    "        m = list(g)\n",
    "        if k == 1 and len(m) > 1:\n",
    "            res *= (2 ** (len(m) -1))# - (len(m) == 4)\n",
    "        #print(m)\n",
    "        #print(k)\n",
    "    return res\n",
    "\n",
    "    \n",
    "    return math.prod(\n",
    "        (2 ** (len(m) - 1)) #- (len(m) == 4)\n",
    "        for k, g in groupby(differences)\n",
    "        if k == 1 and len((m := list(g))) > 1\n",
    "    )\n",
    "\n",
    "differences = get_differences(input10)\n",
    "answer1 = multiply_diffs(differences)\n",
    "answer2 = count_arrangements(differences)"
   ]
  },
  {
   "cell_type": "code",
   "execution_count": 116,
   "id": "164ae2bc-c3b2-430b-bbdb-92c7774465a4",
   "metadata": {},
   "outputs": [
    {
     "name": "stdout",
     "output_type": "stream",
     "text": [
      "Part 1: 2048\n",
      "Part 2: 1322306994176\n"
     ]
    }
   ],
   "source": [
    "data = [int(x) for x in open(\"10.txt\").read().splitlines()]\n",
    "data.sort()\n",
    "ones = [data[i] for i in range(len(data)-1) if data[i+1] - data[i] == 1]\n",
    "threes = [[data[i], data[i+1]] for i in range(len(data)-1) if data[i+1] - data[i] == 3]\n",
    "threes = [x for z in threes for x in z]\n",
    "ones_count = len(ones) + 1\n",
    "threes_count = len(threes) // 2 + 1\n",
    "print(f\"Part 1: {ones_count * threes_count}\")\n",
    "acc = 1\n",
    "data = [x for x in data if x not in threes]\n",
    "threes = [[data[i], data[i+1], data[i+2]] for i in range(len(data)-2) if data[i+2] - data[i+1] == 1 and data[i+1] - data[i] == 1]\n",
    "acc *= 7 ** len(threes)\n",
    "threes = [x for z in threes for x in z]\n",
    "data = [x for x in data if x not in threes]\n",
    "twos = [[data[i], data[i+1]] for i in range(len(data)-1) if data[i+1] - data[i] == 1]\n",
    "acc *= 4 ** len(twos)\n",
    "twos = [x for z in twos for x in z]\n",
    "data = [x for x in data if x not in twos]\n",
    "acc *= 2 ** (len(data) - 1)\n",
    "print(f\"Part 2: {acc}\")"
   ]
  },
  {
   "cell_type": "code",
   "execution_count": null,
   "id": "5996b4b4-d8ea-4297-a912-b6b49b6c39f2",
   "metadata": {},
   "outputs": [],
   "source": []
  }
 ],
 "metadata": {
  "kernelspec": {
   "display_name": "Python 3 (ipykernel)",
   "language": "python",
   "name": "python3"
  },
  "language_info": {
   "codemirror_mode": {
    "name": "ipython",
    "version": 3
   },
   "file_extension": ".py",
   "mimetype": "text/x-python",
   "name": "python",
   "nbconvert_exporter": "python",
   "pygments_lexer": "ipython3",
   "version": "3.12.3"
  }
 },
 "nbformat": 4,
 "nbformat_minor": 5
}
