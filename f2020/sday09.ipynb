{
 "cells": [
  {
   "cell_type": "code",
   "execution_count": 6,
   "id": "244662ba-fa46-4a1d-905f-4ca92f91e340",
   "metadata": {},
   "outputs": [],
   "source": [
    "import re\n",
    "from collections import defaultdict\n",
    "import copy\n",
    "from itertools import combinations\n",
    "\n",
    "lines = open('09.txt').read().strip()\n",
    "lines = lines.splitlines()"
   ]
  },
  {
   "cell_type": "code",
   "execution_count": 16,
   "id": "6d560b01-326f-4d92-a9e4-95e0addb5075",
   "metadata": {},
   "outputs": [
    {
     "name": "stdout",
     "output_type": "stream",
     "text": [
      "25918798\n"
     ]
    }
   ],
   "source": [
    "# Part 1\n",
    "possible_summands = [int(x) for x in lines[:25]]\n",
    "for i, line in enumerate(lines[25:], start = 25):\n",
    "    possible_sums = set([sum(x) for x in combinations(possible_summands, 2)])\n",
    "    if int(line) not in possible_sums:\n",
    "        invalid = int(line)\n",
    "        print(invalid)\n",
    "        break\n",
    "    possible_summands.pop(0)\n",
    "    possible_summands.append(int(line))"
   ]
  },
  {
   "cell_type": "code",
   "execution_count": 18,
   "id": "9d907d68-4a54-46eb-8da0-157fd291cc94",
   "metadata": {},
   "outputs": [
    {
     "name": "stdout",
     "output_type": "stream",
     "text": [
      "[1519422, 1127699, 1155454, 1277235, 1176689, 1183760, 1197351, 1267187, 1360662, 1626844, 1395800, 1712354, 2213243, 1736406, 1887598, 1992527, 2088567]\n",
      "3340942\n"
     ]
    }
   ],
   "source": [
    "# Part 2\n",
    "all_numbers = [int(x) for x in lines]\n",
    "for n in range(2, 100): # number of summands\n",
    "    for i in range(len(all_numbers) - n):\n",
    "        if invalid == sum(all_numbers[i:i+n]):\n",
    "            print(all_numbers[i:i+n])\n",
    "            print(min(all_numbers[i:i+n]) + max(all_numbers[i:i+n]))"
   ]
  },
  {
   "cell_type": "markdown",
   "id": "678a4b2e-26f0-416f-a6e4-b7a337865ea2",
   "metadata": {},
   "source": [
    "<h3>Example input</h3>"
   ]
  },
  {
   "cell_type": "markdown",
   "id": "05f490bb-606a-456c-96c4-23ee82bd0d3a",
   "metadata": {},
   "source": [
    "35\n",
    "20\n",
    "15\n",
    "25\n",
    "47\n",
    "40\n",
    "62"
   ]
  },
  {
   "cell_type": "code",
   "execution_count": null,
   "id": "aadf7a08-ce3a-486d-aca6-8e35a16f8257",
   "metadata": {},
   "outputs": [],
   "source": []
  }
 ],
 "metadata": {
  "kernelspec": {
   "display_name": "Python 3 (ipykernel)",
   "language": "python",
   "name": "python3"
  },
  "language_info": {
   "codemirror_mode": {
    "name": "ipython",
    "version": 3
   },
   "file_extension": ".py",
   "mimetype": "text/x-python",
   "name": "python",
   "nbconvert_exporter": "python",
   "pygments_lexer": "ipython3",
   "version": "3.12.3"
  }
 },
 "nbformat": 4,
 "nbformat_minor": 5
}
