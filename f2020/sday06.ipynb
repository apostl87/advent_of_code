{
 "cells": [
  {
   "cell_type": "code",
   "execution_count": 5,
   "id": "244662ba-fa46-4a1d-905f-4ca92f91e340",
   "metadata": {},
   "outputs": [],
   "source": [
    "import re, string\n",
    "alphabet = list(string.ascii_lowercase)\n",
    "\n",
    "lines = open('06.txt').read().strip()"
   ]
  },
  {
   "cell_type": "code",
   "execution_count": 6,
   "id": "fd87b123-f65a-4668-b4db-7db5789b6cfe",
   "metadata": {},
   "outputs": [
    {
     "name": "stdout",
     "output_type": "stream",
     "text": [
      "6683\n"
     ]
    }
   ],
   "source": [
    "# Part 1\n",
    "groups = [x.replace(\"\\n\", \"\").replace(\" \", \"\") for x in lines.split(\"\\n\\n\")]\n",
    "r = 0\n",
    "for g in groups:\n",
    "    r += len(set(g))\n",
    "print(r)"
   ]
  },
  {
   "cell_type": "code",
   "execution_count": 16,
   "id": "61f13991-fb25-4017-94af-591e671d0bd9",
   "metadata": {},
   "outputs": [
    {
     "name": "stdout",
     "output_type": "stream",
     "text": [
      "3122\n"
     ]
    }
   ],
   "source": [
    "# Part 2\n",
    "groups = lines.split(\"\\n\\n\")\n",
    "r = 0\n",
    "for group in groups:\n",
    "    yesanswers = [set(x) for x in group.splitlines()]\n",
    "    r += len(set.intersection(*yesanswers))\n",
    "print(r)"
   ]
  },
  {
   "cell_type": "code",
   "execution_count": 8,
   "id": "5415dbe3-b3da-4373-b33b-bcbf555b3ee0",
   "metadata": {},
   "outputs": [
    {
     "name": "stdout",
     "output_type": "stream",
     "text": [
      "Help on method_descriptor:\n",
      "\n",
      "intersection(...) unbound builtins.set method\n",
      "    Return the intersection of two sets as a new set.\n",
      "\n",
      "    (i.e. all elements that are in both sets.)\n",
      "\n"
     ]
    }
   ],
   "source": [
    "help(set.intersection)"
   ]
  }
 ],
 "metadata": {
  "kernelspec": {
   "display_name": "Python 3 (ipykernel)",
   "language": "python",
   "name": "python3"
  },
  "language_info": {
   "codemirror_mode": {
    "name": "ipython",
    "version": 3
   },
   "file_extension": ".py",
   "mimetype": "text/x-python",
   "name": "python",
   "nbconvert_exporter": "python",
   "pygments_lexer": "ipython3",
   "version": "3.12.3"
  }
 },
 "nbformat": 4,
 "nbformat_minor": 5
}
