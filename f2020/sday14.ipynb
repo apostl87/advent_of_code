{
 "cells": [
  {
   "cell_type": "code",
   "execution_count": 102,
   "id": "244662ba-fa46-4a1d-905f-4ca92f91e340",
   "metadata": {},
   "outputs": [],
   "source": [
    "import numpy as np, re\n",
    "from itertools import cycle, combinations\n",
    "from collections import defaultdict\n",
    "from aoclib import list2string\n",
    "import copy\n",
    "\n",
    "lines = open('14.txt').read().strip()"
   ]
  },
  {
   "cell_type": "code",
   "execution_count": 103,
   "id": "e1b56f59-f4db-42d0-bbac-d4391995c65d",
   "metadata": {},
   "outputs": [
    {
     "name": "stdout",
     "output_type": "stream",
     "text": [
      "8566770985168\n"
     ]
    }
   ],
   "source": [
    "ops = lines.splitlines()\n",
    "\n",
    "# Part 1\n",
    "def update_mask(input_):\n",
    "    mask = {}\n",
    "    for i, c in enumerate(input_.split()[-1]):\n",
    "        if c in ['0', '1']:\n",
    "            mask[i] = c\n",
    "    return mask\n",
    "    \n",
    "mem = defaultdict(str)\n",
    "for op in ops:\n",
    "    if 'mask' in op:\n",
    "        mask = update_mask(op)\n",
    "        continue\n",
    "    tar, val = re.findall(r'\\d+', op)\n",
    "    val = list(bin(int(val))[2:].rjust(36, \"0\"))\n",
    "    for m in mask:\n",
    "        val[m] = mask[m]\n",
    "    mem[int(tar)] = ''.join(val)\n",
    "\n",
    "print(sum(int(mem[key], 2) for key in mem))"
   ]
  },
  {
   "cell_type": "code",
   "execution_count": 106,
   "id": "98391b6e-4ac4-4fd6-8fa5-0257405b860d",
   "metadata": {},
   "outputs": [
    {
     "name": "stdout",
     "output_type": "stream",
     "text": [
      "4832039794082\n"
     ]
    }
   ],
   "source": [
    "ops = lines.splitlines()\n",
    "\n",
    "# Part 2\n",
    "def update_mask(input_):\n",
    "    mask = input_.split()[-1]\n",
    "    mask_ones, mask_xs = [], []\n",
    "    for i, c in enumerate(mask):\n",
    "        if c == '1':\n",
    "            mask_ones.append(i)\n",
    "        elif c == 'X':\n",
    "            mask_xs.append(i)\n",
    "    return mask_ones, mask_xs\n",
    "\n",
    "mem = defaultdict(str)\n",
    "for op in ops:\n",
    "    if 'mask' in op:\n",
    "        mask_ones, mask_xs = update_mask(op)\n",
    "        continue\n",
    "\n",
    "    tar, val = re.findall(r'\\d+', op)\n",
    "    tar = list(bin(int(tar))[2:].rjust(36, \"0\"))\n",
    "    val = int(val)\n",
    "    \n",
    "    for m in mask_ones:\n",
    "        tar[m] = '1'\n",
    "    for m in mask_xs:\n",
    "        tar[m] = 'X'\n",
    "\n",
    "    it = 0\n",
    "    set_ = set()\n",
    "    for n in range(len(mask_xs) + 1):\n",
    "        selections = list(combinations(mask_xs, n))\n",
    "        #print(selections)\n",
    "        for s in selections:\n",
    "            it += 1\n",
    "            address = copy.deepcopy(tar)\n",
    "            for m in s:\n",
    "                address[m] = '1'\n",
    "            address = ''.join(address).replace(\"X\", \"0\")\n",
    "            set_.add(address)\n",
    "            mem[int(address, 2)] = val\n",
    "            if val == 782:\n",
    "                pass\n",
    "                #print(it, \"investigating\")\n",
    "                #print(int(address, 2))\n",
    "                #print(len(set_))\n",
    "        else:\n",
    "            address = ''.join(address).replace(\"X\", \"0\")\n",
    "            set_.add(address)\n",
    "            mem[int(address, 2)] = val\n",
    "\n",
    "print(sum(mem[key] for key in mem))"
   ]
  },
  {
   "cell_type": "code",
   "execution_count": null,
   "id": "bcfaac12-1ffb-4b8d-80c3-d22a4aab6397",
   "metadata": {},
   "outputs": [],
   "source": []
  }
 ],
 "metadata": {
  "kernelspec": {
   "display_name": "Python 3 (ipykernel)",
   "language": "python",
   "name": "python3"
  },
  "language_info": {
   "codemirror_mode": {
    "name": "ipython",
    "version": 3
   },
   "file_extension": ".py",
   "mimetype": "text/x-python",
   "name": "python",
   "nbconvert_exporter": "python",
   "pygments_lexer": "ipython3",
   "version": "3.12.3"
  }
 },
 "nbformat": 4,
 "nbformat_minor": 5
}
