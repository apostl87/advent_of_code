{
 "cells": [
  {
   "cell_type": "code",
   "execution_count": 47,
   "id": "244662ba-fa46-4a1d-905f-4ca92f91e340",
   "metadata": {},
   "outputs": [
    {
     "data": {
      "text/plain": [
       "233"
      ]
     },
     "execution_count": 47,
     "metadata": {},
     "output_type": "execute_result"
    }
   ],
   "source": [
    "import re\n",
    "\n",
    "lines = open('04.txt').read().strip()\n",
    "passports = lines.split(\"\\n\\n\")\n",
    "\n",
    "valid = 0\n",
    "for passport in passports:\n",
    "    fields = re.findall(r'\\w+:[\\w\\d\\#]+', passport)\n",
    "    match len(fields):\n",
    "        case 8:\n",
    "            valid += 1\n",
    "        case 7:\n",
    "            valid += 0 if any('cid:' in f for f in fields) else 1\n",
    "valid"
   ]
  },
  {
   "cell_type": "code",
   "execution_count": 52,
   "id": "cbe39ca0-c51a-4ca9-a885-f481b8f6aec7",
   "metadata": {},
   "outputs": [],
   "source": [
    "valid = 0\n",
    "for i, passport in enumerate(passports):\n",
    "    fields = re.findall(r'\\w+:[\\w\\d\\#]+', passport)\n",
    "    musthaves = ['byr', 'iyr', 'eyr', 'hgt', 'hcl', 'ecl', 'pid']\n",
    "    isinvalid = False\n",
    "    \n",
    "    for field in fields:\n",
    "        key, value = field.split(\":\")\n",
    "        if key == 'cid':\n",
    "            continue\n",
    "        musthaves.pop(musthaves.index(key))\n",
    "        match key:\n",
    "            case 'byr':\n",
    "                if len(value) != 4 or not value.isnumeric() or not 1920 <= int(value) <= 2002:\n",
    "                    isinvalid = True\n",
    "                    \n",
    "            case 'iyr':\n",
    "                if len(value) != 4 or not value.isnumeric() or not 2010 <= int(value) <= 2020:\n",
    "                    isinvalid = True\n",
    "                    \n",
    "            case 'eyr':\n",
    "                if len(value) != 4 or not value.isnumeric() or not 2020 <= int(value) <= 2030:\n",
    "                    isinvalid = True\n",
    "                    \n",
    "            case 'hgt':\n",
    "                value_ = re.findall(r'(\\d+)(cm|in)', value)\n",
    "                if not value_ or len(value_:=value_[0]) != 2:\n",
    "                    isinvalid = True\n",
    "                    \n",
    "                elif (value_[1] == 'cm' and (not value_[0].isnumeric() or not 150 <= int(value_[0]) <= 193)) or \\\n",
    "                     (value_[1] == 'in' and (not value_[0].isnumeric() or not 59 <= int(value_[0]) <= 76)):\n",
    "                    isinvalid = True\n",
    "                    \n",
    "            case 'hcl':\n",
    "                if value[0] != '#' or len(re.findall(r'\\w', value[1:])) != 6:\n",
    "                    isinvalid = True\n",
    "                    \n",
    "            case 'ecl':\n",
    "                if not value in 'amb blu brn gry grn hzl oth'.split():\n",
    "                    isinvalid = True\n",
    "                    \n",
    "            case 'pid':\n",
    "                if len(value) != 9 or not value.isnumeric():\n",
    "                    isinvalid = True\n",
    "                    \n",
    "        if isinvalid:\n",
    "            break\n",
    "            \n",
    "    if isinvalid or len(musthaves) > 0:\n",
    "        continue\n",
    "        \n",
    "    valid += 1\n",
    "                "
   ]
  },
  {
   "cell_type": "code",
   "execution_count": 51,
   "id": "06430ac4-d7b6-4ed6-9398-e780d6c02f85",
   "metadata": {},
   "outputs": [
    {
     "data": {
      "text/plain": [
       "111"
      ]
     },
     "execution_count": 51,
     "metadata": {},
     "output_type": "execute_result"
    }
   ],
   "source": [
    "valid"
   ]
  },
  {
   "cell_type": "code",
   "execution_count": null,
   "id": "b373e106-51cb-4d3b-93e2-089d2ded2efe",
   "metadata": {},
   "outputs": [],
   "source": [
    "byr (Birth Year) - four digits; at least 1920 and at most 2002.\n",
    "iyr (Issue Year) - four digits; at least 2010 and at most 2020.\n",
    "eyr (Expiration Year) - four digits; at least 2020 and at most 2030.\n",
    "hgt (Height) - a number followed by either cm or in:\n",
    "If cm, the number must be at least 150 and at most 193.\n",
    "If in, the number must be at least 59 and at most 76.\n",
    "hcl (Hair Color) - a # followed by exactly six characters 0-9 or a-f.\n",
    "ecl (Eye Color) - exactly one of: amb blu brn gry grn hzl oth.\n",
    "pid (Passport ID) - a nine-digit number, including leading zeroes.\n",
    "cid (Country ID) - ignored, missing or not.\n"
   ]
  },
  {
   "cell_type": "code",
   "execution_count": 36,
   "id": "c7317c0a-4d7c-4f5e-80bd-549eb1100234",
   "metadata": {},
   "outputs": [
    {
     "data": {
      "text/plain": [
       "[]"
      ]
     },
     "execution_count": 36,
     "metadata": {},
     "output_type": "execute_result"
    }
   ],
   "source": [
    "re.findall(r'(\\d)(cm|in)', '150cn')"
   ]
  },
  {
   "cell_type": "code",
   "execution_count": 24,
   "id": "cb75fe19-c5b0-455d-a0e9-6ff0e82e29f1",
   "metadata": {},
   "outputs": [
    {
     "name": "stderr",
     "output_type": "stream",
     "text": [
      "<>:1: SyntaxWarning: invalid escape sequence '\\w'\n",
      "<>:1: SyntaxWarning: invalid escape sequence '\\w'\n",
      "/var/folders/m7/fb2rmjkn5xl1dxf23c4zfy0h0000gp/T/ipykernel_3548/4159788382.py:1: SyntaxWarning: invalid escape sequence '\\w'\n",
      "  re.findall('\\w', '5cm')\n"
     ]
    },
    {
     "data": {
      "text/plain": [
       "['5', 'c', 'm']"
      ]
     },
     "execution_count": 24,
     "metadata": {},
     "output_type": "execute_result"
    }
   ],
   "source": [
    "re.findall(r'\\w', '5cm')"
   ]
  },
  {
   "cell_type": "code",
   "execution_count": 42,
   "id": "089d80f4-8810-4355-ad9b-3f2680a395e0",
   "metadata": {},
   "outputs": [
    {
     "data": {
      "text/plain": [
       "0"
      ]
     },
     "execution_count": 42,
     "metadata": {},
     "output_type": "execute_result"
    }
   ],
   "source": [
    "valid"
   ]
  },
  {
   "cell_type": "code",
   "execution_count": 38,
   "id": "ef007aaf-a30e-4712-9ffb-6170d1449fea",
   "metadata": {},
   "outputs": [
    {
     "data": {
      "text/plain": [
       "True"
      ]
     },
     "execution_count": 38,
     "metadata": {},
     "output_type": "execute_result"
    }
   ],
   "source": [
    "len( val := value )== 2"
   ]
  },
  {
   "cell_type": "code",
   "execution_count": 39,
   "id": "d3ccd8e9-8259-4c66-ac44-66260f0e9758",
   "metadata": {},
   "outputs": [
    {
     "data": {
      "text/plain": [
       "'82'"
      ]
     },
     "execution_count": 39,
     "metadata": {},
     "output_type": "execute_result"
    }
   ],
   "source": [
    "val"
   ]
  },
  {
   "cell_type": "code",
   "execution_count": 40,
   "id": "c89d9518-38e8-4c92-bf53-d71a8c3390bb",
   "metadata": {},
   "outputs": [
    {
     "data": {
      "text/plain": [
       "'82'"
      ]
     },
     "execution_count": 40,
     "metadata": {},
     "output_type": "execute_result"
    }
   ],
   "source": [
    "value"
   ]
  },
  {
   "cell_type": "code",
   "execution_count": null,
   "id": "7b79f51c-a06c-4b69-9f09-342407120dd7",
   "metadata": {},
   "outputs": [],
   "source": []
  }
 ],
 "metadata": {
  "kernelspec": {
   "display_name": "Python 3 (ipykernel)",
   "language": "python",
   "name": "python3"
  },
  "language_info": {
   "codemirror_mode": {
    "name": "ipython",
    "version": 3
   },
   "file_extension": ".py",
   "mimetype": "text/x-python",
   "name": "python",
   "nbconvert_exporter": "python",
   "pygments_lexer": "ipython3",
   "version": "3.12.3"
  }
 },
 "nbformat": 4,
 "nbformat_minor": 5
}
