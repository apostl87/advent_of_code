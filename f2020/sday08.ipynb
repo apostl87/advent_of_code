{
 "cells": [
  {
   "cell_type": "code",
   "execution_count": 3,
   "id": "244662ba-fa46-4a1d-905f-4ca92f91e340",
   "metadata": {},
   "outputs": [],
   "source": [
    "import re\n",
    "from collections import defaultdict\n",
    "import copy\n",
    "\n",
    "lines = open('08.txt').read().strip()\n",
    "lines = lines.splitlines()"
   ]
  },
  {
   "cell_type": "code",
   "execution_count": 4,
   "id": "fd87b123-f65a-4668-b4db-7db5789b6cfe",
   "metadata": {},
   "outputs": [
    {
     "name": "stdout",
     "output_type": "stream",
     "text": [
      "1262\n"
     ]
    }
   ],
   "source": [
    "# Part 1\n",
    "i, executed = 0, set()\n",
    "acc = 0\n",
    "while True:\n",
    "    if i in executed:\n",
    "        break\n",
    "    else:\n",
    "        executed.add(i)\n",
    "    command = lines[i]\n",
    "    match command[:3]:\n",
    "        case 'nop':\n",
    "            i += 1\n",
    "        case 'jmp':\n",
    "            i += int(command.split()[-1])\n",
    "        case 'acc':\n",
    "            acc += int(command.split()[-1])\n",
    "            i += 1\n",
    "print(acc)"
   ]
  },
  {
   "cell_type": "code",
   "execution_count": 6,
   "id": "362faf0f-7bdc-48c3-a0e9-b5d851c426c2",
   "metadata": {},
   "outputs": [
    {
     "name": "stdout",
     "output_type": "stream",
     "text": [
      "1643\n",
      "377 succ\n"
     ]
    }
   ],
   "source": [
    "# Part 2\n",
    "def boot(input_):\n",
    "    #print(input_)\n",
    "    i, executed = 0, set()\n",
    "    acc = 0\n",
    "    while True:\n",
    "        if i in executed:\n",
    "            return False, acc\n",
    "        else:\n",
    "            executed.add(i)\n",
    "        command = input_[i]\n",
    "        match command[:3]:\n",
    "            case 'nop':\n",
    "                i += 1\n",
    "            case 'jmp':\n",
    "                i += int(command.split()[-1])\n",
    "            case 'acc':\n",
    "                acc += int(command.split()[-1])\n",
    "                i += 1\n",
    "        if i == len(input_):\n",
    "            return True, acc\n",
    "\n",
    "nops, jmps = [], []\n",
    "for i, line in enumerate(lines):\n",
    "    if 'nop' in line: nops.append(i)\n",
    "    if 'jmp' in line: jmps.append(i)\n",
    "\n",
    "for i in jmps:\n",
    "    input_ = lines.copy()\n",
    "    input_[i] = input_[i].replace('jmp', 'nop')\n",
    "    res = boot(input_)\n",
    "    if res[0]:\n",
    "        print(res[1])\n",
    "        print(i, \"succ\")\n",
    "        break"
   ]
  },
  {
   "cell_type": "markdown",
   "id": "678a4b2e-26f0-416f-a6e4-b7a337865ea2",
   "metadata": {},
   "source": [
    "<h3>Example input</h3>"
   ]
  },
  {
   "cell_type": "markdown",
   "id": "05f490bb-606a-456c-96c4-23ee82bd0d3a",
   "metadata": {},
   "source": [
    "nop +0\n",
    "acc +1\n",
    "jmp +4\n",
    "acc +3\n",
    "jmp -3\n",
    "acc -99\n",
    "acc +1\n",
    "jmp -4\n",
    "acc +6"
   ]
  },
  {
   "cell_type": "code",
   "execution_count": 5,
   "id": "9052b6f1-6e92-4c99-a3ff-a05ee61c6895",
   "metadata": {},
   "outputs": [
    {
     "name": "stdout",
     "output_type": "stream",
     "text": [
      "Help on method_descriptor:\n",
      "\n",
      "find(...) unbound builtins.str method\n",
      "    S.find(sub[, start[, end]]) -> int\n",
      "\n",
      "    Return the lowest index in S where substring sub is found,\n",
      "    such that sub is contained within S[start:end].  Optional\n",
      "    arguments start and end are interpreted as in slice notation.\n",
      "\n",
      "    Return -1 on failure.\n",
      "\n"
     ]
    }
   ],
   "source": [
    "help(str.find)"
   ]
  },
  {
   "cell_type": "code",
   "execution_count": 7,
   "id": "fd476c3c-c8a6-434e-999e-a613c13d4209",
   "metadata": {},
   "outputs": [
    {
     "data": {
      "text/plain": [
       "7"
      ]
     },
     "execution_count": 7,
     "metadata": {},
     "output_type": "execute_result"
    }
   ],
   "source": [
    "\"nop +0 acc +1jmp +4acc +3jmp -3acc -99acc +1jmp -4acc +6\".f('acc')"
   ]
  },
  {
   "cell_type": "code",
   "execution_count": null,
   "id": "aadf7a08-ce3a-486d-aca6-8e35a16f8257",
   "metadata": {},
   "outputs": [],
   "source": []
  }
 ],
 "metadata": {
  "kernelspec": {
   "display_name": "Python 3 (ipykernel)",
   "language": "python",
   "name": "python3"
  },
  "language_info": {
   "codemirror_mode": {
    "name": "ipython",
    "version": 3
   },
   "file_extension": ".py",
   "mimetype": "text/x-python",
   "name": "python",
   "nbconvert_exporter": "python",
   "pygments_lexer": "ipython3",
   "version": "3.12.3"
  }
 },
 "nbformat": 4,
 "nbformat_minor": 5
}
