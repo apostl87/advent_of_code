{
 "cells": [
  {
   "cell_type": "code",
   "execution_count": 27,
   "id": "244662ba-fa46-4a1d-905f-4ca92f91e340",
   "metadata": {},
   "outputs": [],
   "source": [
    "import numpy as np, re\n",
    "from itertools import cycle, combinations\n",
    "from collections import defaultdict\n",
    "from aoclib import list2string\n",
    "import copy\n",
    "\n",
    "#lines = open('15.txt').read().strip()\n",
    "\n",
    "line = [2, 1, 10, 11, 0, 6]"
   ]
  },
  {
   "cell_type": "code",
   "execution_count": 28,
   "id": "e1b56f59-f4db-42d0-bbac-d4391995c65d",
   "metadata": {},
   "outputs": [
    {
     "name": "stdout",
     "output_type": "stream",
     "text": [
      "232\n"
     ]
    }
   ],
   "source": [
    "# Part 1\n",
    "history = dict()\n",
    "last_spoken = None\n",
    "for i, number in enumerate(line, start = 1):\n",
    "    if i > 1:\n",
    "        history[last_spoken] = i - 1\n",
    "    last_spoken = number\n",
    "while True:\n",
    "    i += 1\n",
    "    if last_spoken in history:\n",
    "        number = i - 1 - history[last_spoken]\n",
    "    else:\n",
    "        number = 0\n",
    "    history[last_spoken] = i - 1\n",
    "    last_spoken = number\n",
    "    if i == 2020:\n",
    "        print(last_spoken)\n",
    "        break"
   ]
  },
  {
   "cell_type": "code",
   "execution_count": 22,
   "id": "8663c682-d701-4671-ab02-0b9600d07df7",
   "metadata": {},
   "outputs": [
    {
     "data": {
      "text/plain": [
       "{None: 1, 3: 8, 6: 3, 0: 7, 2: 6, 7: 9}"
      ]
     },
     "execution_count": 22,
     "metadata": {},
     "output_type": "execute_result"
    }
   ],
   "source": [
    "history"
   ]
  },
  {
   "cell_type": "code",
   "execution_count": 29,
   "id": "98391b6e-4ac4-4fd6-8fa5-0257405b860d",
   "metadata": {},
   "outputs": [
    {
     "name": "stdout",
     "output_type": "stream",
     "text": [
      "18929178\n"
     ]
    }
   ],
   "source": [
    "# Part 1\n",
    "history = dict()\n",
    "last_spoken = None\n",
    "for i, number in enumerate(line, start = 1):\n",
    "    if i > 1:\n",
    "        history[last_spoken] = i - 1\n",
    "    last_spoken = number\n",
    "while True:\n",
    "    i += 1\n",
    "    if last_spoken in history:\n",
    "        number = i - 1 - history[last_spoken]\n",
    "    else:\n",
    "        number = 0\n",
    "    history[last_spoken] = i - 1\n",
    "    last_spoken = number\n",
    "    if i == 30_000_000:\n",
    "        print(last_spoken)\n",
    "        break"
   ]
  }
 ],
 "metadata": {
  "kernelspec": {
   "display_name": "Python 3 (ipykernel)",
   "language": "python",
   "name": "python3"
  },
  "language_info": {
   "codemirror_mode": {
    "name": "ipython",
    "version": 3
   },
   "file_extension": ".py",
   "mimetype": "text/x-python",
   "name": "python",
   "nbconvert_exporter": "python",
   "pygments_lexer": "ipython3",
   "version": "3.12.3"
  }
 },
 "nbformat": 4,
 "nbformat_minor": 5
}
