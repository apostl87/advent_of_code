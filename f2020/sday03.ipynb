{
 "cells": [
  {
   "cell_type": "code",
   "execution_count": 9,
   "id": "244662ba-fa46-4a1d-905f-4ca92f91e340",
   "metadata": {},
   "outputs": [],
   "source": [
    "import re\n",
    "\n",
    "lines = open('03.txt').read().strip().splitlines()\n",
    "\n",
    "grid = []\n",
    "for line in lines:\n",
    "    grid.append(list(line))\n",
    "n = len(grid[0])"
   ]
  },
  {
   "cell_type": "code",
   "execution_count": 10,
   "id": "dc136688-fd9e-44a1-be31-39c123f035ec",
   "metadata": {},
   "outputs": [
    {
     "data": {
      "text/plain": [
       "240"
      ]
     },
     "execution_count": 10,
     "metadata": {},
     "output_type": "execute_result"
    }
   ],
   "source": [
    "y, x = 0, 0\n",
    "result = 0\n",
    "while True:\n",
    "    y += 1\n",
    "    if y >= len(grid):\n",
    "        break\n",
    "    x += 3\n",
    "    result += 1 if grid[y][x % n] == '#' else 0\n",
    "result"
   ]
  },
  {
   "cell_type": "code",
   "execution_count": 13,
   "id": "5a104971-16e6-439b-8662-b4e60316bead",
   "metadata": {},
   "outputs": [
    {
     "data": {
      "text/plain": [
       "2832009600"
      ]
     },
     "execution_count": 13,
     "metadata": {},
     "output_type": "execute_result"
    }
   ],
   "source": [
    "slopes = [(1, 1), (3, 1), (5, 1), (7, 1), (1, 2)]\n",
    "result = 1\n",
    "for slope in slopes:\n",
    "    y, x, trees = 0, 0, 0\n",
    "    while True:\n",
    "        y += slope[1]\n",
    "        if y >= len(grid):\n",
    "            break\n",
    "        x += slope[0]\n",
    "        trees += 1 if grid[y][x % n] == '#' else 0\n",
    "    result *= trees\n",
    "result"
   ]
  },
  {
   "cell_type": "code",
   "execution_count": null,
   "id": "cbe39ca0-c51a-4ca9-a885-f481b8f6aec7",
   "metadata": {},
   "outputs": [],
   "source": []
  }
 ],
 "metadata": {
  "kernelspec": {
   "display_name": "Python 3 (ipykernel)",
   "language": "python",
   "name": "python3"
  },
  "language_info": {
   "codemirror_mode": {
    "name": "ipython",
    "version": 3
   },
   "file_extension": ".py",
   "mimetype": "text/x-python",
   "name": "python",
   "nbconvert_exporter": "python",
   "pygments_lexer": "ipython3",
   "version": "3.12.3"
  }
 },
 "nbformat": 4,
 "nbformat_minor": 5
}
