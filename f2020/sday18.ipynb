{
 "cells": [
  {
   "cell_type": "code",
   "execution_count": 79,
   "id": "244662ba-fa46-4a1d-905f-4ca92f91e340",
   "metadata": {},
   "outputs": [],
   "source": [
    "import numpy as np, re\n",
    "from itertools import cycle, combinations, groupby\n",
    "from collections import defaultdict\n",
    "from aoclib import list2string\n",
    "import copy"
   ]
  },
  {
   "cell_type": "code",
   "execution_count": 98,
   "id": "170d8086-b6b4-4f32-9cc6-69a376c123d9",
   "metadata": {},
   "outputs": [
    {
     "name": "stdout",
     "output_type": "stream",
     "text": [
      "24650385570008\n"
     ]
    },
    {
     "name": "stderr",
     "output_type": "stream",
     "text": [
      "<>:2: SyntaxWarning: invalid escape sequence '\\d'\n",
      "<>:2: SyntaxWarning: invalid escape sequence '\\d'\n",
      "/var/folders/m7/fb2rmjkn5xl1dxf23c4zfy0h0000gp/T/ipykernel_75670/2336421285.py:2: SyntaxWarning: invalid escape sequence '\\d'\n",
      "  token_re = re.compile('\\d+|[()+*]')\n"
     ]
    }
   ],
   "source": [
    "# Part 1, from https://github.com/tmo1/adventofcode/blob/main/2020/18.py\n",
    "token_re = re.compile('\\d+|[()+*]')\n",
    "\n",
    "f = open('18.txt', 'r')\n",
    "#f = open('sample', 'r')\n",
    "\n",
    "def solve(i):\n",
    "\ttotal, j, operator = 0, i, ''\n",
    "\twhile j < len(line):\n",
    "\t\tm = token_re.match(line[j:])\n",
    "\t\ttoken = m.group()\n",
    "\t\tj += len(token)\n",
    "\t\tif token == '*' or token == '+':\n",
    "\t\t\toperator = token\n",
    "\t\t\tcontinue\n",
    "\t\tif token == ')':\n",
    "\t\t\treturn [total, j]\n",
    "\t\tif token == '(':\n",
    "\t\t\ts = solve(j)\n",
    "\t\t\tn = s[0]\n",
    "\t\t\tj = s[1]\n",
    "\t\telse:\n",
    "\t\t\tn = int(token)\n",
    "\t\ttotal = n if operator == '' else total + n if operator == '+' else total * n\n",
    "\treturn [total, j]\n",
    "total = 0\n",
    "while line := f.readline():\n",
    "\tline = ''.join(line.split())\n",
    "\tr = solve(0)\n",
    "\ttotal += r[0]\n",
    "print(total)"
   ]
  },
  {
   "cell_type": "code",
   "execution_count": 96,
   "id": "9f879350-e6d3-4b9b-a748-7c184d0e1b64",
   "metadata": {},
   "outputs": [
    {
     "name": "stdout",
     "output_type": "stream",
     "text": [
      "158183007916215\n"
     ]
    }
   ],
   "source": [
    "lines = open('18.txt').read().strip()\n",
    "#lines = ['1 + (7 + (2 * 3) + 4) * 5 + 6'.replace(\" \", \"\")]\n",
    "\n",
    "def do_additions(expr):\n",
    "    matches = re.findall(r'\\d+\\+\\d+', expr)\n",
    "    while matches:\n",
    "        for match in matches:\n",
    "            summands = [int(x) for x in match.split(\"+\")]\n",
    "            expr = expr.replace(match, str(op.add(*summands)))\n",
    "        matches = re.findall(r'\\d+\\+\\d+', expr)\n",
    "    return expr\n",
    "\n",
    "result = 0\n",
    "for expr in lines.splitlines():\n",
    "    expr = expr.replace(\" \", \"\")\n",
    "    separated = []\n",
    "    level = 0\n",
    "    for j, el in enumerate(expr.split(\"(\")):\n",
    "        if j >= 1:\n",
    "            level += 1\n",
    "        parts = el.split(\")\")\n",
    "        for i, part in enumerate(parts):\n",
    "            if i >= 1:\n",
    "                level -= 1\n",
    "            separated.append((level, part))\n",
    "    #print(separated)\n",
    "    \n",
    "    while True: \n",
    "        max_level = max(x[0] for x in separated)\n",
    "        for i, s in enumerate(separated):\n",
    "            if s[0] == max_level:\n",
    "                s = do_additions(s[1])\n",
    "                if \"*\" in s:\n",
    "                    factors = [int(x) for x in s.split(\"*\")]\n",
    "                    s = 1\n",
    "                    for factor in factors:\n",
    "                        s *= factor\n",
    "                separated[i] = (max_level - 1, str(s))\n",
    "        #print(separated)\n",
    "    \n",
    "        new_separated = []\n",
    "        for k, g in groupby(separated, key = lambda x: x[0]):\n",
    "            g = ''.join([x[1] for x in list(g)])\n",
    "            new_separated.append((k, g))\n",
    "        separated = new_separated\n",
    "        #print(separated)\n",
    "    \n",
    "        if max_level == 0:\n",
    "            break\n",
    "    #print(separated)\n",
    "    result += int(separated[0][-1])\n",
    "    #break\n",
    "print(result)   "
   ]
  },
  {
   "cell_type": "code",
   "execution_count": 97,
   "id": "02ba0434-c54e-487d-aa7d-c17c330afbcf",
   "metadata": {},
   "outputs": [
    {
     "name": "stdout",
     "output_type": "stream",
     "text": [
      "158183007916215\n"
     ]
    },
    {
     "name": "stderr",
     "output_type": "stream",
     "text": [
      "<>:6: SyntaxWarning: invalid escape sequence '\\d'\n",
      "<>:6: SyntaxWarning: invalid escape sequence '\\d'\n",
      "/var/folders/m7/fb2rmjkn5xl1dxf23c4zfy0h0000gp/T/ipykernel_75670/1595398559.py:6: SyntaxWarning: invalid escape sequence '\\d'\n",
      "  token_re = re.compile('(\\d+|[()+*])(.*)')\n"
     ]
    }
   ],
   "source": [
    "# https://github.com/tmo1/adventofcode/blob/main/2020/18b.py\n",
    "\n",
    "import re\n",
    "token_re = re.compile('(\\d+|[()+*])(.*)')\n",
    "f = open('18.txt', 'r')\n",
    "#f = open('sample', 'r')\n",
    "\n",
    "def reduce(expr):\n",
    "\ti = 0\n",
    "\twhile i < len(expr):\n",
    "\t\tif expr[i] == '(':\n",
    "\t\t\texpr = expr[:i] + reduce(expr[i+1:])\n",
    "\t\telif expr[i] == ')':\n",
    "\t\t\treturn [solve(expr[:i])] + expr[i+1:]\n",
    "\t\ti += 1\n",
    "\treturn solve(expr)\n",
    "\n",
    "def solve(expr):\n",
    "\ti = 0\n",
    "\twhile i < len(expr):\n",
    "\t\tif expr[i] == '+':\n",
    "\t\t\texpr = expr[:i-1] + [expr[i-1] + expr[i+1]] + expr[i+2:]\n",
    "\t\t\tcontinue\n",
    "\t\ti += 1\n",
    "\ti = 0\n",
    "\twhile i < len(expr):\n",
    "\t\tif expr[i] == '*':\n",
    "\t\t\texpr = expr[:i-1] + [expr[i-1] * expr[i+1]] + expr[i+2:]\n",
    "\t\t\tcontinue\n",
    "\t\ti += 1\n",
    "\treturn expr[0]\n",
    "\n",
    "total = 0\n",
    "while line := f.readline():\n",
    "\texpr = []\n",
    "\tline = ''.join(line.split())\n",
    "\twhile line:\n",
    "\t\tm = token_re.match(line)\n",
    "\t\texpr.append(int(m.group(1)) if m.group(1).isdigit() else m.group(1))\n",
    "\t\tline = m.group(2)\n",
    "\t#print('tokenization:', expr)\n",
    "\ttotal += reduce(expr)\n",
    "\n",
    "print(total)"
   ]
  },
  {
   "cell_type": "code",
   "execution_count": null,
   "id": "8ecb8a76-5ab3-4496-a587-1836e347c570",
   "metadata": {},
   "outputs": [],
   "source": []
  }
 ],
 "metadata": {
  "kernelspec": {
   "display_name": "Python 3 (ipykernel)",
   "language": "python",
   "name": "python3"
  },
  "language_info": {
   "codemirror_mode": {
    "name": "ipython",
    "version": 3
   },
   "file_extension": ".py",
   "mimetype": "text/x-python",
   "name": "python",
   "nbconvert_exporter": "python",
   "pygments_lexer": "ipython3",
   "version": "3.12.3"
  }
 },
 "nbformat": 4,
 "nbformat_minor": 5
}
