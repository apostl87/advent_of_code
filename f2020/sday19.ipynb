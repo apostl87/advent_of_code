{
 "cells": [
  {
   "cell_type": "code",
   "execution_count": 139,
   "id": "b1c5af72-427d-4969-b630-333b256d8110",
   "metadata": {},
   "outputs": [],
   "source": [
    "import numpy as np, re\n",
    "from itertools import cycle\n",
    "from aoclib import list2string, string2list\n",
    "from itertools import combinations"
   ]
  },
  {
   "cell_type": "code",
   "execution_count": 173,
   "id": "7cca95be-85e2-4a5c-9f40-576b475a8e55",
   "metadata": {},
   "outputs": [
    {
     "data": {
      "text/plain": [
       "('b', False)"
      ]
     },
     "execution_count": 173,
     "metadata": {},
     "output_type": "execute_result"
    }
   ],
   "source": [
    "test_string(\"b\")"
   ]
  },
  {
   "cell_type": "code",
   "execution_count": 195,
   "id": "ec0a56bf-a61f-4cdb-acda-c8da2b6fd08e",
   "metadata": {},
   "outputs": [],
   "source": [
    "def test_string(msg, ruleno = 0):\n",
    "    current_rule = rules[ruleno]\n",
    "\n",
    "    if msg == '':\n",
    "        return msg, False\n",
    "    \n",
    "    if current_rule in [['a'], ['b']]:\n",
    "        if msg[0] == current_rule[0]:\n",
    "            if len(msg) > 1:\n",
    "                return msg[1:], True\n",
    "            else:\n",
    "                return '', True\n",
    "        else:\n",
    "            return msg, False\n",
    "            \n",
    "    if type(current_rule) == list:\n",
    "\n",
    "        msg_sav = msg\n",
    "        for r in current_rule:\n",
    "            msg, success = test_string(msg, r)\n",
    "            if not success:\n",
    "                return msg_sav, success\n",
    "\n",
    "        if success:\n",
    "            return msg, success\n",
    "                \n",
    "    elif type(current_rule) == tuple:\n",
    "        \n",
    "        msg_sav = msg\n",
    "        for r in current_rule[0]:\n",
    "            msg, success = test_string(msg, r)\n",
    "            if not success:\n",
    "                break\n",
    "                \n",
    "        if success:\n",
    "            return msg, success\n",
    "            \n",
    "        msg = msg_sav\n",
    "        for r in current_rule[1]:\n",
    "            msg, success = test_string(msg, r)\n",
    "            if not success:\n",
    "                return msg_sav, success\n",
    "\n",
    "        if success:\n",
    "            return msg, success\n",
    "\n",
    "def test_string_wrapper(msg, ruleno = 0):\n",
    "    msg, success = test_string(msg, ruleno = ruleno)\n",
    "    if len(msg) > 0:\n",
    "        return False\n",
    "    else:\n",
    "        return success"
   ]
  },
  {
   "cell_type": "code",
   "execution_count": 196,
   "id": "ed8f1a36-ae6b-474d-8e92-3ca2e0d3eb99",
   "metadata": {},
   "outputs": [
    {
     "name": "stdout",
     "output_type": "stream",
     "text": [
      "187\n"
     ]
    }
   ],
   "source": [
    "# Part 1\n",
    "lines = open('19.txt').read().strip()\n",
    "\n",
    "rules_input, messages_input = lines.split(\"\\n\\n\")\n",
    "rules = dict()\n",
    "for i, ri in enumerate(rules_input.splitlines()):\n",
    "    no, subrules = ri.split(\":\")\n",
    "    parts = subrules.split(\"|\")\n",
    "    if len(parts) == 2:\n",
    "        rules[int(no)] = ([int(x) for x in parts[0].split()], [int(x) for x in parts[1].split()])\n",
    "    else:\n",
    "        rules[int(no)] = ([int(x) if x.isnumeric() else x[1] for x in parts[0].split()])\n",
    "        \n",
    "total = 0\n",
    "for message in messages_input.splitlines():\n",
    "    res = test_string_wrapper(message)\n",
    "    total += res\n",
    "print(total)"
   ]
  },
  {
   "cell_type": "code",
   "execution_count": 323,
   "id": "80d5cd0c-b902-42cc-a5aa-712a666a20a9",
   "metadata": {},
   "outputs": [
    {
     "name": "stdout",
     "output_type": "stream",
     "text": [
      "392\n"
     ]
    }
   ],
   "source": [
    "import copy\n",
    "\n",
    "# Part 2\n",
    "lines = open('19.txt').read().strip()\n",
    "\n",
    "rules_input, messages_input = lines.split(\"\\n\\n\")\n",
    "rules = dict()\n",
    "for i, ri in enumerate(rules_input.splitlines()):\n",
    "    no, subrules = ri.split(\":\")\n",
    "    parts = subrules.split(\"|\")\n",
    "    if len(parts) == 2:\n",
    "        rules[int(no)] = ([int(x) for x in parts[0].split()], [int(x) for x in parts[1].split()])\n",
    "    else:\n",
    "        rules[int(no)] = [int(x) if x.isnumeric() else x[1] for x in parts[0].split()]\n",
    "rules[8] = tuple((rules[8], [42, 8]))\n",
    "rules[11] = tuple((rules[11], [42, 11, 31]))\n",
    "\n",
    "#8: 42 | 42 8\n",
    "#11: 42 31 | 42 11 31 \n",
    "        \n",
    "total = 0\n",
    "yy = []\n",
    "for message in messages_input.splitlines():\n",
    "    res = test_string_wrapper(message)\n",
    "    if res == False:\n",
    "        x1 = test_string(message, ruleno = 42)\n",
    "        x1 = test_string(x1[0], ruleno = 42)\n",
    "        residual = copy.deepcopy(x1)\n",
    "        it = 0\n",
    "        while residual[1] == True:\n",
    "            it += 1\n",
    "            residual = test_string(residual[0], ruleno = 42)\n",
    "        flag = 1\n",
    "        for i in range(1, it):\n",
    "            x2 = copy.deepcopy(x1)\n",
    "            for _ in range(i):\n",
    "                #print(j)\n",
    "                #break\n",
    "                x2 = test_string(x2[0], ruleno = 42)\n",
    "            for j in range(i + 2):\n",
    "                x2 = test_string(x2[0], ruleno = 31)\n",
    "                if x2[1] == True and x2[0] == '':\n",
    "                        if message == 'abbbabaabbbaabaaabbbbbaaabbabababababbbabaabbabaaabababbbbbbbbbbbbbbabba':\n",
    "                            print(message)\n",
    "                            print(x1[0])\n",
    "                            print(\"i\", i, \"j\", j)\n",
    "                        res = True\n",
    "                        flag = 0\n",
    "                        #print(message)\n",
    "                        break\n",
    "                if x2[1] == False:\n",
    "                    break\n",
    "            if flag == 0:\n",
    "                break\n",
    "        #print(it, \"max iteration\")\n",
    "    \n",
    "    total += res\n",
    "    yy.append((res, message))\n",
    "print(total)"
   ]
  },
  {
   "cell_type": "code",
   "execution_count": 262,
   "id": "891ebc26-caf3-4db0-8119-e941c7b80e56",
   "metadata": {},
   "outputs": [
    {
     "data": {
      "text/plain": [
       "('', True)"
      ]
     },
     "execution_count": 262,
     "metadata": {},
     "output_type": "execute_result"
    }
   ],
   "source": [
    "x = test_string('aabbaabb', ruleno= 31)\n",
    "x"
   ]
  },
  {
   "cell_type": "code",
   "execution_count": 263,
   "id": "015b196f-05dd-443e-9adc-f5f4948adc7a",
   "metadata": {},
   "outputs": [
    {
     "data": {
      "text/plain": [
       "False"
      ]
     },
     "execution_count": 263,
     "metadata": {},
     "output_type": "execute_result"
    }
   ],
   "source": [
    "test_string('abbbbaaabbbbaabbabbbaabaababbaababbbabbb', ruleno=42)\n",
    "isValid(getRule(42), 'abbbbaaabbbbaabbabbbaabaababbaababbbabbb')"
   ]
  },
  {
   "cell_type": "code",
   "execution_count": 322,
   "id": "afdb798e-7441-416b-8db4-1a7dec1ff5c5",
   "metadata": {},
   "outputs": [
    {
     "data": {
      "text/plain": [
       "('bababbbabaabbabaaabababbbbbbbbbbbbbbabba', True)"
      ]
     },
     "execution_count": 322,
     "metadata": {},
     "output_type": "execute_result"
    }
   ],
   "source": [
    "x = test_string('abbbabaabbbaabaaabbbbbaaabbabababababbbabaabbabaaabababbbbbbbbbbbbbbabba', ruleno=42)\n",
    "for i in range(3):\n",
    "    x = test_string(x[0], ruleno = 42)\n",
    "x"
   ]
  },
  {
   "cell_type": "code",
   "execution_count": 304,
   "id": "5f629f6e-82f7-474c-9d25-924662d934a6",
   "metadata": {},
   "outputs": [
    {
     "name": "stdout",
     "output_type": "stream",
     "text": [
      "2 ('bababbbabaabbabaaabababbbbbbbbbbbbbbabba', False)\n"
     ]
    }
   ],
   "source": [
    "y = test_string('bababbbabaabbabaaabababbbbbbbbbbbbbbabba', ruleno=42)\n",
    "print(len(y), y)"
   ]
  },
  {
   "cell_type": "code",
   "execution_count": 317,
   "id": "19df9f3b-8603-4c01-87c5-760cd13b8582",
   "metadata": {},
   "outputs": [
    {
     "name": "stdout",
     "output_type": "stream",
     "text": [
      "2 ('', True)\n"
     ]
    }
   ],
   "source": [
    "z = test_string('bbbbabba', ruleno=31)\n",
    "print(len(z), z)"
   ]
  },
  {
   "cell_type": "code",
   "execution_count": 267,
   "id": "373a3574-c4ba-49a8-a1ed-af080277b957",
   "metadata": {},
   "outputs": [
    {
     "name": "stdout",
     "output_type": "stream",
     "text": [
      "('abbbabaabbbaabaaabbbbbaaabbabababababbbabaabbabaaabababbbbbbbbbbbbbbabba', False) (True, 'abbbabaabbbaabaaabbbbbaaabbabababababbbabaabbabaaabababbbbbbbbbbbbbbabba')\n"
     ]
    }
   ],
   "source": [
    "for i in range(len(y)):\n",
    "    if y[i][-1] != yy[i][0]:\n",
    "        print(y[i], yy[i])"
   ]
  },
  {
   "cell_type": "code",
   "execution_count": 266,
   "id": "edd48440-0172-4af6-8e8e-6c87c3380b42",
   "metadata": {},
   "outputs": [
    {
     "name": "stdout",
     "output_type": "stream",
     "text": [
      "24\n",
      "Final count: 392\n"
     ]
    }
   ],
   "source": [
    "def makeRules(fn):\n",
    "  with open(fn) as file:\n",
    "    raw = file.read().split(\"\\n\\n\")\n",
    "  rulesDict = {}\n",
    "  for rule in raw[0].split(\"\\n\"):\n",
    "    rule = rule.split(\":\")\n",
    "    if \"\\\"\" in rule[1]:\n",
    "      subrules = rule[1][2]\n",
    "    elif \"|\" in rule[1]:\n",
    "      subrules = [[int(j)for j in i.strip().split()] for i in rule[1].strip().split(\"|\")]\n",
    "    else:\n",
    "      subrules = [int(i) for i in rule[1].strip().split(\" \")]\n",
    "    rulesDict[int(rule[0])] = subrules\n",
    "  messages = raw[1].split(\"\\n\")\n",
    "\n",
    "  return rulesDict, messages\n",
    "\n",
    "def printRules(rulesDict):\n",
    "  print(\"Printing Rules\")\n",
    "  for rule in rulesDict:\n",
    "    print(str(rule) + \": \" + str(rulesDict[rule]))\n",
    "  print(\"Done.\")\n",
    "\n",
    "#Takes a formatted password string and calculates the length.\n",
    "#Assumes all branches of the password are uniform in length.\n",
    "#Input: \"a[[aa|bb][ab|ba]|[ab|ba][aa|bb]]b\"\n",
    "#Output: 6\n",
    "def getLen(rule): #Computes the length of password rules for isvalid.\n",
    "  cur, count = 0, 0\n",
    "  while cur < len(rule):\n",
    "    if rule[cur] in (\"a\", \"b\"):\n",
    "      count += 1\n",
    "    elif rule[cur] == \"|\":\n",
    "      depth = 1\n",
    "      while depth > 0:\n",
    "        cur += 1\n",
    "        if rule[cur] == \"|\":\n",
    "          depth += 1\n",
    "        elif rule[cur] == \"]\":\n",
    "          depth -= 1\n",
    "    cur += 1\n",
    "\n",
    "  return count\n",
    "\n",
    "#Determines if a given message is valid against the formatted pasword string\n",
    "#Inputs: (String) formatted password string, (String) message\n",
    "#Output: Boolean \n",
    "def isValid(rule, message):\n",
    "  ptrs = [0]\n",
    "  mPtr = [0]\n",
    "  ruleLen = getLen(rule)\n",
    "\n",
    "  if len(message) != ruleLen:\n",
    "    return False\n",
    "\n",
    "  #Because we know that the length of the message matches the check exactly we know that once you get past the nth letter, you've passed.\n",
    "  while ptrs:\n",
    "    if mPtr[0] >= len(message):\n",
    "      return True\n",
    "\n",
    "    cur = rule[ptrs[0]] #Get the value pointed to by the current pointer\n",
    "    if cur.isalpha(): #If it's a simple a or b, evaluate it. If it's bad, trash the pointers and start from the next one.\n",
    "      if message[mPtr[0]] == cur:\n",
    "        ptrs[0] += 1\n",
    "        mPtr[0] += 1\n",
    "      else:\n",
    "        ptrs.pop(0)\n",
    "        mPtr.pop(0)\n",
    "    elif cur == \"[\": #Create a second pointer after the relevant \"|\". Watch for errant \"[\"s. Increment pointer.\n",
    "      tempPtr, depth = ptrs[0] + 1, 1\n",
    "      while depth > 0:\n",
    "        if rule[tempPtr] == \"[\":\n",
    "          depth += 1\n",
    "        elif rule[tempPtr] == \"|\":\n",
    "          depth -= 1\n",
    "        tempPtr += 1\n",
    "      ptrs.append(tempPtr)\n",
    "      mPtr.append(mPtr[0])\n",
    "      ptrs[0] += 1\n",
    "    elif cur == \"|\": # Skip forward to after the relevant \"]\". Watch for errant \"[\"s.\n",
    "      depth = 1\n",
    "      while depth > 0:\n",
    "        ptrs[0] += 1\n",
    "        if rule[ptrs[0]] == \"[\":\n",
    "          depth += 1\n",
    "        elif rule[ptrs[0]] == \"]\":\n",
    "          depth -= 1\n",
    "      ptrs[0] += 1\n",
    "    else: #Cur is at a \"]\", just increment it.\n",
    "      ptrs[0] += 1\n",
    "\n",
    "  #If you're run out of valid pointers to check, the rule must be invalid.\n",
    "  return False\n",
    "\n",
    "#Takes a set of rules and creates a formatter password string.\n",
    "#Input: [4, 1, 5]\n",
    "#Output: \"a[[aa|bb][ab|ba]|[ab|ba][aa|bb]]b\"\n",
    "def getRule(ruleIdx):\n",
    "  global rulesDict\n",
    "  rule = rulesDict[ruleIdx]\n",
    "  while not all(type(x) == str for x in rule):\n",
    "    i = 0\n",
    "    if type(rule[0]) == list:\n",
    "        rule = [\"[\"] + rule[0] + [\"|\"] + rule[1] + [\"]\"]\n",
    "\n",
    "    while i < len(rule):\n",
    "      instruction = rule[i]\n",
    "      #print(str(i) + \": \" + str(instruction))\n",
    "      if type(instruction) == str:\n",
    "        pass\n",
    "      else:\n",
    "        newInst = rulesDict[instruction]\n",
    "        if type(newInst) == int or type(newInst) == str:\n",
    "          rule = rule[:i] + [newInst] + rule[i + 1:]\n",
    "        else:\n",
    "          if type(newInst[0]) == int:\n",
    "            rule = rule[:i] + newInst + rule[i + 1:]\n",
    "          else:\n",
    "            rule = rule[:i] + [\"[\"] + newInst[0] + [\"|\"] + newInst[1] + [\"]\"] + rule[i + 1:]\n",
    "      i += 1\n",
    "\n",
    "  rule = \"\".join(rule)\n",
    "  return rule\n",
    "\n",
    "global y\n",
    "y = []\n",
    "#Check message segments against rule 42 twice, then check it against 42 until it fails, then check it against 31 until it fails or you pass.\n",
    "def part2():\n",
    "  rule42, rule31 = getRule(42), getRule(31)\n",
    "  ruleLen = getLen(rule42)\n",
    "  count = 0\n",
    "\n",
    "  for message in messages:\n",
    "    old_count = count\n",
    "    if len(message) % ruleLen != 0 or len(message) < (ruleLen * 3):\n",
    "      pass #Don't even bother validating.\n",
    "    elif len(message) == (ruleLen * 3):\n",
    "      count += 1 if isValid(rule42 + rule42 + rule31, message) else 0\n",
    "    else:\n",
    "      if isValid(rule42, message[0:ruleLen]) and isValid(rule42, message[ruleLen:2*ruleLen]) and isValid(rule31, message[-ruleLen:]):\n",
    "        midSegs = int(len(message) / ruleLen) - 3\n",
    "        valid42 = all(isValid(rule42, message[(2+i)*ruleLen:(3+i)*ruleLen]) for i in range(int(midSegs/2) + midSegs%2))\n",
    "\n",
    "        flag = 42\n",
    "        for i in range(int(midSegs/2), 0, -1):\n",
    "          if flag == 42: \n",
    "            flag = 42 if isValid(rule42, message[(i+1)*-ruleLen:i*-ruleLen]) else 31\n",
    "          if flag == 31:\n",
    "            flag = 31 if isValid(rule31, message[(i+1)*-ruleLen:i*-ruleLen]) else 0\n",
    "        count += 1 if flag > 0 and valid42 else 0\n",
    "        \n",
    "      else:\n",
    "        pass\n",
    "    if count != old_count:\n",
    "        y.append((message, True))\n",
    "    else:\n",
    "        y.append((message, False))\n",
    "  return count\n",
    "\n",
    "\n",
    "rulesDict, messages = makeRules(\"19.txt\")\n",
    "rule0 = getRule(0)\n",
    "print(getLen(rule0))\n",
    "#total = sum(isValid(rule0, message) for message in messages)\n",
    "#print(\"Final count: \" + str(total))\n",
    "\n",
    "p2count = part2()\n",
    "print(\"Final count: \" + str(p2count))"
   ]
  },
  {
   "cell_type": "code",
   "execution_count": null,
   "id": "bd7287f3-6804-4a4a-8e8a-b4d5a6c30340",
   "metadata": {},
   "outputs": [],
   "source": []
  }
 ],
 "metadata": {
  "kernelspec": {
   "display_name": "Python 3 (ipykernel)",
   "language": "python",
   "name": "python3"
  },
  "language_info": {
   "codemirror_mode": {
    "name": "ipython",
    "version": 3
   },
   "file_extension": ".py",
   "mimetype": "text/x-python",
   "name": "python",
   "nbconvert_exporter": "python",
   "pygments_lexer": "ipython3",
   "version": "3.12.3"
  }
 },
 "nbformat": 4,
 "nbformat_minor": 5
}
