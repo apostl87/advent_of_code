{
 "cells": [
  {
   "cell_type": "code",
   "execution_count": 48,
   "id": "244662ba-fa46-4a1d-905f-4ca92f91e340",
   "metadata": {},
   "outputs": [],
   "source": [
    "import re\n",
    "from collections import defaultdict\n",
    "\n",
    "lines = open('07.txt').read().strip()"
   ]
  },
  {
   "cell_type": "code",
   "execution_count": 49,
   "id": "07f58afa-e492-4c5e-a494-59b6b174569f",
   "metadata": {},
   "outputs": [],
   "source": [
    "def get_containers(item):\n",
    "    result = set()\n",
    "    for bag in containerof[item]:\n",
    "        result.add(bag)\n",
    "        result |= get_containers(bag)\n",
    "    return result"
   ]
  },
  {
   "cell_type": "code",
   "execution_count": 50,
   "id": "fd87b123-f65a-4668-b4db-7db5789b6cfe",
   "metadata": {},
   "outputs": [
    {
     "name": "stdout",
     "output_type": "stream",
     "text": [
      "148\n"
     ]
    }
   ],
   "source": [
    "# Part 1\n",
    "containerof = defaultdict(list)\n",
    "for i, rule in enumerate(lines.splitlines()):\n",
    "    bags = re.findall(r'(\\w+ \\w+ bag)', rule)\n",
    "    for j in range(1, len(bags)):\n",
    "        containerof[bags[j]].append(bags[0])\n",
    "\n",
    "item = 'shiny gold bag'\n",
    "containers = get_containers(item)\n",
    "print(len(containers))"
   ]
  },
  {
   "cell_type": "code",
   "execution_count": 51,
   "id": "b4c0a139-c328-4ec6-949c-4233ad91ab23",
   "metadata": {},
   "outputs": [
    {
     "name": "stdout",
     "output_type": "stream",
     "text": [
      "24867\n"
     ]
    }
   ],
   "source": [
    "# Part 2\n",
    "contentof = defaultdict(list)\n",
    "for i, rule in enumerate(lines.splitlines()):\n",
    "    bags = re.findall(r'([\\d]*[ ]*\\w+ \\w+ bag)', rule)\n",
    "    for j in range(1, len(bags)):\n",
    "        count, bag = bags[j].split(maxsplit = 1)\n",
    "        if count != 'no':\n",
    "            contentof[bags[0]].append((int(count), bag))\n",
    "        else:\n",
    "            contentof[bags[0]].append((0, '0'))\n",
    "\n",
    "def calculate_content(container):\n",
    "    result = 0\n",
    "    for count, bag in contentof[container]:\n",
    "        if count == 0:\n",
    "            continue\n",
    "        result += count\n",
    "        result += count*calculate_content(bag)\n",
    "    return result\n",
    "    \n",
    "container = 'shiny gold bag'\n",
    "content = calculate_content(container)\n",
    "print(content)"
   ]
  },
  {
   "cell_type": "markdown",
   "id": "678a4b2e-26f0-416f-a6e4-b7a337865ea2",
   "metadata": {},
   "source": [
    "<h3>Example input</h3>"
   ]
  },
  {
   "cell_type": "markdown",
   "id": "05f490bb-606a-456c-96c4-23ee82bd0d3a",
   "metadata": {},
   "source": [
    "light red bags contain 1 bright white bag, 2 muted yellow bags.\n",
    "dark orange bags contain 3 bright white bags, 4 muted yellow bags.\n",
    "bright white bags contain 1 shiny gold bag.\n",
    "muted yellow bags contain 2 shiny gold bags, 9 faded blue bags.\n",
    "shiny gold bags contain 1 dark olive bag, 2 vibrant plum bags.\n",
    "dark olive bags contain 3 faded blue bags, 4 dotted black bags.\n",
    "vibrant plum bags contain 5 faded blue bags, 6 dotted black bags.\n",
    "faded blue bags contain no other bags.\n",
    "dotted black bags contain no other bags."
   ]
  }
 ],
 "metadata": {
  "kernelspec": {
   "display_name": "Python 3 (ipykernel)",
   "language": "python",
   "name": "python3"
  },
  "language_info": {
   "codemirror_mode": {
    "name": "ipython",
    "version": 3
   },
   "file_extension": ".py",
   "mimetype": "text/x-python",
   "name": "python",
   "nbconvert_exporter": "python",
   "pygments_lexer": "ipython3",
   "version": "3.12.3"
  }
 },
 "nbformat": 4,
 "nbformat_minor": 5
}
