{
 "cells": [
  {
   "cell_type": "code",
   "execution_count": 47,
   "id": "1962e4cb-d7b4-4d0e-97de-110f3f2eb17a",
   "metadata": {},
   "outputs": [],
   "source": [
    "import re\n",
    "from collections import defaultdict\n",
    "import string"
   ]
  },
  {
   "cell_type": "code",
   "execution_count": 108,
   "id": "fc5b3ada-63a4-45ad-b829-b291af009c64",
   "metadata": {},
   "outputs": [
    {
     "name": "stdout",
     "output_type": "stream",
     "text": [
      "LAPFCRGHVZOTKWENBXIMSUDJQY\n",
      "Part 2: LRVAGPZHFOTCKWENBXIMSUDJQY Time: 936\n"
     ]
    }
   ],
   "source": [
    "input = open(\"7.txt\").read().strip()\n",
    "\n",
    "# Part 1\n",
    "# Get requirements\n",
    "req = dict()\n",
    "\n",
    "for i in input.splitlines():\n",
    "    regex = r'[Ss]tep (\\w)'\n",
    "    s = re.findall(regex, i)\n",
    "    if s[0] not in req:\n",
    "        req[s[0]] = set()\n",
    "    if s[1] not in req:\n",
    "        req[s[1]] = set()   \n",
    "    req[s[1]].add(s[0])\n",
    "\n",
    "order = ''\n",
    "while req:\n",
    "    next = sorted([x for x in req if not req[x]])[0]\n",
    "    order += next\n",
    "    del req[next]\n",
    "    for r in req:\n",
    "        req[r] -= set(next)\n",
    "print(order)\n",
    "\n",
    "# Part 2:\n",
    "# Get requirements\n",
    "todo = dict()\n",
    "\n",
    "for i in input.splitlines():\n",
    "    regex = r'[Ss]tep (\\w)'\n",
    "    s = re.findall(regex, i)\n",
    "    if s[0] not in todo:\n",
    "        todo[s[0]] = set()\n",
    "    if s[1] not in todo:\n",
    "        todo[s[1]] = set()   \n",
    "    todo[s[1]].add(s[0])\n",
    "\n",
    "workers = dict()\n",
    "done = ''\n",
    "t = -1\n",
    "while todo or workers:\n",
    "    t += 1\n",
    "    for step in workers:\n",
    "        workers[step] -= 1\n",
    "        if workers[step] == 0:\n",
    "            done += step\n",
    "            for x in todo:\n",
    "                todo[x] -= set(step)\n",
    "    workers = dict(filter(lambda keyvalue: keyvalue[1] > 0, workers.items()))\n",
    "            \n",
    "    available = sorted([x for x in todo if not todo[x]])\n",
    "    while available and len(workers) < 5:\n",
    "        step = available.pop(0)\n",
    "        workers[step] = 60 + 1 + string.ascii_uppercase.find(step)   \n",
    "        del todo[step]\n",
    "        available = sorted([x for x in todo if not todo[x]])\n",
    "\n",
    "    #print(\"Timestep finished\", workers) \n",
    "\n",
    "print(\"Part 2:\", done, \"Time:\", t)"
   ]
  },
  {
   "cell_type": "code",
   "execution_count": null,
   "id": "9f51f14a-4b87-4334-b7ff-f4c3328fd35f",
   "metadata": {},
   "outputs": [],
   "source": []
  }
 ],
 "metadata": {
  "kernelspec": {
   "display_name": "Python 3 (ipykernel)",
   "language": "python",
   "name": "python3"
  },
  "language_info": {
   "codemirror_mode": {
    "name": "ipython",
    "version": 3
   },
   "file_extension": ".py",
   "mimetype": "text/x-python",
   "name": "python",
   "nbconvert_exporter": "python",
   "pygments_lexer": "ipython3",
   "version": "3.12.3"
  }
 },
 "nbformat": 4,
 "nbformat_minor": 5
}
