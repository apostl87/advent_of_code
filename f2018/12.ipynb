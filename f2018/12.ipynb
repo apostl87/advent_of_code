{
 "cells": [
  {
   "cell_type": "code",
   "execution_count": 47,
   "id": "1a4840b7-46c9-4d8a-bc60-fe494d91260a",
   "metadata": {},
   "outputs": [],
   "source": [
    "import re, json, copy\n",
    "from collections import defaultdict\n",
    "from itertools import cycle, combinations, product\n",
    "\n",
    "input = 6303\n"
   ]
  },
  {
   "cell_type": "code",
   "execution_count": 88,
   "id": "40d7b7bb-b05f-41b3-b53e-5b06158558e6",
   "metadata": {},
   "outputs": [
    {
     "name": "stdout",
     "output_type": "stream",
     "text": [
      "243,27\n"
     ]
    }
   ],
   "source": [
    "sn = input\n",
    "\n",
    "N = 300\n",
    "def getpower(x, y, sn):\n",
    "    rackid = x + 10\n",
    "    power = ((rackid*y) + sn) * rackid\n",
    "    power = (power % 1000) // 100 - 5\n",
    "    return power\n",
    "\n",
    "def find_key_of_max(d):\n",
    "    keys = list(d.keys())\n",
    "    vals = list(d.values())\n",
    "    return keys[vals.index(max(vals))]\n",
    "\n",
    "grid = [['.'] * (N+1) for i in range(N+1)]\n",
    "\n",
    "for y in range(1, N + 1):\n",
    "    for x in range(1, N + 1):\n",
    "        grid[y][x] = getpower(x, y, sn)\n",
    "\n",
    "# Part 1\n",
    "totalpower = dict()\n",
    "for y in range(1, N-2):\n",
    "    for x in range(1, N-2):\n",
    "        totalpower[(x, y)] = sum([grid[y + y_][x + x_] for x_, y_ in list(product(range(3), range(3)))])\n",
    "\n",
    "result1 = find_key_of_max(totalpower)\n",
    "print(str(result1[0]) + ',' + str(result1[1]))\n",
    "\n"
   ]
  },
  {
   "cell_type": "code",
   "execution_count": 129,
   "id": "6ce0c5b9-c1b9-4c9d-9d21-161b92529079",
   "metadata": {},
   "outputs": [
    {
     "name": "stdout",
     "output_type": "stream",
     "text": [
      "284,172,12 88\n"
     ]
    }
   ],
   "source": [
    "sn = 6303\n",
    "\n",
    "out = []\n",
    "# Part 2\n",
    "ps = defaultdict(int) # partial sums\n",
    "for y in range(N):\n",
    "    for x in range(N):\n",
    "        ps[(x+1, y+1)] = getpower(x+1, y+1, sn) + ps[(x, y+1)] + ps[(x+1, y)] - ps[(x, y)]\n",
    "ps = dict(ps)\n",
    "\n",
    "totalpower = dict()\n",
    "for sz in range(1, N + 1):\n",
    "    for y in range(1, N + 1 - sz):\n",
    "        for x in range(1, N + 1 - sz):\n",
    "            totalpower[(x, y, sz)] = ps[(x-1, y-1)] + ps[(x+sz-1, y+sz-1)] - ps[(x+sz-1, y-1)] - ps[(x-1, y+sz-1)]\n",
    "result2 = find_key_of_max(totalpower)\n",
    "print(str(result2[0]) + ',' + str(result2[1]) + ',' + str(result2[2]), totalpower[result2])\n"
   ]
  },
  {
   "cell_type": "code",
   "execution_count": null,
   "id": "d28ab730-b83f-4095-8588-5cda517f7bb9",
   "metadata": {},
   "outputs": [],
   "source": []
  }
 ],
 "metadata": {
  "kernelspec": {
   "display_name": "Python 3 (ipykernel)",
   "language": "python",
   "name": "python3"
  },
  "language_info": {
   "codemirror_mode": {
    "name": "ipython",
    "version": 3
   },
   "file_extension": ".py",
   "mimetype": "text/x-python",
   "name": "python",
   "nbconvert_exporter": "python",
   "pygments_lexer": "ipython3",
   "version": "3.12.3"
  }
 },
 "nbformat": 4,
 "nbformat_minor": 5
}
