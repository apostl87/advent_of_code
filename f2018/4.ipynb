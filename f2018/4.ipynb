{
 "cells": [
  {
   "cell_type": "code",
   "execution_count": 77,
   "id": "1a4840b7-46c9-4d8a-bc60-fe494d91260a",
   "metadata": {},
   "outputs": [],
   "source": [
    "import re, json\n",
    "from collections import defaultdict\n",
    "from itertools import cycle, combinations\n",
    "import numpy as np\n",
    "\n",
    "input = open(\"4.input\").read().strip()\n",
    "lines = input.splitlines()"
   ]
  },
  {
   "cell_type": "code",
   "execution_count": 78,
   "id": "1f4abdb1-6adf-45e6-acd0-ee5911e2315b",
   "metadata": {},
   "outputs": [
    {
     "name": "stdout",
     "output_type": "stream",
     "text": [
      "Part 1: Guard: 2657 Minute: 33 ; 87681\n"
     ]
    }
   ],
   "source": [
    "parsed = []\n",
    "for line in lines:\n",
    "    parts = line.split()\n",
    "    parsed.append([parts[0][1:], parts[1][:-1], parts[2], parts[3]])\n",
    "parsed = sorted(parsed, key = lambda x: (x[0], x[1]))\n",
    "\n",
    "# Part 1\n",
    "d_g_asleep = defaultdict(lambda: defaultdict(int))\n",
    "for event in parsed:\n",
    "    minute = int(event[1].split(':')[-1])\n",
    "    if 'Guard' == event[2]:\n",
    "        guard = event[3]\n",
    "        asleep = False\n",
    "    elif 'falls' == event[2]:\n",
    "        asleep = minute\n",
    "    elif 'wakes' == event[2]:\n",
    "        for i in range(asleep, minute):\n",
    "            d_g_asleep[guard][i] += 1\n",
    "\n",
    "def find_key_of_highest_sum(d):\n",
    "    aux1 = -1 # auxiliary variable\n",
    "    for k in d:\n",
    "        total_asleep_time = sum([x for x in d[k].values()])\n",
    "        if total_asleep_time > aux1:\n",
    "            aux1 = total_asleep_time\n",
    "            best_guard = k\n",
    "    return best_guard\n",
    "\n",
    "def find_key_of_max(d):\n",
    "    keys = list(d.keys())\n",
    "    vals = list(d.values())\n",
    "    return keys[vals.index(max(vals))]\n",
    "    \n",
    "best_guard = find_key_of_highest_sum(d_g_asleep)\n",
    "best_minute = find_key_of_max(d_g_asleep[best_guard])\n",
    "best_guard = int(best_guard[1:])\n",
    "print(\"Part 1: Guard:\", best_guard, \"Minute:\", best_minute, \";\", best_guard * best_minute)\n"
   ]
  },
  {
   "cell_type": "code",
   "execution_count": 79,
   "id": "442e8725-0b30-433c-bbed-a51b8be01bfc",
   "metadata": {},
   "outputs": [
    {
     "name": "stdout",
     "output_type": "stream",
     "text": [
      "Part 2: Guard: 3499 Minute: 39 ; 136461\n"
     ]
    }
   ],
   "source": [
    "# Part 2\n",
    "def find_keys_of_max(d):\n",
    "    aux1 = 0\n",
    "    for k1 in d.keys():\n",
    "        for k2 in d[k1]:\n",
    "            if (val := d[k1][k2]) > aux1:\n",
    "                aux1 = val\n",
    "                best_guard = k1\n",
    "                best_minute = k2\n",
    "    return best_guard, best_minute\n",
    "    \n",
    "best_guard, best_minute = find_keys_of_max(d_g_asleep)\n",
    "best_guard = int(best_guard[1:])\n",
    "print(\"Part 2: Guard:\", best_guard, \"Minute:\", best_minute, \";\", best_guard * best_minute)\n"
   ]
  },
  {
   "cell_type": "code",
   "execution_count": null,
   "id": "40d7b7bb-b05f-41b3-b53e-5b06158558e6",
   "metadata": {},
   "outputs": [],
   "source": []
  }
 ],
 "metadata": {
  "kernelspec": {
   "display_name": "Python 3 (ipykernel)",
   "language": "python",
   "name": "python3"
  },
  "language_info": {
   "codemirror_mode": {
    "name": "ipython",
    "version": 3
   },
   "file_extension": ".py",
   "mimetype": "text/x-python",
   "name": "python",
   "nbconvert_exporter": "python",
   "pygments_lexer": "ipython3",
   "version": "3.12.3"
  }
 },
 "nbformat": 4,
 "nbformat_minor": 5
}
