{
 "cells": [
  {
   "cell_type": "code",
   "execution_count": 1,
   "id": "81a6addd-19b8-4474-ab51-948b70fab783",
   "metadata": {},
   "outputs": [],
   "source": [
    "import re, json\n",
    "from collections import defaultdict\n",
    "from itertools import cycle\n",
    "\n",
    "input = open(\"1.input\").read().strip()\n"
   ]
  },
  {
   "cell_type": "code",
   "execution_count": 3,
   "id": "f1c2be8e-da34-4ab1-b774-2ce7f0b893dc",
   "metadata": {},
   "outputs": [
    {
     "name": "stdout",
     "output_type": "stream",
     "text": [
      "479\n"
     ]
    }
   ],
   "source": [
    "freq = 0\n",
    "for c in input.splitlines(input):\n",
    "    freq += int(c)\n",
    "print(freq)"
   ]
  },
  {
   "cell_type": "code",
   "execution_count": 7,
   "id": "ab44f6b3-673a-4b2d-b24e-3fc4d2bc4df1",
   "metadata": {},
   "outputs": [
    {
     "data": {
      "text/plain": [
       "16"
      ]
     },
     "execution_count": 7,
     "metadata": {},
     "output_type": "execute_result"
    }
   ],
   "source": [
    "next(changes)"
   ]
  },
  {
   "cell_type": "code",
   "execution_count": 9,
   "id": "b8d482b6-c4b9-44fa-85eb-e10432d9dc56",
   "metadata": {},
   "outputs": [
    {
     "name": "stdout",
     "output_type": "stream",
     "text": [
      "66105\n"
     ]
    }
   ],
   "source": [
    "freq = 0\n",
    "known = set({freq})\n",
    "changes = cycle([int(x) for x in input.splitlines()])\n",
    "while True:\n",
    "    c = next(changes)\n",
    "    freq += int(c)\n",
    "    if freq in known:\n",
    "        break\n",
    "    known.add(freq)\n",
    "print(freq)"
   ]
  },
  {
   "cell_type": "code",
   "execution_count": null,
   "id": "443b270a-1589-4862-81b7-ff28d9aadf3d",
   "metadata": {},
   "outputs": [],
   "source": []
  }
 ],
 "metadata": {
  "kernelspec": {
   "display_name": "Python 3 (ipykernel)",
   "language": "python",
   "name": "python3"
  },
  "language_info": {
   "codemirror_mode": {
    "name": "ipython",
    "version": 3
   },
   "file_extension": ".py",
   "mimetype": "text/x-python",
   "name": "python",
   "nbconvert_exporter": "python",
   "pygments_lexer": "ipython3",
   "version": "3.12.3"
  }
 },
 "nbformat": 4,
 "nbformat_minor": 5
}
