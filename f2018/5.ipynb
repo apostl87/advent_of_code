{
 "cells": [
  {
   "cell_type": "code",
   "execution_count": 55,
   "id": "ebf8f971-b121-4e87-a206-d1614761d033",
   "metadata": {},
   "outputs": [],
   "source": [
    "import re\n",
    "import string"
   ]
  },
  {
   "cell_type": "code",
   "execution_count": 56,
   "id": "21217d55-d905-45c2-98b1-80e22a74ff65",
   "metadata": {},
   "outputs": [],
   "source": [
    "input = open(\"5.txt\").read().strip()"
   ]
  },
  {
   "cell_type": "code",
   "execution_count": 85,
   "id": "e83204de-54fa-4385-816f-a7273dcf8958",
   "metadata": {},
   "outputs": [
    {
     "name": "stdout",
     "output_type": "stream",
     "text": [
      "<re.Match object; span=(4, 6), match='lL'> <re.Match object; span=(8, 10), match='Kk'>\n",
      "(aA|Aa|bB|Bb|cC|Cc|dD|Dd|eE|Ee|fF|Ff|gG|Gg|hH|Hh|iI|Ii|jJ|Jj|kK|Kk|lL|Ll|mM|Mm|nN|Nn|oO|Oo|pP|Pp|qQ|Qq|rR|Rr|sS|Ss|tT|Tt|uU|Uu|vV|Vv|wW|Ww|xX|Xx|yY|Yy|zZ|Zz)\n",
      "50000\n"
     ]
    }
   ],
   "source": [
    "# Build strings that should be searched for and make a regular expression\n",
    "chains = []\n",
    "for letter in string.ascii_lowercase:\n",
    "    chains.append(letter + letter.upper())\n",
    "    chains.append(letter.upper() + letter)\n",
    "regex = r'({})'.format('|'.join(chains))\n",
    "\n",
    "def react_polymer(input):\n",
    "    polymer = input\n",
    "    current_index = 0\n",
    "    last_length = float('inf')\n",
    "    \n",
    "    while len(polymer) < last_length:\n",
    "        last_length = len(polymer)\n",
    "        \n",
    "        # Identify reactions\n",
    "        reactions = []\n",
    "        m = re.finditer(regex, polymer)\n",
    "        while item := next(m, False):\n",
    "            #print(\"Found\", item)\n",
    "            reactions.append(item.start())\n",
    "    \n",
    "        # Delete all found occurences\n",
    "        polymer = list(polymer)\n",
    "        reactions.reverse()\n",
    "        for r in reactions:\n",
    "            [polymer.pop(r) for i in range(2)]\n",
    "        polymer = ''.join(polymer)\n",
    "    return len(polymer)"
   ]
  },
  {
   "cell_type": "code",
   "execution_count": 95,
   "id": "42f05189-9c76-4a8b-89c0-7d0310afb73e",
   "metadata": {},
   "outputs": [
    {
     "name": "stdout",
     "output_type": "stream",
     "text": [
      "Part 1: 11264\n",
      "Testing letter 'a' ...\n",
      "Testing letter 'b' ...\n",
      "Testing letter 'c' ...\n",
      "Testing letter 'd' ...\n",
      "Testing letter 'e' ...\n",
      "Testing letter 'f' ...\n",
      "Testing letter 'g' ...\n",
      "Testing letter 'h' ...\n",
      "Testing letter 'i' ...\n",
      "Testing letter 'j' ...\n",
      "Testing letter 'k' ...\n",
      "Testing letter 'l' ...\n",
      "Testing letter 'm' ...\n",
      "Testing letter 'n' ...\n",
      "Testing letter 'o' ...\n",
      "Testing letter 'p' ...\n",
      "Testing letter 'q' ...\n",
      "Testing letter 'r' ...\n",
      "Testing letter 's' ...\n",
      "Testing letter 't' ...\n",
      "Testing letter 'u' ...\n",
      "Testing letter 'v' ...\n",
      "Testing letter 'w' ...\n",
      "Testing letter 'x' ...\n",
      "Testing letter 'y' ...\n",
      "Testing letter 'z' ...\n",
      "Part 2: 4552\n"
     ]
    }
   ],
   "source": [
    "# Part 1\n",
    "print(\"Part 1:\", react_polymer(input))\n",
    "\n",
    "# Part 2\n",
    "minimum_length = float('inf')\n",
    "for letter in string.ascii_lowercase:\n",
    "    print(\"Testing letter '\" + str(letter) + \"' ...\")\n",
    "    alternate_input = input.replace(letter, '').replace(letter.upper(), '')\n",
    "    length = react_polymer(alternate_input)\n",
    "    minimum_length = length if length < minimum_length else minimum_length\n",
    "print(\"Part 2:\", minimum_length)"
   ]
  },
  {
   "cell_type": "raw",
   "id": "a1b12636-7d89-49de-b3c5-0deb9a42edbc",
   "metadata": {},
   "source": [
    "You've managed to sneak in to the prototype suit manufacturing lab. The Elves are making decent progress, but are still struggling with the suit's size reduction capabilities.\n",
    "\n",
    "While the very latest in 1518 alchemical technology might have solved their problem eventually, you can do better. You scan the chemical composition of the suit's material and discover that it is formed by extremely long polymers (one of which is available as your puzzle input).\n",
    "\n",
    "The polymer is formed by smaller units which, when triggered, react with each other such that two adjacent units of the same type and opposite polarity are destroyed. Units' types are represented by letters; units' polarity is represented by capitalization. For instance, r and R are units with the same type but opposite polarity, whereas r and s are entirely different types and do not react.\n",
    "\n",
    "For example:\n",
    "\n",
    "In aA, a and A react, leaving nothing behind.\n",
    "In abBA, bB destroys itself, leaving aA. As above, this then destroys itself, leaving nothing.\n",
    "In abAB, no two adjacent units are of the same type, and so nothing happens.\n",
    "In aabAAB, even though aa and AA are of the same type, their polarities match, and so nothing happens.\n",
    "Now, consider a larger example, dabAcCaCBAcCcaDA:\n",
    "\n",
    "dabAcCaCBAcCcaDA  The first 'cC' is removed.\n",
    "dabAaCBAcCcaDA    This creates 'Aa', which is removed.\n",
    "dabCBAcCcaDA      Either 'cC' or 'Cc' are removed (the result is the same).\n",
    "dabCBAcaDA        No further actions can be taken.\n",
    "After all possible reactions, the resulting polymer contains 10 units.\n",
    "\n",
    "How many units remain after fully reacting the polymer you scanned? (Note: in this puzzle and others, the input is large; if you copy/paste your input, make sure you get the whole thing.)"
   ]
  },
  {
   "cell_type": "code",
   "execution_count": null,
   "id": "9e450d9c-a5ae-4cd3-b9d6-875e9df004ff",
   "metadata": {},
   "outputs": [],
   "source": []
  }
 ],
 "metadata": {
  "kernelspec": {
   "display_name": "Python 3 (ipykernel)",
   "language": "python",
   "name": "python3"
  },
  "language_info": {
   "codemirror_mode": {
    "name": "ipython",
    "version": 3
   },
   "file_extension": ".py",
   "mimetype": "text/x-python",
   "name": "python",
   "nbconvert_exporter": "python",
   "pygments_lexer": "ipython3",
   "version": "3.12.3"
  }
 },
 "nbformat": 4,
 "nbformat_minor": 5
}
