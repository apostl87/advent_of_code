{
 "cells": [
  {
   "cell_type": "code",
   "execution_count": 2,
   "id": "607f0754-2eab-4bd9-8fc4-fd159b284430",
   "metadata": {},
   "outputs": [],
   "source": [
    "%load_ext autoreload\n",
    "%autoreload 2\n",
    "import re, copy, numpy as np\n",
    "from collections import defaultdict\n",
    "from Device import Device"
   ]
  },
  {
   "cell_type": "code",
   "execution_count": 111,
   "id": "f23cdd85-5e12-4068-b014-4fe344c0392c",
   "metadata": {},
   "outputs": [
    {
     "name": "stdout",
     "output_type": "stream",
     "text": [
      "Instructions: 1849 End state: [6619857, 1, 31, 1, 1, 6619857]\n"
     ]
    }
   ],
   "source": [
    "opcodes = ['addr', 'addi', 'mulr', 'muli', 'banr', 'bani', 'borr', 'bori', 'setr', 'seti', \\\n",
    "            'gtir', 'gtri', 'gtrr', 'eqir', 'eqri', 'eqrr']\n",
    "\n",
    "input_file = \"\"\"\n",
    "#ip 0\n",
    "seti 5 0 1\n",
    "seti 6 0 2\n",
    "addi 0 1 0\n",
    "addr 1 2 3\n",
    "setr 1 0 0\n",
    "seti 8 0 4\n",
    "seti 9 0 5\n",
    "\"\"\".strip().splitlines()\n",
    "\n",
    "input_file = open(\"21.txt\").read().strip()\n",
    "input_file = input_file.splitlines()\n",
    "\n",
    "#input_file = open(\"16.txt\").read().strip()\n",
    "ip_idx = int(input_file[0].split()[-1])\n",
    "instructions = input_file[1:]\n",
    "instructions = [x.split() for x in instructions]\n",
    "instructions = [[w, int(x), int(y), int(z)] for w, x, y, z in instructions]\n",
    "\n",
    "\n",
    "# Part 1\n",
    "import sys\n",
    "r3 = 65536\n",
    "r5 = 9010242\n",
    "\n",
    "while True:\n",
    "    # ip 8\n",
    "    r1 = r3 % 256\n",
    "    r5 = (((r1+r5) % 16777216) * 65899) % 16777216\n",
    "    \n",
    "    if r3 < 256:\n",
    "        print(r1, r3, r4, r5)\n",
    "        break\n",
    "    \n",
    "    # ip 18\n",
    "    r1 = r3 // 256\n",
    "    r4 = (r1 + 1) * 256\n",
    "    r3 = r1\n",
    "\n",
    "\n",
    "# Part 1 approval\n",
    "k = 6619857\n",
    "dev = Device(6, ip_idx)\n",
    "dev.registers[0] = k\n",
    "it = 0\n",
    "found = False\n",
    "while True:\n",
    "    it += 1\n",
    "    idx = dev.instruction_pointer()\n",
    "    if idx >= len(instructions):\n",
    "        found = True\n",
    "        break\n",
    "    dev.exec_instruction(*instructions[idx])\n",
    "    #if idx == 12 or idx == 13:\n",
    "    #    print(idx, str(dev), *instructions[idx])\n",
    "    dev.increment_ip()\n",
    "\n",
    "print(\"Instructions:\", it, \"End state:\", str(dev))"
   ]
  },
  {
   "cell_type": "code",
   "execution_count": 144,
   "id": "fa845aa4-4311-4677-a40c-d14cf0df1065",
   "metadata": {},
   "outputs": [
    {
     "name": "stdout",
     "output_type": "stream",
     "text": [
      "9547924\n"
     ]
    },
    {
     "ename": "SystemExit",
     "evalue": "0",
     "output_type": "error",
     "traceback": [
      "An exception has occurred, use %tb to see the full traceback.\n",
      "\u001b[0;31mSystemExit\u001b[0m\u001b[0;31m:\u001b[0m 0\n"
     ]
    }
   ],
   "source": [
    "# Part 2\n",
    "r5_values = set()\n",
    "\n",
    "r3 = 65536\n",
    "r5 = 0\n",
    "\n",
    "last_r5 = None\n",
    "it = 0\n",
    "while True:\n",
    "    it += 1\n",
    "    # ip 6\n",
    "    r3 = r5 | 0x10000\n",
    "    r5 = 9010242\n",
    "\n",
    "    while True:\n",
    "        # ip 8\n",
    "        r1 = r3 % 256\n",
    "        r5 = (((r1+r5) % 16777216) * 65899) % 16777216\n",
    "        \n",
    "        if r3 < 256:\n",
    "            #print(r1, r3, r4, r5)\n",
    "            if r5 in r5_values:\n",
    "                print(last_r5)\n",
    "                sys.exit(0)\n",
    "            else:\n",
    "                r5_values.add(r5)\n",
    "                last_r5 = r5\n",
    "                break\n",
    "        \n",
    "        # ip 18\n",
    "        r1 = r3 // 256\n",
    "        r4 = (r1 + 1) * 256\n",
    "        r3 = r1"
   ]
  },
  {
   "cell_type": "code",
   "execution_count": null,
   "id": "3166ca28-f40c-4e6f-bcf9-bcdf04f16f64",
   "metadata": {},
   "outputs": [],
   "source": []
  }
 ],
 "metadata": {
  "kernelspec": {
   "display_name": "Python 3 (ipykernel)",
   "language": "python",
   "name": "python3"
  },
  "language_info": {
   "codemirror_mode": {
    "name": "ipython",
    "version": 3
   },
   "file_extension": ".py",
   "mimetype": "text/x-python",
   "name": "python",
   "nbconvert_exporter": "python",
   "pygments_lexer": "ipython3",
   "version": "3.12.3"
  }
 },
 "nbformat": 4,
 "nbformat_minor": 5
}
