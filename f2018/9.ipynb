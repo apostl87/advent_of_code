{
 "cells": [
  {
   "cell_type": "code",
   "execution_count": 145,
   "id": "fa9e282e-e5fa-4c5a-87ff-8b1add7a3640",
   "metadata": {},
   "outputs": [],
   "source": [
    "import re, json\n",
    "from collections import defaultdict\n",
    "from itertools import cycle\n",
    "\n",
    "input = open(\"9.input\").read().strip()\n"
   ]
  },
  {
   "cell_type": "code",
   "execution_count": 181,
   "id": "dbe99348-b1ad-4222-8d15-b14a985bb12a",
   "metadata": {},
   "outputs": [
    {
     "name": "stdout",
     "output_type": "stream",
     "text": [
      "10.0 %\n",
      "20.0 %\n",
      "30.000000000000004 %\n",
      "40.0 %\n",
      "50.0 %\n",
      "60.0 %\n",
      "70.0 %\n",
      "80.0 %\n",
      "89.99999999999999 %\n"
     ]
    },
    {
     "data": {
      "text/plain": [
       "400493"
      ]
     },
     "execution_count": 181,
     "metadata": {},
     "output_type": "execute_result"
    }
   ],
   "source": [
    "# Part 2\n",
    "regex = r'\\d+'\n",
    "N, last_mval = [int(x) for x in re.findall(regex, input)]\n",
    "#last_mval *= 100\n",
    "\n",
    "board = [0]\n",
    "current = 0\n",
    "scores = defaultdict(int) # player number\n",
    "rep = 0.1\n",
    "for mval in range(1, last_mval):\n",
    "    if mval / last_mval > rep:\n",
    "        print(rep * 100, \"%\")\n",
    "        rep += 0.1\n",
    "    if mval % 23 == 0:\n",
    "        #print(\"pre\", current, board[current], board[current- 7], board[current - 6], board, scores)\n",
    "        scores[mval % N] += mval + board.pop(current - 7)\n",
    "        current -= 6 - len(board) if current < 7 else 7\n",
    "    else:\n",
    "        current = current + 2 if current != len(board) - 1 else 1\n",
    "        board.insert(current, mval)\n",
    "\n",
    "max(scores.values())"
   ]
  },
  {
   "cell_type": "code",
   "execution_count": 183,
   "id": "d16f386c-2b30-421f-8d83-f879bd78904d",
   "metadata": {},
   "outputs": [
    {
     "name": "stdout",
     "output_type": "stream",
     "text": [
      "1.0 %\n",
      "2.0 %\n",
      "3.0 %\n",
      "4.0 %\n",
      "5.0 %\n",
      "6.000000000000001 %\n"
     ]
    },
    {
     "ename": "KeyboardInterrupt",
     "evalue": "",
     "output_type": "error",
     "traceback": [
      "\u001b[0;31m---------------------------------------------------------------------------\u001b[0m",
      "\u001b[0;31mKeyboardInterrupt\u001b[0m                         Traceback (most recent call last)",
      "Cell \u001b[0;32mIn[183], line 20\u001b[0m\n\u001b[1;32m     18\u001b[0m     \u001b[38;5;28;01melse\u001b[39;00m:\n\u001b[1;32m     19\u001b[0m         current \u001b[38;5;241m=\u001b[39m current \u001b[38;5;241m+\u001b[39m \u001b[38;5;241m2\u001b[39m \u001b[38;5;28;01mif\u001b[39;00m current \u001b[38;5;241m!=\u001b[39m \u001b[38;5;28mlen\u001b[39m(board) \u001b[38;5;241m-\u001b[39m \u001b[38;5;241m1\u001b[39m \u001b[38;5;28;01melse\u001b[39;00m \u001b[38;5;241m1\u001b[39m\n\u001b[0;32m---> 20\u001b[0m         board\u001b[38;5;241m.\u001b[39minsert(current, mval)\n\u001b[1;32m     21\u001b[0m     \u001b[38;5;66;03m#print(current, board)\u001b[39;00m\n\u001b[1;32m     22\u001b[0m     \u001b[38;5;66;03m#if i == 100:\u001b[39;00m\n\u001b[1;32m     23\u001b[0m     \u001b[38;5;66;03m#    break\u001b[39;00m\n\u001b[1;32m     25\u001b[0m \u001b[38;5;28mmax\u001b[39m(scores\u001b[38;5;241m.\u001b[39mvalues())\n",
      "\u001b[0;31mKeyboardInterrupt\u001b[0m: "
     ]
    }
   ],
   "source": [
    "# Part 2\n",
    "regex = r'\\d+'\n",
    "N, last_mval = [int(x) for x in re.findall(regex, input)]\n",
    "last_mval *= 100\n",
    "\n",
    "board = [0]\n",
    "current = 0\n",
    "scores = defaultdict(int) # player number\n",
    "rep = 0.01\n",
    "for mval in range(1, last_mval):\n",
    "    if mval / last_mval > rep:\n",
    "        print(rep * 100, \"%\")\n",
    "        rep += 0.01\n",
    "    if mval % 23 == 0:\n",
    "        #print(\"pre\", current, board[current], board[current- 7], board[current - 6], board, scores)\n",
    "        scores[mval % N] += mval + board.pop(current - 7)\n",
    "        current -= 6 - len(board) if current < 7 else 7\n",
    "    else:\n",
    "        current = current + 2 if current != len(board) - 1 else 1\n",
    "        board.insert(current, mval)\n",
    "    #print(current, board)\n",
    "    #if i == 100:\n",
    "    #    break\n",
    "\n",
    "max(scores.values())"
   ]
  },
  {
   "cell_type": "code",
   "execution_count": 175,
   "id": "8e01b4c6-d6c1-474d-97f7-7caba84818e8",
   "metadata": {},
   "outputs": [
    {
     "data": {
      "text/plain": [
       "(71017, 71019)"
      ]
     },
     "execution_count": 175,
     "metadata": {},
     "output_type": "execute_result"
    }
   ],
   "source": [
    "i, last_mval"
   ]
  },
  {
   "cell_type": "code",
   "execution_count": 147,
   "id": "5c0208b0-e6a1-4765-875d-23f2d4251d57",
   "metadata": {},
   "outputs": [
    {
     "data": {
      "text/plain": [
       "3338341690"
      ]
     },
     "execution_count": 147,
     "metadata": {},
     "output_type": "execute_result"
    }
   ],
   "source": [
    "# Part 2 by marcusandrews\n",
    "\n",
    "from collections import deque, defaultdict\n",
    "\n",
    "def play_game(max_players, last_marble):\n",
    "    scores = defaultdict(int)\n",
    "    circle = deque([0])\n",
    "\n",
    "    for marble in range(1, last_marble + 1):\n",
    "        if marble % 23 == 0:\n",
    "            circle.rotate(7)\n",
    "            scores[marble % max_players] += marble + circle.pop()\n",
    "            circle.rotate(-1)\n",
    "        else:\n",
    "            circle.rotate(-1)\n",
    "            circle.append(marble)\n",
    "\n",
    "    return max(scores.values()) if scores else 0\n",
    "\n",
    "N, last_mval = [int(x) for x in re.findall(regex, input)]\n",
    "last_mval *= 100\n",
    "play_game(N, last_mval)"
   ]
  },
  {
   "cell_type": "code",
   "execution_count": 118,
   "id": "09333f69-3bff-4369-a9da-f28cddaf3724",
   "metadata": {},
   "outputs": [
    {
     "name": "stdout",
     "output_type": "stream",
     "text": [
      "Help on method_descriptor:\n",
      "\n",
      "rotate(...) unbound collections.deque method\n",
      "    Rotate the deque n steps to the right (default n=1).  If n is negative, rotates left.\n",
      "\n"
     ]
    }
   ],
   "source": [
    "help(deque.rotate)"
   ]
  },
  {
   "cell_type": "code",
   "execution_count": null,
   "id": "fa6b0efb-6190-4290-82a5-b8cc58590380",
   "metadata": {},
   "outputs": [],
   "source": []
  },
  {
   "cell_type": "code",
   "execution_count": null,
   "id": "04a274d2-27ff-4266-b10a-ff83f95024b2",
   "metadata": {},
   "outputs": [],
   "source": []
  }
 ],
 "metadata": {
  "kernelspec": {
   "display_name": "Python 3 (ipykernel)",
   "language": "python",
   "name": "python3"
  },
  "language_info": {
   "codemirror_mode": {
    "name": "ipython",
    "version": 3
   },
   "file_extension": ".py",
   "mimetype": "text/x-python",
   "name": "python",
   "nbconvert_exporter": "python",
   "pygments_lexer": "ipython3",
   "version": "3.12.3"
  }
 },
 "nbformat": 4,
 "nbformat_minor": 5
}
