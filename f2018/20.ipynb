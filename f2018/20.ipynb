{
 "cells": [
  {
   "cell_type": "code",
   "execution_count": 99,
   "id": "0ac58fa0-cb09-4767-a044-f1a9aca2d2f5",
   "metadata": {},
   "outputs": [
    {
     "name": "stdout",
     "output_type": "stream",
     "text": [
      "part1: 3788\n",
      "part2: 8568\n"
     ]
    }
   ],
   "source": [
    "import networkx\n",
    "\n",
    "curr_pos = {(0, 0)}\n",
    "directions = {'N': (0, 1), 'E': (1, 0), 'W': (-1, 0), 'S': (0, -1)}\n",
    "saved = []\n",
    "start_pos = set({(0, 0)})\n",
    "end_pos = set()\n",
    "\n",
    "path = 'NEES(NW|S(NNNNE|SSSE)E)NWW(SWN|NN)W'\n",
    "path = open('20.txt').read()[1:-1]\n",
    "\n",
    "maze = networkx.Graph()\n",
    "for c in path:\n",
    "    if c in 'NEWS':\n",
    "        d = directions[c]\n",
    "        new_pos = {(p[0] + d[0], p[1] + d[1]) for p in curr_pos}\n",
    "        maze.add_edges_from((p, n) for p, n in zip(curr_pos, new_pos))\n",
    "        curr_pos = new_pos\n",
    "    if c == '(':\n",
    "        saved.append((start_pos, end_pos))\n",
    "        start_pos = curr_pos\n",
    "        end_pos = set()\n",
    "        \n",
    "    if c == ')':\n",
    "        curr_pos.update(end_pos)\n",
    "        start_pos, end_pos = saved.pop()\n",
    "\n",
    "    if c == '|':\n",
    "        end_pos.update(curr_pos)\n",
    "        curr_pos = start_pos\n",
    "        \n",
    "    #print(c, curr_pos, \"Start:\", start_pos, \"End:\", end_pos, \"Saved:\", saved)\n",
    "\n",
    "lengths = networkx.algorithms.shortest_path_length(maze, (0, 0))\n",
    "\n",
    "print('part1:', max(lengths.values()))\n",
    "print('part2:', sum(1 for x in lengths.values() if x >= 1000))"
   ]
  }
 ],
 "metadata": {
  "kernelspec": {
   "display_name": "Python 3 (ipykernel)",
   "language": "python",
   "name": "python3"
  },
  "language_info": {
   "codemirror_mode": {
    "name": "ipython",
    "version": 3
   },
   "file_extension": ".py",
   "mimetype": "text/x-python",
   "name": "python",
   "nbconvert_exporter": "python",
   "pygments_lexer": "ipython3",
   "version": "3.12.3"
  }
 },
 "nbformat": 4,
 "nbformat_minor": 5
}
