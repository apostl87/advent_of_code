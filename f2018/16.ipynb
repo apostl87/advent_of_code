{
 "cells": [
  {
   "cell_type": "code",
   "execution_count": 47,
   "id": "607f0754-2eab-4bd9-8fc4-fd159b284430",
   "metadata": {},
   "outputs": [],
   "source": [
    "import re, copy, numpy as np\n",
    "from collections import defaultdict"
   ]
  },
  {
   "cell_type": "code",
   "execution_count": 48,
   "id": "78dcde02-317b-4de6-8bbd-d06af2109e59",
   "metadata": {},
   "outputs": [],
   "source": [
    "class Device(object):\n",
    "    def __init__(self) -> None:\n",
    "        self.registers = [0, 0, 0, 0]\n",
    "\n",
    "    def exec_instruction(self, opcode, A, B, C):\n",
    "        match opcode:\n",
    "            case 'addr':\n",
    "                self.registers[C] = self.registers[A] + self.registers[B]\n",
    "            case 'addi':\n",
    "                self.registers[C] = self.registers[A] + B\n",
    "            case 'mulr':\n",
    "                self.registers[C] = self.registers[A] * self.registers[B]\n",
    "            case 'muli':\n",
    "                self.registers[C] = self.registers[A] * B\n",
    "            case 'banr':\n",
    "                self.registers[C] = self.registers[A] & self.registers[B]\n",
    "            case 'bani':\n",
    "                self.registers[C] = self.registers[A] & B\n",
    "            case 'borr':\n",
    "                self.registers[C] = self.registers[A] | self.registers[B]\n",
    "            case 'bori':\n",
    "                self.registers[C] = self.registers[A] | B\n",
    "            case 'setr':\n",
    "                self.registers[C] = self.registers[A]\n",
    "            case 'seti':\n",
    "                self.registers[C] = A\n",
    "                \n",
    "            case 'gtir':\n",
    "                self.registers[C] = 1 if A > self.registers[B] else 0\n",
    "            case 'gtri':\n",
    "                self.registers[C] = 1 if self.registers[A] > B else 0\n",
    "            case 'gtrr':\n",
    "                self.registers[C] = 1 if self.registers[A] > self.registers[B] else 0\n",
    "            \n",
    "            case 'eqir':\n",
    "                self.registers[C] = 1 if A == self.registers[B] else 0\n",
    "            case 'eqri':\n",
    "                self.registers[C] = 1 if self.registers[A] == B else 0\n",
    "            case 'eqrr':\n",
    "                self.registers[C] = 1 if self.registers[A] == self.registers[B] else 0"
   ]
  },
  {
   "cell_type": "code",
   "execution_count": 75,
   "id": "f23cdd85-5e12-4068-b014-4fe344c0392c",
   "metadata": {
    "scrolled": true
   },
   "outputs": [],
   "source": [
    "opcodes = ['addr', 'addi', 'mulr', 'muli', 'banr', 'bani', 'borr', 'bori', 'setr', 'seti', \\\n",
    "            'gtir', 'gtri', 'gtrr', 'eqir', 'eqri', 'eqrr']\n",
    "\n",
    "sample = \"\"\"\n",
    "Before: [3, 2, 1, 1]\n",
    "9 2 1 2\n",
    "After:  [3, 2, 2, 1]\n",
    "\"\"\".strip().splitlines()\n",
    "\n",
    "samples = open(\"16.txt\").read().strip()\n",
    "samples = samples.split(\"\\n\\n\")\n",
    "testprogram = samples.pop(-1).strip()\n",
    "_ = samples.pop(-1)"
   ]
  },
  {
   "cell_type": "code",
   "execution_count": 50,
   "id": "a84617bf-1967-4790-b7a1-9e3e46596428",
   "metadata": {},
   "outputs": [
    {
     "name": "stdout",
     "output_type": "stream",
     "text": [
      "605\n"
     ]
    }
   ],
   "source": [
    "# Part 1\n",
    "result = 0\n",
    "for sample in samples:\n",
    "    sample = sample.splitlines()\n",
    "    before = tuple([int(x) for x in re.findall(r'\\d+', sample[0])])\n",
    "    instruction = [int(x) for x in re.findall(r'\\d+', sample[1])]\n",
    "    after = tuple([int(x) for x in re.findall(r'\\d+', sample[2])])\n",
    "\n",
    "    dev = Device()\n",
    "    matching = set()\n",
    "    for opcode in opcodes:\n",
    "        dev.registers = list(before)\n",
    "        #print(before, dev.registers)\n",
    "        dev.exec_instruction(opcode, *instruction[1:])\n",
    "        #print(opcode, dev.registers)\n",
    "        if dev.registers == list(after):\n",
    "            matching.add(opcode)\n",
    "    if len(matching) >= 3:\n",
    "        result += 1\n",
    "print(result)"
   ]
  },
  {
   "cell_type": "code",
   "execution_count": 78,
   "id": "d7bfb646-93d4-4283-8531-e8bee9cd1c9a",
   "metadata": {},
   "outputs": [
    {
     "data": {
      "text/plain": [
       "[653, 1, 4, 653]"
      ]
     },
     "execution_count": 78,
     "metadata": {},
     "output_type": "execute_result"
    }
   ],
   "source": [
    "## Part 2\n",
    "\n",
    "# Translation\n",
    "matching = defaultdict(set)\n",
    "for sample in samples:\n",
    "    sample = sample.splitlines()\n",
    "    before = tuple([int(x) for x in re.findall(r'\\d+', sample[0])])\n",
    "    instruction = [int(x) for x in re.findall(r'\\d+', sample[1])]\n",
    "    after = tuple([int(x) for x in re.findall(r'\\d+', sample[2])])\n",
    "\n",
    "    dev = Device()\n",
    "    for opcode in opcodes:\n",
    "        dev.registers = list(before)\n",
    "        #print(before, dev.registers)\n",
    "        dev.exec_instruction(opcode, *instruction[1:])\n",
    "        #print(opcode, dev.registers)\n",
    "        if dev.registers == list(after):\n",
    "            matching[instruction[0]].add(opcode)\n",
    "\n",
    "matched_opcodes = set()\n",
    "while len(matched_opcodes) < len(opcodes):\n",
    "    for key in sorted(matching, key = lambda x: len(matching[x])):\n",
    "        if len(matching[key]) > 1:\n",
    "            matching[key] -= matched_opcodes\n",
    "        if len(matching[key]) == 1:\n",
    "            matched_opcodes |= matching[key]\n",
    "for m in matching:\n",
    "    matching[m] = matching[m].pop()\n",
    "\n",
    "# Test program\n",
    "dev = Device()\n",
    "for instruction in testprogram.splitlines():\n",
    "    instruction = [int(x) for x in instruction.split()]\n",
    "    dev.exec_instruction(matching[instruction[0]], *instruction[1:])\n",
    "dev.registers"
   ]
  },
  {
   "cell_type": "code",
   "execution_count": 74,
   "id": "646f4bdc-7e19-45bf-b20e-c62b26e1fdf5",
   "metadata": {},
   "outputs": [
    {
     "data": {
      "text/plain": [
       "defaultdict(set,\n",
       "            {0: 'eqri',\n",
       "             6: 'seti',\n",
       "             11: 'addr',\n",
       "             9: 'bori',\n",
       "             5: 'addi',\n",
       "             7: 'gtir',\n",
       "             8: 'muli',\n",
       "             3: 'gtrr',\n",
       "             4: 'banr',\n",
       "             13: 'borr',\n",
       "             2: 'gtri',\n",
       "             12: 'bani',\n",
       "             14: 'eqir',\n",
       "             1: 'mulr',\n",
       "             10: 'setr',\n",
       "             15: 'eqrr'})"
      ]
     },
     "execution_count": 74,
     "metadata": {},
     "output_type": "execute_result"
    }
   ],
   "source": [
    "matching"
   ]
  },
  {
   "cell_type": "code",
   "execution_count": null,
   "id": "856228f9-8d88-4220-914d-84db2524b1a0",
   "metadata": {},
   "outputs": [],
   "source": []
  }
 ],
 "metadata": {
  "kernelspec": {
   "display_name": "Python 3 (ipykernel)",
   "language": "python",
   "name": "python3"
  },
  "language_info": {
   "codemirror_mode": {
    "name": "ipython",
    "version": 3
   },
   "file_extension": ".py",
   "mimetype": "text/x-python",
   "name": "python",
   "nbconvert_exporter": "python",
   "pygments_lexer": "ipython3",
   "version": "3.12.3"
  }
 },
 "nbformat": 4,
 "nbformat_minor": 5
}
