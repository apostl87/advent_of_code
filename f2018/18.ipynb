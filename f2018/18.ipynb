{
 "cells": [
  {
   "cell_type": "code",
   "execution_count": 1,
   "id": "607f0754-2eab-4bd9-8fc4-fd159b284430",
   "metadata": {},
   "outputs": [],
   "source": [
    "import re, copy, numpy as np, networkx as nx\n",
    "from aoclib import *"
   ]
  },
  {
   "cell_type": "code",
   "execution_count": 2,
   "id": "a032f92f-d04e-4329-b1fd-2090ae328a98",
   "metadata": {},
   "outputs": [],
   "source": [
    "openground, trees, lumberyard = '.', '|', '#'\n",
    "\n",
    "def get_neighbors(grid, pos):\n",
    "    neighbors = []\n",
    "    x, y = pos[0], pos[1]\n",
    "    for y_ in range(y-1, y+2):\n",
    "        for x_ in range(x-1, x+2):\n",
    "            if y_ == y and x_ == x:\n",
    "                continue\n",
    "            if 0 <= x_ <= len(grid[0]) - 1 and 0 <= y_ <= len(grid) - 1:\n",
    "                neighbors.append(grid[y_][x_])\n",
    "    return neighbors\n",
    "\n",
    "def propagate_time(grid):\n",
    "    ngrid = copy.deepcopy(grid)\n",
    "    for y in range(len(grid)):\n",
    "        for x in range(len(grid[0])):\n",
    "            nbs = get_neighbors(grid, (x, y))\n",
    "            if grid[y][x] == openground and nbs.count(trees) >= 3:\n",
    "                ngrid[y][x] = trees\n",
    "            if grid[y][x] == trees and nbs.count(lumberyard) >= 3:\n",
    "                ngrid[y][x] = lumberyard\n",
    "            if grid[y][x] == lumberyard and (nbs.count(trees) < 1 or nbs.count(lumberyard) < 1):\n",
    "                ngrid[y][x] = openground\n",
    "    return ngrid"
   ]
  },
  {
   "cell_type": "code",
   "execution_count": 38,
   "id": "c857c059-e7ed-48db-bdd6-92a90d2339e7",
   "metadata": {},
   "outputs": [
    {
     "name": "stdout",
     "output_type": "stream",
     "text": [
      "1147\n"
     ]
    }
   ],
   "source": [
    "# Test Input\n",
    "input = \"\"\"Initial state:\n",
    ".#.#...|#.\n",
    ".....#|##|\n",
    ".|..|...#.\n",
    "..|#.....#\n",
    "#.#|||#|#|\n",
    "...#.||...\n",
    ".|....|...\n",
    "||...#|.#|\n",
    "|.||||..|.\n",
    "...#.|..|.\"\"\".strip()\n",
    "\n",
    "grid = [[c for c in row] for row in input.splitlines()[1:]]\n",
    "for i in range(10):\n",
    "    grid = propagate_time(grid)\n",
    "#print(list2string(grid))\n",
    "grid_lin = [x for row in grid for x in row]\n",
    "print(grid_lin.count(trees) * grid_lin.count(lumberyard))"
   ]
  },
  {
   "cell_type": "code",
   "execution_count": 39,
   "id": "eb9af153-34be-404a-9218-cbfaf180e8d8",
   "metadata": {},
   "outputs": [
    {
     "name": "stdout",
     "output_type": "stream",
     "text": [
      "745008\n"
     ]
    }
   ],
   "source": [
    "# Part 1\n",
    "input = open(\"18.txt\").read().strip()\n",
    "grid = [[c for c in row] for row in input.splitlines()]\n",
    "\n",
    "tmax = 10\n",
    "for i in range(tmax):\n",
    "    grid = propagate_time(grid)\n",
    "#print(list2string(grid))\n",
    "grid_lin = [x for row in grid for x in row]\n",
    "print(grid_lin.count(trees) * grid_lin.count(lumberyard))"
   ]
  },
  {
   "cell_type": "code",
   "execution_count": 40,
   "id": "128d9987-a210-4246-97fe-aba94dab7cad",
   "metadata": {},
   "outputs": [
    {
     "name": "stdout",
     "output_type": "stream",
     "text": [
      "999999977\n",
      "219425\n"
     ]
    }
   ],
   "source": [
    "# Part 2\n",
    "input = open(\"18.txt\").read().strip()\n",
    "grid = [[c for c in row] for row in input.splitlines()]\n",
    "\n",
    "tmax = 1_000_000_000\n",
    "resvalues = []\n",
    "gridstrings = []\n",
    "i = 0\n",
    "while i < tmax:\n",
    "    grid = propagate_time(grid)\n",
    "    if (gridstring := list2string(grid)) in gridstrings:\n",
    "        i1 = gridstrings.index(gridstring)\n",
    "        i2 = i\n",
    "        i += (tmax - i)//(i2 - i1) * (i2 - i1)\n",
    "        print(i)\n",
    "        gridstrings = []\n",
    "        #\n",
    "    gridstrings.append(gridstring)\n",
    "    grid_lin = [x for row in grid for x in row]\n",
    "\n",
    "    i += 1\n",
    "\n",
    "    #resvalue = grid_lin.count(trees) * grid_lin.count(lumberyard)\n",
    "    #if resvalue in resvalues:\n",
    "    #    print(i, \"history\", resvalue)\n",
    "    #resvalues.append(resvalue)\n",
    "\n",
    "print(grid_lin.count(trees) * grid_lin.count(lumberyard))"
   ]
  }
 ],
 "metadata": {
  "kernelspec": {
   "display_name": "Python 3 (ipykernel)",
   "language": "python",
   "name": "python3"
  },
  "language_info": {
   "codemirror_mode": {
    "name": "ipython",
    "version": 3
   },
   "file_extension": ".py",
   "mimetype": "text/x-python",
   "name": "python",
   "nbconvert_exporter": "python",
   "pygments_lexer": "ipython3",
   "version": "3.12.3"
  }
 },
 "nbformat": 4,
 "nbformat_minor": 5
}
