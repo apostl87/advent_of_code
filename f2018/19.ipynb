{
 "cells": [
  {
   "cell_type": "code",
   "execution_count": 49,
   "id": "607f0754-2eab-4bd9-8fc4-fd159b284430",
   "metadata": {},
   "outputs": [
    {
     "name": "stdout",
     "output_type": "stream",
     "text": [
      "The autoreload extension is already loaded. To reload it, use:\n",
      "  %reload_ext autoreload\n"
     ]
    }
   ],
   "source": [
    "%load_ext autoreload\n",
    "%autoreload 2\n",
    "import re, copy, numpy as np\n",
    "from collections import defaultdict\n",
    "from Device import Device"
   ]
  },
  {
   "cell_type": "code",
   "execution_count": 61,
   "id": "f23cdd85-5e12-4068-b014-4fe344c0392c",
   "metadata": {
    "scrolled": true
   },
   "outputs": [
    {
     "ename": "ValueError",
     "evalue": "invalid literal for int() with base 10: 'e'",
     "output_type": "error",
     "traceback": [
      "\u001b[0;31m---------------------------------------------------------------------------\u001b[0m",
      "\u001b[0;31mValueError\u001b[0m                                Traceback (most recent call last)",
      "Cell \u001b[0;32mIn[61], line 18\u001b[0m\n\u001b[1;32m     16\u001b[0m ip_idx \u001b[38;5;241m=\u001b[39m input_file[\u001b[38;5;241m0\u001b[39m]\u001b[38;5;241m.\u001b[39msplit()[\u001b[38;5;241m-\u001b[39m\u001b[38;5;241m1\u001b[39m]\n\u001b[1;32m     17\u001b[0m instructions \u001b[38;5;241m=\u001b[39m input_file[\u001b[38;5;241m1\u001b[39m:]\n\u001b[0;32m---> 18\u001b[0m instructions \u001b[38;5;241m=\u001b[39m [[[x_, \u001b[38;5;28mint\u001b[39m(y), \u001b[38;5;28mint\u001b[39m(z), \u001b[38;5;28mint\u001b[39m(w)] \u001b[38;5;28;01mfor\u001b[39;00m x_, y, z, w \u001b[38;5;129;01min\u001b[39;00m x\u001b[38;5;241m.\u001b[39msplit()] \u001b[38;5;28;01mfor\u001b[39;00m x \u001b[38;5;129;01min\u001b[39;00m instructions]\n\u001b[1;32m     20\u001b[0m dev\u001b[38;5;241m.\u001b[39mDevice(\u001b[38;5;241m6\u001b[39m, \u001b[38;5;241m0\u001b[39m)\n\u001b[1;32m     21\u001b[0m \u001b[38;5;28;01mwhile\u001b[39;00m \u001b[38;5;28;01mTrue\u001b[39;00m:\n",
      "\u001b[0;31mValueError\u001b[0m: invalid literal for int() with base 10: 'e'"
     ]
    }
   ],
   "source": [
    "opcodes = ['addr', 'addi', 'mulr', 'muli', 'banr', 'bani', 'borr', 'bori', 'setr', 'seti', \\\n",
    "            'gtir', 'gtri', 'gtrr', 'eqir', 'eqri', 'eqrr']\n",
    "\n",
    "input_file = \"\"\"\n",
    "#ip 0\n",
    "seti 5 0 1\n",
    "seti 6 0 2\n",
    "addi 0 1 0\n",
    "addr 1 2 3\n",
    "setr 1 0 0\n",
    "seti 8 0 4\n",
    "seti 9 0 5\n",
    "\"\"\".strip().splitlines()\n",
    "\n",
    "#input_file = open(\"16.txt\").read().strip()\n",
    "ip_idx = input_file[0].split()[-1]\n",
    "instructions = input_file[1:]\n",
    "instructions = [[[x_, int(y), int(z), int(w)] for x_, y, z, w in x.split()] for x in instructions]\n",
    "\n",
    "dev.Device(6, 0)\n",
    "while True:\n",
    "    idx = dev.instruction_pointer()\n",
    "    if idx >= len(instructions):\n",
    "        break\n",
    "    dev.exec_instruction(*instructions[idx])"
   ]
  },
  {
   "cell_type": "code",
   "execution_count": 51,
   "id": "856228f9-8d88-4220-914d-84db2524b1a0",
   "metadata": {},
   "outputs": [],
   "source": [
    "a = ['seti', 8, 0, 4]"
   ]
  },
  {
   "cell_type": "code",
   "execution_count": 62,
   "id": "bac648aa-3f5b-4fc7-8ecb-9934e54f17ec",
   "metadata": {},
   "outputs": [
    {
     "data": {
      "text/plain": [
       "['seti 5 0 1',\n",
       " 'seti 6 0 2',\n",
       " 'addi 0 1 0',\n",
       " 'addr 1 2 3',\n",
       " 'setr 1 0 0',\n",
       " 'seti 8 0 4',\n",
       " 'seti 9 0 5']"
      ]
     },
     "execution_count": 62,
     "metadata": {},
     "output_type": "execute_result"
    }
   ],
   "source": [
    "instructions"
   ]
  },
  {
   "cell_type": "code",
   "execution_count": 53,
   "id": "4e571fc4-4a32-4770-b947-5500540f0316",
   "metadata": {},
   "outputs": [],
   "source": [
    "dev = Device(6, 0)\n",
    "dev.exec_instruction(*a)"
   ]
  },
  {
   "cell_type": "code",
   "execution_count": 57,
   "id": "866e98d7-0d5c-4f08-aed6-d3f7cd4b6574",
   "metadata": {},
   "outputs": [
    {
     "data": {
      "text/plain": [
       "[0, 0, 0, 0, 8, 0]"
      ]
     },
     "execution_count": 57,
     "metadata": {},
     "output_type": "execute_result"
    }
   ],
   "source": [
    "dev"
   ]
  },
  {
   "cell_type": "code",
   "execution_count": 56,
   "id": "a77fd07c-b264-43e7-a9c1-b94d35007298",
   "metadata": {},
   "outputs": [
    {
     "data": {
      "text/plain": [
       "'[1, 2, 5]'"
      ]
     },
     "execution_count": 56,
     "metadata": {},
     "output_type": "execute_result"
    }
   ],
   "source": [
    "a = [1, 2, 5]\n",
    "str(a)"
   ]
  },
  {
   "cell_type": "code",
   "execution_count": null,
   "id": "b77f38c9-3bed-41bc-93a5-8a7968340545",
   "metadata": {},
   "outputs": [],
   "source": []
  }
 ],
 "metadata": {
  "kernelspec": {
   "display_name": "Python 3 (ipykernel)",
   "language": "python",
   "name": "python3"
  },
  "language_info": {
   "codemirror_mode": {
    "name": "ipython",
    "version": 3
   },
   "file_extension": ".py",
   "mimetype": "text/x-python",
   "name": "python",
   "nbconvert_exporter": "python",
   "pygments_lexer": "ipython3",
   "version": "3.12.3"
  }
 },
 "nbformat": 4,
 "nbformat_minor": 5
}
