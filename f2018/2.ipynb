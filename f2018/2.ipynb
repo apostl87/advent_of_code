{
 "cells": [
  {
   "cell_type": "code",
   "execution_count": 4,
   "id": "81a6addd-19b8-4474-ab51-948b70fab783",
   "metadata": {},
   "outputs": [],
   "source": [
    "import re, json\n",
    "from collections import defaultdict\n",
    "from itertools import cycle, combinations\n",
    "\n",
    "input = open(\"2.input\").read().strip()\n",
    "lines = input.splitlines()"
   ]
  },
  {
   "cell_type": "code",
   "execution_count": 3,
   "id": "f1c2be8e-da34-4ab1-b774-2ce7f0b893dc",
   "metadata": {},
   "outputs": [
    {
     "name": "stdout",
     "output_type": "stream",
     "text": [
      "9139\n"
     ]
    }
   ],
   "source": [
    "# Part 1\n",
    "twos = 0\n",
    "threes = 0\n",
    "for line in lines:\n",
    "    letters = set(line)\n",
    "    c2, c3 = True, True\n",
    "    for l in letters:\n",
    "        if line.count(l) == 2 and c2:\n",
    "            twos += 1\n",
    "            c2 = False\n",
    "        if line.count(l) == 3 and c3:\n",
    "            threes += 1\n",
    "            c3 = False\n",
    "\n",
    "print(twos * threes)"
   ]
  },
  {
   "cell_type": "code",
   "execution_count": 7,
   "id": "c14931b5-e6e5-4214-a0ee-426fc9cfe57f",
   "metadata": {},
   "outputs": [
    {
     "name": "stdout",
     "output_type": "stream",
     "text": [
      "uqcidadzwtnhsljvxyobmkfyr\n"
     ]
    }
   ],
   "source": [
    "comb = combinations(lines, 2)\n",
    "while pair := next(comb):\n",
    "    differing_chars = 0\n",
    "    for i in range(len(pair[0])):\n",
    "        if pair[0][i] != pair[1][i]:\n",
    "            differing_chars += 1\n",
    "        if differing_chars > 1:\n",
    "            break\n",
    "    if differing_chars == 1:\n",
    "        correct_pair = pair\n",
    "        break\n",
    "\n",
    "result = ''\n",
    "for i in range(len(correct_pair[0])):\n",
    "    if correct_pair[0][i] == correct_pair[1][i]:\n",
    "        result += correct_pair[0][i]\n",
    "print(result)"
   ]
  },
  {
   "cell_type": "code",
   "execution_count": null,
   "id": "12d8d104-8de5-47de-bd98-c299d9be2095",
   "metadata": {},
   "outputs": [],
   "source": [
    "next"
   ]
  }
 ],
 "metadata": {
  "kernelspec": {
   "display_name": "Python 3 (ipykernel)",
   "language": "python",
   "name": "python3"
  },
  "language_info": {
   "codemirror_mode": {
    "name": "ipython",
    "version": 3
   },
   "file_extension": ".py",
   "mimetype": "text/x-python",
   "name": "python",
   "nbconvert_exporter": "python",
   "pygments_lexer": "ipython3",
   "version": "3.12.3"
  }
 },
 "nbformat": 4,
 "nbformat_minor": 5
}
