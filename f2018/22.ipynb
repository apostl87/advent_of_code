{
 "cells": [
  {
   "cell_type": "code",
   "execution_count": 122,
   "id": "607f0754-2eab-4bd9-8fc4-fd159b284430",
   "metadata": {},
   "outputs": [],
   "source": [
    "import re, copy, numpy as np, networkx as nx, heapq\n",
    "from aoclib import *"
   ]
  },
  {
   "cell_type": "code",
   "execution_count": 170,
   "id": "e7fe60cb-a03f-4eec-9359-1f8c8326121a",
   "metadata": {},
   "outputs": [
    {
     "name": "stdout",
     "output_type": "stream",
     "text": [
      "Part 1: 6208\n"
     ]
    }
   ],
   "source": [
    "# Part 1\n",
    "\n",
    "# Testdata\n",
    "target = (5, 5)\n",
    "depth = 3\n",
    "# True input\n",
    "depth = 10647\n",
    "target = (7, 770)\n",
    "\n",
    "# Build cave\n",
    "erosionlevels = [['.' for i in range(target[0] + 1)] for j in range(target[1] + 1)]\n",
    "risklevels = [['.' for i in range(target[0] + 1)] for j in range(target[1] + 1)]\n",
    "for y in range(target[1] + 1):\n",
    "    for x in range(target[0] + 1):\n",
    "        if (x == 0 and y == 0) or (x == target[0] + 1 and y == target[1] + 1):\n",
    "            geologic = 0\n",
    "        elif y == 0:\n",
    "            geologic = x * 16807\n",
    "        elif x == 0:\n",
    "            geologic = y * 48271\n",
    "        else:\n",
    "            geologic = erosionlevels[y][x-1] * erosionlevels[y-1][x]\n",
    "        erosionlevels[y][x] = (geologic + depth) % 20183\n",
    "        risklevels[y][x] = erosionlevels[y][x] % 3\n",
    "risk = sum([x for row in risklevels for x in row])\n",
    "print(\"Part 1:\", risk)"
   ]
  },
  {
   "cell_type": "code",
   "execution_count": 171,
   "id": "6ef4549f-7247-402d-8044-db4519850243",
   "metadata": {},
   "outputs": [
    {
     "name": "stdout",
     "output_type": "stream",
     "text": [
      "Part 2: 1039\n"
     ]
    }
   ],
   "source": [
    "# Part 2\n",
    "def gen_grid(target, oversize):\n",
    "    xmax, ymax = target[0] + oversize, target[1] + oversize\n",
    "    erosionlevels = [['.' for i in range(xmax + 1)] for j in range(ymax + 1)]\n",
    "    risklevels = [['.' for i in range(xmax + 1)] for j in range(ymax + 1)]\n",
    "    for y in range(ymax + 1):\n",
    "        for x in range(xmax + 1):\n",
    "            if (x == 0 and y == 0) or (x == target[0] and y == target[1]):\n",
    "                geologic = 0\n",
    "            elif y == 0:\n",
    "                geologic = x * 16807\n",
    "            elif x == 0:\n",
    "                geologic = y * 48271\n",
    "            else:\n",
    "                geologic = erosionlevels[y][x-1] * erosionlevels[y-1][x]\n",
    "            erosionlevels[y][x] = (geologic + depth) % 20183\n",
    "            risklevels[y][x] = erosionlevels[y][x] % 3\n",
    "    return risklevels\n",
    "\n",
    "def build_maze(grid):\n",
    "    maze = nx.Graph()\n",
    "    for y in range(len(grid)):\n",
    "        for x in range(len(grid[0])):\n",
    "            items =  list(available_items[grid[y][x]])\n",
    "            maze.add_edge((x, y, items[0]), (x, y, items[1]), weight = 7)\n",
    "            for d in directions:\n",
    "                x_new, y_new = x + d[0], y + d[1]\n",
    "                if x_new < 0 or y_new < 0 or x_new > len(grid[0]) - 1 or y_new > len(grid) - 1:\n",
    "                    continue\n",
    "                for item in available_items[grid[y][x]].intersection(available_items[grid[y_new][x_new]]):\n",
    "                    maze.add_edge((x, y, item), (x_new, y_new, item), weight = 1)\n",
    "    return maze\n",
    "    \n",
    "# Testdata\n",
    "target = (10, 10)\n",
    "depth = 510\n",
    "# True input\n",
    "target = (7, 770)\n",
    "depth = 10647\n",
    "\n",
    "directions = ((1, 0), (0, 1))#, (-1, 0), (0, -1))\n",
    "available_items = {0: set(('torch', 'cgear')), 1: set(('cgear', 'neither')), 2: set(('torch', 'neither'))}\n",
    "oversize = 100\n",
    "\n",
    "start = (0, 0, 'torch')\n",
    "target = (target[0], target[1], 'torch')\n",
    "grid = gen_grid(target, oversize)\n",
    "\n",
    "maze = build_maze(grid)\n",
    "\n",
    "print(\"Part 2:\", nx.algorithms.dijkstra_path_length(maze, start, target))"
   ]
  },
  {
   "cell_type": "code",
   "execution_count": null,
   "id": "eb9af153-34be-404a-9218-cbfaf180e8d8",
   "metadata": {},
   "outputs": [],
   "source": []
  }
 ],
 "metadata": {
  "kernelspec": {
   "display_name": "Python 3 (ipykernel)",
   "language": "python",
   "name": "python3"
  },
  "language_info": {
   "codemirror_mode": {
    "name": "ipython",
    "version": 3
   },
   "file_extension": ".py",
   "mimetype": "text/x-python",
   "name": "python",
   "nbconvert_exporter": "python",
   "pygments_lexer": "ipython3",
   "version": "3.12.3"
  }
 },
 "nbformat": 4,
 "nbformat_minor": 5
}
