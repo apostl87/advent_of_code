{
 "cells": [
  {
   "cell_type": "code",
   "execution_count": 1,
   "id": "f551cbf5-1ff2-48d2-a536-224615a655a1",
   "metadata": {},
   "outputs": [],
   "source": [
    "import re, sys, copy, numpy as np\n",
    "from math import sqrt, lcm\n",
    "from aoclib import list2string\n",
    "from collections import defaultdict\n",
    "from itertools import combinations\n",
    "from operator import add, mul\n",
    "\n",
    "def manhattan_distance(x, y):\n",
    "    return sum(abs(x[i] - y[i]) for i in range(3))\n",
    "def in_range(x, robot):\n",
    "    return manhattan_distance(x, robot) <= robot[-1]"
   ]
  },
  {
   "cell_type": "code",
   "execution_count": 2,
   "id": "2faf9cef-0581-4b75-8f06-f8400e5f9b84",
   "metadata": {},
   "outputs": [
    {
     "data": {
      "text/plain": [
       "584"
      ]
     },
     "execution_count": 2,
     "metadata": {},
     "output_type": "execute_result"
    }
   ],
   "source": [
    "# Part 1\n",
    "input_file = open('23.txt').read().strip()\n",
    "\n",
    "robots = re.findall(r'([-]*\\d+),([-]*\\d+),([-]*\\d+)>, r=(\\d+)', input_file)\n",
    "robots = [tuple(int(x) for x in robot) for robot in robots]\n",
    "\n",
    "largest_robot = robots[robots.index(max(robots, key = lambda x: x[-1]))]\n",
    "n_in_range = sum([1 for robot in robots if manhattan_distance(largest_robot, robot) <= largest_robot[-1]])\n",
    "n_in_range"
   ]
  },
  {
   "cell_type": "code",
   "execution_count": 93,
   "id": "cf90b4b1-c2ec-45b1-894b-bc625e519bdb",
   "metadata": {},
   "outputs": [
    {
     "data": {
      "text/plain": [
       "71484642"
      ]
     },
     "execution_count": 93,
     "metadata": {},
     "output_type": "execute_result"
    }
   ],
   "source": [
    "x, y, z = (31309240, 15032338, 25143064)\n",
    "inrange = sum([1 for robot in robots if in_range((x, y, z), robot)])\n",
    "inrange\n",
    "sum((31309240, 15032338, 25143064))"
   ]
  },
  {
   "cell_type": "code",
   "execution_count": 92,
   "id": "491ce9fe-6ae6-4aa0-81a7-c533bc23d9b1",
   "metadata": {},
   "outputs": [
    {
     "data": {
      "text/plain": [
       "890"
      ]
     },
     "execution_count": 92,
     "metadata": {},
     "output_type": "execute_result"
    }
   ],
   "source": [
    "x, y, z = (31309240, 15032338, 25143064)\n",
    "inrange = sum([1 for robot in robots if in_range((x, y, z), robot)])\n",
    "inrange"
   ]
  },
  {
   "cell_type": "code",
   "execution_count": 77,
   "id": "eedfda23-b724-4ff4-b463-b68ccdfa49c3",
   "metadata": {},
   "outputs": [
    {
     "data": {
      "text/plain": [
       "((22770133, 12791843, 35110350), 859, (24983601, 14122207, 31945035))"
      ]
     },
     "execution_count": 77,
     "metadata": {},
     "output_type": "execute_result"
    }
   ],
   "source": [
    "n1max, n2[n2max], n2max"
   ]
  },
  {
   "cell_type": "code",
   "execution_count": 62,
   "id": "279a1b02-3715-44ed-a010-1aeb8f310c47",
   "metadata": {},
   "outputs": [
    {
     "data": {
      "text/plain": [
       "[-176442590,\n",
       " -157996967,\n",
       " -139551344,\n",
       " -121105721,\n",
       " -102660098,\n",
       " -84214475,\n",
       " -65768852,\n",
       " -47323229,\n",
       " -28877606,\n",
       " -10431983,\n",
       " 8013640,\n",
       " 26459263,\n",
       " 44904886,\n",
       " 63350509,\n",
       " 81796132,\n",
       " 100241755,\n",
       " 118687378,\n",
       " 137133001,\n",
       " 155578624,\n",
       " 174024247,\n",
       " 192469870]"
      ]
     },
     "execution_count": 62,
     "metadata": {},
     "output_type": "execute_result"
    }
   ],
   "source": [
    "xmin, xmax = min(x[0] for x in robots), max(x[0] for x in robots)\n",
    "ymin, ymax = min(x[1] for x in robots), max(x[1] for x in robots)\n",
    "zmin, zmax = min(x[2] for x in robots), max(x[2] for x in robots)\n",
    "\n",
    "n1max, n2max\n",
    "list(range(xmin, xmax + 1, (xmax - xmin)//20))"
   ]
  },
  {
   "cell_type": "code",
   "execution_count": 54,
   "id": "831b98b4-d92e-4137-94b9-1b245257feb3",
   "metadata": {},
   "outputs": [
    {
     "ename": "SystemExit",
     "evalue": "",
     "output_type": "error",
     "traceback": [
      "An exception has occurred, use %tb to see the full traceback.\n",
      "\u001b[0;31mSystemExit\u001b[0m\n"
     ]
    }
   ],
   "source": [
    "################## Part 2 ################## Brute Force Try\n",
    "# 1st iteration\n",
    "xmin, xmax = min(x[0] for x in robots), max(x[0] for x in robots)\n",
    "ymin, ymax = min(x[1] for x in robots), max(x[1] for x in robots)\n",
    "zmin, zmax = min(x[2] for x in robots), max(x[2] for x in robots)\n",
    "\n",
    "n1 = defaultdict(int)\n",
    "divisions_per_dim = 50\n",
    "\n",
    "for x in range(xmin, xmax + 1, (xmax - xmin)//divisions_per_dim):\n",
    "    for y in range(ymin, ymax + 1, (ymax - ymin)//divisions_per_dim):\n",
    "        for z in range(zmin, zmax + 1, (zmax - zmin)//divisions_per_dim):\n",
    "            for robot in robots:\n",
    "                n1[(x, y, z)] += 1 if in_range((x, y, z), robot) else 0\n",
    "n1max = max(n1, key = lambda x: n1[x])\n",
    "\n",
    "\n",
    "# 2nd iteration\n",
    "partition = 50\n",
    "xopt, yopt, zopt = n1max\n",
    "xwidth, ywidth, zwidth = (xmax - xmin)//partition, (ymax - ymin)//partition, (zmax - zmin)//partition\n",
    "\n",
    "n2 = defaultdict(int)\n",
    "divisions_per_dim = 10\n",
    "\n",
    "for x in range(xopt - xwidth//2, xopt + xwidth//2, xwidth//divisions_per_dim):\n",
    "    for y in range(yopt - ywidth//2, yopt + ywidth//2, ywidth//divisions_per_dim):\n",
    "        for z in range(zopt - zwidth//2, zopt + zwidth//2, zwidth//divisions_per_dim):  \n",
    "            for robot in robots:\n",
    "                n2[(x, y, z)] += 1 if in_range((x, y, z), robot) else 0\n",
    "n2max = max(n2, key = lambda x: n2[x])\n",
    "\n",
    "sys.exit()\n",
    "# 3rd iteration\n",
    "partition = 100\n",
    "xopt, yopt, zopt = n2max\n",
    "xwidth, ywidth, zwidth = (xmax - xmin)//partition, (ymax - ymin)//partition, (zmax - zmin)//partition\n",
    "\n",
    "n3 = defaultdict(int)\n",
    "divisions_per_dim = 20\n",
    "\n",
    "for x in range(xopt - xwidth, xopt + xwidth, 2*xwidth//divisions_per_dim):\n",
    "    for y in range(yopt - ywidth, yopt + ywidth, 2*ywidth//divisions_per_dim):\n",
    "        for z in range(zopt - zwidth, zopt + zwidth, 2*zwidth//divisions_per_dim):  \n",
    "            for robot in robots:\n",
    "                n3[(x, y, z)] += 1 if in_range((x, y, z), robot) else 0\n",
    "n3max = max(n3, key = lambda x: n3[x])\n",
    "\n",
    "\n",
    "# More iterations\n",
    "for i in range(10):\n",
    "    partition *= 20\n",
    "    xopt, yopt, zopt = n3max\n",
    "    xwidth, ywidth, zwidth = (xmax - xmin)//partition, (ymax - ymin)//partition, (zmax - zmin)//partition\n",
    "    \n",
    "    n3 = defaultdict(int)\n",
    "    divisions_per_dim = 10\n",
    "    \n",
    "    for x in range(xopt - xwidth, xopt + xwidth, max(2*xwidth//divisions_per_dim, 1)):\n",
    "        for y in range(yopt - ywidth, yopt + ywidth, max(2*ywidth//divisions_per_dim, 1)):\n",
    "            for z in range(zopt - zwidth, zopt + zwidth, max(2*zwidth//divisions_per_dim, 1)):  \n",
    "                for robot in robots:\n",
    "                    n3[(x, y, z)] += 1 if in_range((x, y, z), robot) else 0\n",
    "    n3max = max(n3, key = lambda x: n3[x])\n",
    "\n",
    "    if xwidth < 100:\n",
    "        break"
   ]
  },
  {
   "cell_type": "code",
   "execution_count": 41,
   "id": "e4148e50-8277-4cbd-9d7b-597f4682654b",
   "metadata": {},
   "outputs": [],
   "source": [
    "# Finding point closest to origin\n",
    "xopt, yopt, zopt = n3max\n",
    "maxinrange = n3[n3max]\n",
    "\n",
    "xinc = -128 if xopt > 0 else 128\n",
    "yinc = -128 if yopt > 0 else 128\n",
    "zinc = -128 if zopt > 0 else 128\n",
    "\n",
    "smallest_d = np.infty\n",
    "x, y, z = xopt, yopt, zopt\n",
    "while True:\n",
    "    x += xinc\n",
    "    inrange = sum([1 for robot in robots if in_range((x, y, z), robot)])\n",
    "    if inrange > maxinrange:\n",
    "        print(\"better\")\n",
    "    if inrange == maxinrange:\n",
    "        smallest_d = min(smallest_d, abs(x) + abs(y) + abs(z))\n",
    "    else:\n",
    "        x -= xinc\n",
    "        xinc //= 2\n",
    "    if abs(xinc) < 2:\n",
    "        break\n",
    "while True:\n",
    "    y += yinc\n",
    "    inrange = sum([1 for robot in robots if in_range((x, y, z), robot)])\n",
    "    if inrange > maxinrange:\n",
    "        print(\"better\")\n",
    "    if inrange == maxinrange:\n",
    "        smallest_d = min(smallest_d, abs(x) + abs(y) + abs(z))\n",
    "    else:\n",
    "        y -= yinc\n",
    "        yinc //= 2\n",
    "    if abs(yinc) < 2:\n",
    "        break\n",
    "while True:\n",
    "    z += zinc\n",
    "    inrange = sum([1 for robot in robots if in_range((x, y, z), robot)])\n",
    "    if inrange > maxinrange:\n",
    "        print(\"better\")\n",
    "    if inrange == maxinrange:\n",
    "        smallest_d = min(smallest_d, abs(x) + abs(y) + abs(z))\n",
    "    else:\n",
    "        z -= zinc\n",
    "        zinc //= 2\n",
    "    if abs(zinc) < 2:\n",
    "        break\n",
    "\n",
    "for x_ in (x-2, x+3):\n",
    "    for y_ in (y-2, y+3):\n",
    "        for z_ in (z-2, z+3):\n",
    "            if sum([1 for robot in robots if in_range((x_, y_, z_), robot)]) == maxinrange:\n",
    "                smallest_d = min(smallest_d, abs(x_) + abs(y_) + abs(z_))"
   ]
  },
  {
   "cell_type": "code",
   "execution_count": 33,
   "id": "b5189619-6ad1-42aa-9006-2cae3fa49dd3",
   "metadata": {},
   "outputs": [
    {
     "data": {
      "text/plain": [
       "69455452"
      ]
     },
     "execution_count": 33,
     "metadata": {},
     "output_type": "execute_result"
    }
   ],
   "source": [
    "smallest_d"
   ]
  },
  {
   "cell_type": "code",
   "execution_count": 44,
   "id": "b8ab6534-adc1-4499-bfec-da0d671ac048",
   "metadata": {},
   "outputs": [
    {
     "name": "stdout",
     "output_type": "stream",
     "text": [
      "bots in range of maxrad bot 584\n",
      "Found closest at (31309240, 15032338, 25143064) dist 71484642 (977 bots in range)\n"
     ]
    }
   ],
   "source": [
    "from __future__ import print_function\n",
    "\n",
    "import sys\n",
    "import re\n",
    "import heapq\n",
    "\n",
    "with open('23.txt') as f:\n",
    "    data = list(f)\n",
    "\n",
    "\n",
    "def d3(a, b):\n",
    "    return abs(a[0]-b[0])+abs(a[1]-b[1])+abs(a[2]-b[2])\n",
    "\n",
    "\n",
    "bots = [tuple(map(int, list(re.findall(r'-?\\d+', ln)))) for ln in data]\n",
    "\n",
    "maxrad = max(r for (x, y, z, r) in bots)\n",
    "maxradbot = [b for b in bots if b[3] == maxrad][0]\n",
    "\n",
    "print(\"bots in range of maxrad bot\",\n",
    "      sum(1 for b in bots if d3(b, maxradbot) <= maxrad))\n",
    "\n",
    "# Find a box big enough to contain everything in range\n",
    "maxabscord = max(max(abs(b[i])+b[3] for b in bots) for i in (0, 1, 2))\n",
    "boxsize = 1\n",
    "while boxsize <= maxabscord:\n",
    "    boxsize *= 2\n",
    "\n",
    "initial_box = ((-boxsize, -boxsize, -boxsize), (boxsize, boxsize, boxsize))\n",
    "\n",
    "\n",
    "def does_intersect(box, bot):\n",
    "    # returns whether box intersects bot\n",
    "    d = 0\n",
    "    for i in (0, 1, 2):\n",
    "        boxlow, boxhigh = box[0][i], box[1][i] - 1\n",
    "        d += abs(bot[i] - boxlow) + abs(bot[i] - boxhigh)\n",
    "        d -= boxhigh - boxlow\n",
    "    d //= 2\n",
    "    return d <= bot[3]\n",
    "\n",
    "\n",
    "def intersect_count(box):\n",
    "    return sum(1 for b in bots if does_intersect(box, b))\n",
    "\n",
    "\n",
    "# Set up heap to work on things first by number of bots in range of box,\n",
    "# then by size of box, then by distance to origin\n",
    "#\n",
    "# The idea is that we first work on a box with the most bots in range.\n",
    "# In the event of a tie, work on the larger box.\n",
    "# In the event of a tie, work on the one with a min corner closest\n",
    "# to the origin.\n",
    "#\n",
    "# These rules mean that if I get to where I'm processing a 1x1x1 box,\n",
    "# I know I'm done:\n",
    "# - no larger box can intersect as many bots' ranges as what I'm working on\n",
    "# - no other 1x1x1 box intersecting the same number of bots can be as close\n",
    "\n",
    "# remember heapq.heappop pulls the smallest off the heap, so negate\n",
    "# the two things I want to pull by largest (reach of box, boxsize) and\n",
    "# do not negate distance-to-origin, since I want to work on smallest\n",
    "# distance-to-origin first\n",
    "\n",
    "workheap = [(-len(bots), -2*boxsize, 3*boxsize, initial_box)]\n",
    "while workheap:\n",
    "    (negreach, negsz, dist_to_orig, box) = heapq.heappop(workheap)\n",
    "    if negsz == -1:\n",
    "        print(\"Found closest at %s dist %s (%s bots in range)\" %\n",
    "              (str(box[0]), dist_to_orig, -negreach))\n",
    "        break\n",
    "    newsz = negsz // -2\n",
    "    for octant in [(0, 0, 0), (0, 0, 1), (0, 1, 0), (0, 1, 1),\n",
    "                   (1, 0, 0), (1, 0, 1), (1, 1, 0), (1, 1, 1)]:\n",
    "        newbox0 = tuple(box[0][i] + newsz * octant[i] for i in (0, 1, 2))\n",
    "        newbox1 = tuple(newbox0[i] + newsz for i in (0, 1, 2))\n",
    "        newbox = (newbox0, newbox1)\n",
    "        newreach = intersect_count(newbox)\n",
    "        heapq.heappush(workheap,\n",
    "                       (-newreach, -newsz, d3(newbox0, (0, 0, 0)), newbox))"
   ]
  },
  {
   "cell_type": "code",
   "execution_count": null,
   "id": "9fa58ade-e803-4ea5-a557-eb43153cd4a5",
   "metadata": {},
   "outputs": [],
   "source": []
  }
 ],
 "metadata": {
  "kernelspec": {
   "display_name": "Python 3 (ipykernel)",
   "language": "python",
   "name": "python3"
  },
  "language_info": {
   "codemirror_mode": {
    "name": "ipython",
    "version": 3
   },
   "file_extension": ".py",
   "mimetype": "text/x-python",
   "name": "python",
   "nbconvert_exporter": "python",
   "pygments_lexer": "ipython3",
   "version": "3.12.3"
  }
 },
 "nbformat": 4,
 "nbformat_minor": 5
}
