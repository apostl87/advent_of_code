{
 "cells": [
  {
   "cell_type": "code",
   "execution_count": 30,
   "id": "5ba2d153-f669-410a-a2f9-7b6a2de616b0",
   "metadata": {},
   "outputs": [
    {
     "data": {
      "text/plain": [
       "2147483648"
      ]
     },
     "execution_count": 30,
     "metadata": {},
     "output_type": "execute_result"
    }
   ],
   "source": [
    "(1 << 31)"
   ]
  },
  {
   "cell_type": "code",
   "execution_count": 22,
   "id": "3e886b1d-f9bd-4701-b070-a30e39928466",
   "metadata": {},
   "outputs": [
    {
     "name": "stdout",
     "output_type": "stream",
     "text": [
      "3620\n",
      "39930\n"
     ]
    }
   ],
   "source": [
    "f = open(\"6.txt\").read().strip()\n",
    "lines = f.splitlines()\n",
    "\n",
    "coords = [line.split(\", \") for line in lines]\n",
    "coords = [(int(x), int(y)) for x, y in coords]\n",
    "\n",
    "xmin = min(x for x, y in coords)\n",
    "xmax = max(x for x, y in coords)\n",
    "ymin = min(y for x, y in coords)\n",
    "ymax = max(y for x, y in coords)\n",
    "\n",
    "# Part 1\n",
    "excluded = set()\n",
    "excluded.add('.')\n",
    "nearest_to = []\n",
    "for y in range(ymin, ymax + 1):\n",
    "    for x in range(xmin, xmax + 1):\n",
    "        smallest_d = float('inf')\n",
    "        node = '.'\n",
    "        for i, (x_, y_) in enumerate(coords):\n",
    "            d = abs(x - x_) + abs(y - y_)\n",
    "            if d < smallest_d:\n",
    "                smallest_d = d\n",
    "                node = i\n",
    "            elif d == smallest_d:\n",
    "                node = '.'\n",
    "        nearest_to.append(node)\n",
    "        if y == ymin or y == ymax or x == xmin or x == xmax:\n",
    "            #print(\"Adding \", node, \" to excluded\")\n",
    "            excluded.add(node)\n",
    "\n",
    "largest_area = max(nearest_to.count(i) for i in range(len(coords)) if i not in excluded)\n",
    "print(largest_area)\n",
    "\n",
    "# Part 2\n",
    "region_size = 0\n",
    "for y in range(ymin, ymax + 1):\n",
    "    for x in range(xmin, xmax + 1):\n",
    "        d = 0 \n",
    "        for i, (x_, y_) in enumerate(coords):\n",
    "            d += abs(x - x_) + abs(y - y_)\n",
    "            if d >= 1e4:\n",
    "                break\n",
    "        if d < 1e4:\n",
    "            region_size += 1\n",
    "print(region_size)"
   ]
  },
  {
   "cell_type": "code",
   "execution_count": 20,
   "id": "08ab0cfc-6794-4108-9374-29d5e577734b",
   "metadata": {},
   "outputs": [
    {
     "data": {
      "text/plain": [
       "39930"
      ]
     },
     "execution_count": 20,
     "metadata": {},
     "output_type": "execute_result"
    }
   ],
   "source": [
    "region_size"
   ]
  },
  {
   "cell_type": "raw",
   "id": "ce8e7008-53df-40f1-b19d-2904d2d142b1",
   "metadata": {},
   "source": [
    "The device on your wrist beeps several times, and once again you feel like you're falling.\n",
    "\n",
    "\"Situation critical,\" the device announces. \"Destination indeterminate. Chronal interference detected. Please specify new target coordinates.\"\n",
    "\n",
    "The device then produces a list of coordinates (your puzzle input). Are they places it thinks are safe or dangerous? It recommends you check manual page 729. The Elves did not give you a manual.\n",
    "\n",
    "If they're dangerous, maybe you can minimize the danger by finding the coordinate that gives the largest distance from the other points.\n",
    "\n",
    "Using only the Manhattan distance, determine the area around each coordinate by counting the number of integer X,Y locations that are closest to that coordinate (and aren't tied in distance to any other coordinate).\n",
    "\n",
    "Your goal is to find the size of the largest area that isn't infinite. For example, consider the following list of coordinates:\n",
    "\n",
    "1, 1\n",
    "1, 6\n",
    "8, 3\n",
    "3, 4\n",
    "5, 5\n",
    "8, 9\n",
    "If we name these coordinates A through F, we can draw them on a grid, putting 0,0 at the top left:\n",
    "\n",
    "..........\n",
    ".A........\n",
    "..........\n",
    "........C.\n",
    "...D......\n",
    ".....E....\n",
    ".B........\n",
    "..........\n",
    "..........\n",
    "........F.\n",
    "This view is partial - the actual grid extends infinitely in all directions. Using the Manhattan distance, each location's closest coordinate can be determined, shown here in lowercase:\n",
    "\n",
    "aaaaa.cccc\n",
    "aAaaa.cccc\n",
    "aaaddecccc\n",
    "aadddeccCc\n",
    "..dDdeeccc\n",
    "bb.deEeecc\n",
    "bBb.eeee..\n",
    "bbb.eeefff\n",
    "bbb.eeffff\n",
    "bbb.ffffFf\n",
    "Locations shown as . are equally far from two or more coordinates, and so they don't count as being closest to any.\n",
    "\n",
    "In this example, the areas of coordinates A, B, C, and F are infinite - while not shown here, their areas extend forever outside the visible grid. However, the areas of coordinates D and E are finite: D is closest to 9 locations, and E is closest to 17 (both including the coordinate's location itself). Therefore, in this example, the size of the largest area is 17.\n",
    "\n",
    "What is the size of the largest area that isn't infinite?"
   ]
  }
 ],
 "metadata": {
  "kernelspec": {
   "display_name": "Python 3 (ipykernel)",
   "language": "python",
   "name": "python3"
  },
  "language_info": {
   "codemirror_mode": {
    "name": "ipython",
    "version": 3
   },
   "file_extension": ".py",
   "mimetype": "text/x-python",
   "name": "python",
   "nbconvert_exporter": "python",
   "pygments_lexer": "ipython3",
   "version": "3.12.3"
  }
 },
 "nbformat": 4,
 "nbformat_minor": 5
}
