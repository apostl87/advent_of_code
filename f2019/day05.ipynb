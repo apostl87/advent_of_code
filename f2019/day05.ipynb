{
 "cells": [
  {
   "cell_type": "code",
   "execution_count": 56,
   "id": "431b09c9-c7ba-4651-a8a6-41c6865a45a9",
   "metadata": {},
   "outputs": [],
   "source": [
    "import re, sys, copy, numpy as np\n",
    "from math import sqrt\n",
    "from aoclib import list2string\n",
    "from collections import defaultdict\n",
    "from itertools import combinations\n",
    "from operator import add, mul\n",
    "\n",
    "lines = open('05.txt').read().strip()"
   ]
  },
  {
   "cell_type": "code",
   "execution_count": 5,
   "id": "bc28a428-32cd-4120-9d36-654a6ef32a6b",
   "metadata": {},
   "outputs": [
    {
     "ename": "NameError",
     "evalue": "name 'lines' is not defined",
     "output_type": "error",
     "traceback": [
      "\u001b[0;31m---------------------------------------------------------------------------\u001b[0m",
      "\u001b[0;31mNameError\u001b[0m                                 Traceback (most recent call last)",
      "Cell \u001b[0;32mIn[5], line 50\u001b[0m\n\u001b[1;32m     22\u001b[0m         \u001b[38;5;28;01mmatch\u001b[39;00m opcode:\n\u001b[1;32m     23\u001b[0m             \u001b[38;5;28;01mcase\u001b[39;00m \u001b[38;5;241m1\u001b[39m \u001b[38;5;241m|\u001b[39m \u001b[38;5;241m2\u001b[39m:\n\u001b[1;32m     24\u001b[0m                 memory[memory[i \u001b[38;5;241m+\u001b[39m \u001b[38;5;241m3\u001b[39m]] \u001b[38;5;241m=\u001b[39m memory[idx1] \u001b[38;5;241m+\u001b[39m memory[idx2] \u001b[38;5;28;01mif\u001b[39;00m opcode \u001b[38;5;241m==\u001b[39m \u001b[38;5;241m1\u001b[39m \u001b[38;5;28;01melse\u001b[39;00m memory[idx1] \u001b[38;5;241m*\u001b[39m memory[idx2]\n\u001b[0;32m   (...)\u001b[0m\n\u001b[1;32m     46\u001b[0m                 alt_par_modes \u001b[38;5;241m=\u001b[39m \u001b[38;5;28;01mTrue\u001b[39;00m\n\u001b[1;32m     47\u001b[0m                 \u001b[38;5;28;01mcontinue\u001b[39;00m\n\u001b[1;32m     48\u001b[0m     \u001b[38;5;28;01mreturn\u001b[39;00m output\n\u001b[0;32m---> 50\u001b[0m program \u001b[38;5;241m=\u001b[39m [\u001b[38;5;28mint\u001b[39m(x) \u001b[38;5;28;01mfor\u001b[39;00m x \u001b[38;5;129;01min\u001b[39;00m lines\u001b[38;5;241m.\u001b[39msplit(\u001b[38;5;124m\"\u001b[39m\u001b[38;5;124m,\u001b[39m\u001b[38;5;124m\"\u001b[39m)]\n\u001b[1;32m     51\u001b[0m output \u001b[38;5;241m=\u001b[39m icc(program)\n",
      "\u001b[0;31mNameError\u001b[0m: name 'lines' is not defined"
     ]
    }
   ],
   "source": [
    "def icc(program): # intcode computer\n",
    "    memory = program.copy()\n",
    "    output = []\n",
    "    alt_par_modes = False # parameter modes other than position mode are enabled / disabled by this boolean\n",
    "    relative_base = 0\n",
    "\n",
    "    i = 0\n",
    "    while True:\n",
    "        if alt_par_modes:\n",
    "            alt_par_modes = False\n",
    "            instruction_header = str(memory[i]).rjust(5, \"0\")\n",
    "            opcode = int(instruction_header[-2:])\n",
    "            par_modes = [int(x) for x in instruction_header[-3::-1]]\n",
    "        else:\n",
    "            opcode = memory[i]\n",
    "            par_modes = [0, 0, 0]\n",
    "\n",
    "        if opcode == 99:\n",
    "            break\n",
    "            \n",
    "        idx1 = i + 1 if par_modes[0] == 1 else memory[i + 1]\n",
    "        idx2 = i + 2 if par_modes[1] == 1 else memory[i + 2]\n",
    "        idx3 = i + 3 if par_modes[2] == 1 else memory[i + 3]\n",
    "        \n",
    "        match opcode:\n",
    "            case 1 | 2:\n",
    "                memory[memory[i + 3]] = memory[idx1] + memory[idx2] if opcode == 1 else memory[idx1] * memory[idx2]\n",
    "                i += 4\n",
    "            case 3:\n",
    "                memory[memory[i + 1]] = int(input('Please provide some input: '))\n",
    "                i += 2\n",
    "            case 4:\n",
    "                output.append(memory[idx1])\n",
    "                i += 2\n",
    "            case 5:\n",
    "                i = memory[idx2] if memory[idx1] != 0 else i + 3\n",
    "            case 6:\n",
    "                i = memory[idx2] if memory[idx1] == 0 else i + 3\n",
    "            case 7:\n",
    "                memory[memory[i + 3]] = 1 if memory[idx1] < memory[idx2] else 0\n",
    "                i += 4\n",
    "            case 8:\n",
    "                memory[memory[i + 3]] = 1 if memory[idx1] == memory[idx2] else 0\n",
    "                i += 4\n",
    "            case 9:\n",
    "                relative_base += memory[idx1]\n",
    "                i += 2\n",
    "            case _:\n",
    "                alt_par_modes = True\n",
    "                continue\n",
    "    return output\n",
    "\n",
    "program = [int(x) for x in lines.split(\",\")]\n",
    "output = icc(program)"
   ]
  },
  {
   "cell_type": "code",
   "execution_count": 70,
   "id": "13db9821-f1c5-4b1f-849c-097a848082ba",
   "metadata": {},
   "outputs": [
    {
     "data": {
      "text/plain": [
       "[3176266]"
      ]
     },
     "execution_count": 70,
     "metadata": {},
     "output_type": "execute_result"
    }
   ],
   "source": [
    "output"
   ]
  },
  {
   "cell_type": "code",
   "execution_count": 2,
   "id": "c29ce73d-dbd0-4970-bc94-98cfb5b5ee12",
   "metadata": {},
   "outputs": [
    {
     "data": {
      "text/plain": [
       "1"
      ]
     },
     "execution_count": 2,
     "metadata": {},
     "output_type": "execute_result"
    }
   ],
   "source": [
    "a"
   ]
  },
  {
   "cell_type": "code",
   "execution_count": null,
   "id": "27b35fcf-0c6d-4b36-85fc-5f0acf5b7208",
   "metadata": {},
   "outputs": [],
   "source": []
  }
 ],
 "metadata": {
  "kernelspec": {
   "display_name": "Python 3 (ipykernel)",
   "language": "python",
   "name": "python3"
  },
  "language_info": {
   "codemirror_mode": {
    "name": "ipython",
    "version": 3
   },
   "file_extension": ".py",
   "mimetype": "text/x-python",
   "name": "python",
   "nbconvert_exporter": "python",
   "pygments_lexer": "ipython3",
   "version": "3.12.3"
  }
 },
 "nbformat": 4,
 "nbformat_minor": 5
}
