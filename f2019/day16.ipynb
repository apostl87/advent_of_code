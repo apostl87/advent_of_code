{
 "cells": [
  {
   "cell_type": "code",
   "execution_count": 132,
   "id": "26be3593-dd2c-4e59-ab80-5e110da7fcda",
   "metadata": {},
   "outputs": [],
   "source": [
    "import re, sys, copy, numpy as np\n",
    "from math import sqrt, lcm\n",
    "from aoclib import list2string\n",
    "from collections import defaultdict\n",
    "from itertools import combinations\n",
    "from operator import add, mul\n",
    "\n",
    "lines = open('16.txt').read().strip()\n",
    "input_line = lines"
   ]
  },
  {
   "cell_type": "code",
   "execution_count": 170,
   "id": "14678f07-fbc4-4e3a-869d-de904a8cff7d",
   "metadata": {},
   "outputs": [
    {
     "data": {
      "text/plain": [
       "'10332447'"
      ]
     },
     "execution_count": 170,
     "metadata": {},
     "output_type": "execute_result"
    }
   ],
   "source": [
    "def get_message(signal, offset):\n",
    "    return signal[offset:offset + 8]\n",
    "\n",
    "# Part 1\n",
    "def FFT(input_, n_phases):\n",
    "    base_pattern = [0, 1, 0, -1]\n",
    "    input_ = [int(x) for x in list(str(input_))]\n",
    "\n",
    "    for k in range(n_phases):\n",
    "        output = []\n",
    "        for repeat in range(1, len(input_) + 1):\n",
    "            res = sum([input_[i]*base_pattern[((i+1)//repeat) % len(base_pattern)] for i in range(len(input_))])\n",
    "            output.append(int(str(res)[-1]))\n",
    "        input_ = output\n",
    "    \n",
    "    str_output = ''\n",
    "    for o in output:\n",
    "        str_output += str(o)\n",
    "    return str_output\n",
    "\n",
    "FFT(80871224585914546619083218645595, 100)[:8]\n",
    "FFT(input_line, 100)[:8]"
   ]
  },
  {
   "cell_type": "code",
   "execution_count": 183,
   "id": "dcfad4f5-0d67-4cdd-9bce-6cde9768667f",
   "metadata": {},
   "outputs": [
    {
     "data": {
      "text/plain": [
       "'14288025'"
      ]
     },
     "execution_count": 183,
     "metadata": {},
     "output_type": "execute_result"
    }
   ],
   "source": [
    "# Part 2\n",
    "def FFT2(input_, n_phases, offset):\n",
    "    base_pattern = [0, 1, 0, -1]\n",
    "    input_ = [int(x) for x in list(str(input_))]\n",
    "\n",
    "    output = input_.copy()\n",
    "    for _ in range(n_phases):\n",
    "        for k in range(len(output) - 2, offset - 1, -1):\n",
    "            output[k] = (output[k] + output[k + 1]) % 10\n",
    "    \n",
    "    str_output = ''\n",
    "    for o in output:\n",
    "        str_output += str(o)\n",
    "    return str_output\n",
    "    \n",
    "result = input_line * 10000\n",
    "offset = int(input_line[:7])\n",
    "result = FFT2(result, 100, offset)\n",
    "get_message(result, offset)"
   ]
  },
  {
   "cell_type": "code",
   "execution_count": 181,
   "id": "27cdd149-fd63-42ca-81e3-6164aff11a53",
   "metadata": {},
   "outputs": [
    {
     "data": {
      "text/plain": [
       "-1"
      ]
     },
     "execution_count": 181,
     "metadata": {},
     "output_type": "execute_result"
    }
   ],
   "source": [
    "result.find(\"14288025\")"
   ]
  },
  {
   "cell_type": "code",
   "execution_count": null,
   "id": "5af66b07-2054-491d-8238-eb4fd35a19b1",
   "metadata": {},
   "outputs": [],
   "source": []
  },
  {
   "cell_type": "code",
   "execution_count": null,
   "id": "620cae3f-237a-44dc-b960-2b21f16d8c87",
   "metadata": {},
   "outputs": [],
   "source": []
  },
  {
   "cell_type": "code",
   "execution_count": null,
   "id": "c6257fd3-6dbd-41cf-ac33-e74b76fb4bca",
   "metadata": {},
   "outputs": [],
   "source": []
  },
  {
   "cell_type": "code",
   "execution_count": 100,
   "id": "8c18b220-0f34-48db-808c-5ba00e3d4f23",
   "metadata": {},
   "outputs": [],
   "source": [
    "# Copyright 2019 Google LLC\n",
    "\n",
    "def fft(digits: list, target_phases: int) -> list:\n",
    "    output = digits.copy()\n",
    "    base_pat = [0, 1, 0, -1]\n",
    "    for phase in range(0, target_phases):\n",
    "        phase_output = []\n",
    "        for i in range(0, len(output)):\n",
    "            base_index = 0\n",
    "            reps = i + 1\n",
    "            digit_calc = 0\n",
    "            count_reps = 1\n",
    "            for j, digit in enumerate(output):\n",
    "                if count_reps == reps:\n",
    "                    count_reps = 0\n",
    "                    if base_index == len(base_pat) - 1:\n",
    "                        base_index = 0\n",
    "                    else:\n",
    "                        base_index += 1\n",
    "                digit_calc += digit * base_pat[base_index]\n",
    "                count_reps += 1\n",
    "            phase_output.append(digit_calc % 10 if digit_calc >= 0 else abs(digit_calc % -10))\n",
    "        output = phase_output\n",
    "    return output\n",
    "\n",
    "\n",
    "# Calculates FFT for the second half of the input list [n/2, n].\n",
    "# For a digit at position i, its new value is calculated as (A[i] + A[i+1] + ... + A[n]) % 10\n",
    "def fft_second_half(digits: list, target_phases: int) -> list:\n",
    "    output = digits.copy()\n",
    "    half_len = len(digits) // 2\n",
    "    for phase in range(0, target_phases):\n",
    "        phase_output = [0] * len(digits)\n",
    "        right_array_sum = sum(output[half_len:])\n",
    "        for i in range(half_len, len(output)):\n",
    "            if i != 0:\n",
    "                right_array_sum -= output[i - 1]\n",
    "            phase_output[i] = right_array_sum % 10\n",
    "        output = phase_output\n",
    "    return output\n",
    "\n",
    "\n",
    "def part_one(filename: str, target_phases: int) -> str:\n",
    "    output = fft(read_integers(filename), target_phases)\n",
    "    return ''.join(map(str, output[:8]))\n",
    "\n",
    "\n",
    "def part_two(filename: str, target_phases: int) -> str:\n",
    "    input_num = read_integers(filename) * 10000\n",
    "    offset = int(''.join(map(str, input_num[:7])))\n",
    "    output = fft_second_half(input_num, target_phases)\n",
    "    return ''.join(map(str, output[offset:offset + 8]))\n",
    "\n",
    "def read_integers(file: str) -> list:\n",
    "    with open(file) as f:\n",
    "        return list(map(int, [x for x in f.read()]))"
   ]
  },
  {
   "cell_type": "code",
   "execution_count": 102,
   "id": "4ad01f02-9f78-4a14-82be-f0fecfc303b7",
   "metadata": {},
   "outputs": [
    {
     "data": {
      "text/plain": [
       "'10332447'"
      ]
     },
     "execution_count": 102,
     "metadata": {},
     "output_type": "execute_result"
    }
   ],
   "source": [
    "part_one('16.txt', 100)"
   ]
  },
  {
   "cell_type": "code",
   "execution_count": 103,
   "id": "5d6b83d7-389e-4504-ae00-7590ee1f88ab",
   "metadata": {},
   "outputs": [
    {
     "data": {
      "text/plain": [
       "'14288025'"
      ]
     },
     "execution_count": 103,
     "metadata": {},
     "output_type": "execute_result"
    }
   ],
   "source": [
    "part_two('16.txt', 100)"
   ]
  },
  {
   "cell_type": "code",
   "execution_count": null,
   "id": "fc3586f9-77ee-4c28-81bb-bb71faeabe61",
   "metadata": {},
   "outputs": [],
   "source": []
  }
 ],
 "metadata": {
  "kernelspec": {
   "display_name": "Python 3 (ipykernel)",
   "language": "python",
   "name": "python3"
  },
  "language_info": {
   "codemirror_mode": {
    "name": "ipython",
    "version": 3
   },
   "file_extension": ".py",
   "mimetype": "text/x-python",
   "name": "python",
   "nbconvert_exporter": "python",
   "pygments_lexer": "ipython3",
   "version": "3.12.3"
  }
 },
 "nbformat": 4,
 "nbformat_minor": 5
}
