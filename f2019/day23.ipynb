{
 "cells": [
  {
   "cell_type": "code",
   "execution_count": 55,
   "id": "431b09c9-c7ba-4651-a8a6-41c6865a45a9",
   "metadata": {},
   "outputs": [],
   "source": [
    "import re, sys, copy, numpy as np, threading\n",
    "from math import sqrt\n",
    "from aoclib import list2string\n",
    "from collections import defaultdict\n",
    "from itertools import combinations\n",
    "from operator import add, mul\n",
    "\n",
    "lines = open('23.txt').read().strip()\n",
    "\n",
    "program = [int(x) for x in lines.split(\",\")]"
   ]
  },
  {
   "cell_type": "code",
   "execution_count": 56,
   "id": "bc28a428-32cd-4120-9d36-654a6ef32a6b",
   "metadata": {},
   "outputs": [],
   "source": [
    "def icc(program, input_queue = None, pointer = 0): # intcode computer    \n",
    "    memory = program.copy()\n",
    "    for j in range(10000 - len(memory)):\n",
    "        memory.append(0)\n",
    "                      \n",
    "    #outputs[network_address] = []\n",
    "    alt_par_modes = False # parameter modes other than position mode are enabled / disabled by this boolean\n",
    "    relative_base = 0\n",
    "\n",
    "    i = pointer\n",
    "    N_empty = 0\n",
    "    while True:\n",
    "        #print(\"Running\", network_address)\n",
    "        if alt_par_modes:\n",
    "            alt_par_modes = False\n",
    "            instruction_header = str(memory[i]).rjust(5, \"0\")\n",
    "            opcode = int(instruction_header[-2:])\n",
    "            par_modes = [int(x) for x in instruction_header[-3::-1]]\n",
    "        else:\n",
    "            opcode = memory[i]\n",
    "            par_modes = [0, 0, 0]\n",
    "\n",
    "        if opcode == 99:\n",
    "            break\n",
    "            \n",
    "        idx1 = i + 1 if par_modes[0] == 1 else memory[i + 1]\n",
    "        idx2 = i + 2 if par_modes[1] == 1 else memory[i + 2]\n",
    "        idx3 = i + 3 if par_modes[2] == 1 else memory[i + 3]\n",
    "        if par_modes[0] == 2:\n",
    "            idx1 += relative_base\n",
    "        if par_modes[1] == 2:\n",
    "            idx2 += relative_base\n",
    "        if par_modes[2] == 2:\n",
    "            idx3 += relative_base\n",
    "        \n",
    "        match opcode:\n",
    "            case 1 | 2:\n",
    "                memory[idx3] = memory[idx1] + memory[idx2] if opcode == 1 else memory[idx1] * memory[idx2]\n",
    "                i += 4\n",
    "            case 3:\n",
    "                if input_queue:\n",
    "                    input_ = int(input_queue.pop(0))\n",
    "                    #print(input_)\n",
    "                else:\n",
    "                    input_ = -1\n",
    "                    #input_ = int(input_queue('Please provide some input: '))\n",
    "                memory[idx1] = input_\n",
    "                i += 2\n",
    "                return None, i, memory\n",
    "            case 4:\n",
    "                #outputs[network_address].append(memory[idx1])\n",
    "                i += 2\n",
    "                return memory[idx1], i, memory\n",
    "            case 5:\n",
    "                i = memory[idx2] if memory[idx1] != 0 else i + 3\n",
    "            case 6:\n",
    "                i = memory[idx2] if memory[idx1] == 0 else i + 3\n",
    "            case 7:\n",
    "                memory[idx3] = 1 if memory[idx1] < memory[idx2] else 0\n",
    "                i += 4\n",
    "            case 8:\n",
    "                memory[idx3] = 1 if memory[idx1] == memory[idx2] else 0\n",
    "                i += 4\n",
    "            case 9:\n",
    "                relative_base += memory[idx1]\n",
    "                i += 2\n",
    "            case _:\n",
    "                alt_par_modes = True\n",
    "                continue\n",
    "    return None, i, memory\n"
   ]
  },
  {
   "cell_type": "code",
   "execution_count": 57,
   "id": "2c6d1eae-8d05-43e2-990a-78eef98add68",
   "metadata": {},
   "outputs": [
    {
     "name": "stdout",
     "output_type": "stream",
     "text": [
      "Address 0 Input: [] Output: None\n",
      "Address 0 Input: [] Output: 7\n",
      "Address 0 Input: [] Output: 20\n",
      "Address 0 Input: [] Output: 20\n",
      "Address 0 Input: [] Output: 5\n",
      "Address 0 Input: [] Output: 5\n",
      "Address 0 Input: [] Output: 5\n",
      "Address 0 Input: [] Output: None\n",
      "Address 0 Input: [] Output: None\n",
      "Address 0 Input: [] Output: None\n",
      "Address 0 Input: [] Output: None\n",
      "Address 0 Input: [] Output: None\n",
      "Address 0 Input: [] Output: None\n",
      "Address 0 Input: [] Output: None\n",
      "Address 0 Input: [] Output: None\n",
      "Address 0 Input: [] Output: None\n",
      "Address 0 Input: [] Output: None\n",
      "Address 0 Input: [] Output: None\n",
      "19937\n"
     ]
    },
    {
     "ename": "SystemExit",
     "evalue": "",
     "output_type": "error",
     "traceback": [
      "An exception has occurred, use %tb to see the full traceback.\n",
      "\u001b[0;31mSystemExit\u001b[0m\n"
     ]
    }
   ],
   "source": [
    "# Part 1\n",
    "def boot(outputs, pointers, memories, n = 50):\n",
    "    for i in range(n):\n",
    "        #print(\"booting\", i)\n",
    "        outputs[i], pointers[i], memories[i] = icc(program, [i])#input_queues[i], i)\n",
    "        #threads.append(threading.Thread(target=task).start())\n",
    "    return outputs, pointers, memories\n",
    "\n",
    "# Init network\n",
    "n = 50\n",
    "outputs = [None]*n\n",
    "pointers = [None]*n\n",
    "memories = [[]]*n\n",
    "input_queues = defaultdict(list)\n",
    "outputs, pointers, memories = boot(outputs, pointers, memories, n)\n",
    "\n",
    "# Run one after the other\n",
    "while True:\n",
    "    for i in range(len(memories)):\n",
    "        destination, pointers[i], memories[i] = icc(memories[i], input_queues[i], pointers[i])\n",
    "        if i == 0:\n",
    "            print(\"Address\", i, \"Input:\", input_queues[i], \"Output:\", destination)\n",
    "        if destination:\n",
    "            x, pointers[i], memories[i] = icc(memories[i], input_queues[i], pointers[i])\n",
    "            y, pointers[i], memories[i] = icc(memories[i], input_queues[i], pointers[i])\n",
    "        elif input_queues[i]:\n",
    "            #print(\"Inputting at\", i, \"y\", input_queues[i][0])\n",
    "            destination, pointers[i], memories[i] = icc(memories[i], input_queues[i], pointers[i])\n",
    "            destination = None\n",
    "            if destination:\n",
    "                x, pointers[i], memories[i] = icc(memories[i], input_queues[i], pointers[i])\n",
    "                y, pointers[i], memories[i] = icc(memories[i], input_queues[i], pointers[i])\n",
    "        if destination == 255:\n",
    "            print(y)\n",
    "            sys.exit()\n",
    "        if destination:\n",
    "            #print(\"Output at address\", i, \": Destination:\", destination, \"x\", x, \"y\", y)\n",
    "            input_queues[destination].append(x)\n",
    "            input_queues[destination].append(y)\n"
   ]
  },
  {
   "cell_type": "code",
   "execution_count": 105,
   "id": "61171ac6-ac20-467a-a274-1709d4390ece",
   "metadata": {},
   "outputs": [
    {
     "name": "stdout",
     "output_type": "stream",
     "text": [
      "NAT sent [32887, 19937]\n",
      "NAT sent [32887, 18319]\n",
      "NAT sent [32887, 17045]\n",
      "NAT sent [32887, 16094]\n",
      "NAT sent [32887, 15405]\n",
      "NAT sent [32887, 14915]\n",
      "NAT sent [32887, 14569]\n",
      "NAT sent [32887, 14326]\n",
      "NAT sent [32887, 14155]\n",
      "NAT sent [32887, 14035]\n",
      "NAT sent [32887, 13951]\n",
      "NAT sent [32887, 13893]\n",
      "NAT sent [32887, 13852]\n",
      "NAT sent [32887, 13823]\n",
      "NAT sent [32887, 13803]\n",
      "NAT sent [32887, 13789]\n",
      "NAT sent [32887, 13779]\n",
      "NAT sent [32887, 13772]\n",
      "NAT sent [32887, 13767]\n",
      "NAT sent [32887, 13764]\n",
      "NAT sent [32887, 13762]\n",
      "NAT sent [32887, 13760]\n",
      "NAT sent [32887, 13759]\n",
      "NAT sent [32887, 13758]\n",
      "NAT sent [32887, 13758]\n",
      "Part 2: 13758\n"
     ]
    },
    {
     "ename": "SystemExit",
     "evalue": "",
     "output_type": "error",
     "traceback": [
      "An exception has occurred, use %tb to see the full traceback.\n",
      "\u001b[0;31mSystemExit\u001b[0m\n"
     ]
    }
   ],
   "source": [
    "# Part 2\n",
    "def boot(outputs, pointers, memories, n = 50):\n",
    "    for i in range(n):\n",
    "        #print(\"booting\", i)\n",
    "        outputs[i], pointers[i], memories[i] = icc(program, [i])#input_queues[i], i)\n",
    "        #threads.append(threading.Thread(target=task).start())\n",
    "    return outputs, pointers, memories\n",
    "\n",
    "# Init network\n",
    "n = 50\n",
    "outputs = [None]*n\n",
    "pointers = [None]*n\n",
    "memories = [[]]*n\n",
    "input_queues = defaultdict(list)\n",
    "natvalues = []\n",
    "outputs, pointers, memories = boot(outputs, pointers, memories, n)\n",
    "\n",
    "# Run one after the other\n",
    "sent = set()\n",
    "while True:\n",
    "    idle = True\n",
    "    if any([input_queues[i] for i in input_queues]):\n",
    "        idle = False\n",
    "    for i in range(len(memories)):\n",
    "        sav = input_queues[i].copy()\n",
    "        destination, pointers[i], memories[i] = icc(memories[i], input_queues[i], pointers[i])\n",
    "        if destination:\n",
    "            x, pointers[i], memories[i] = icc(memories[i], input_queues[i], pointers[i])\n",
    "            y, pointers[i], memories[i] = icc(memories[i], input_queues[i], pointers[i])\n",
    "        elif input_queues[i]:\n",
    "            #print(\"Inputting at\", i, \"y\", input_queues[i][0])\n",
    "            destination, pointers[i], memories[i] = icc(memories[i], input_queues[i], pointers[i])\n",
    "            #destination = None\n",
    "            if destination:\n",
    "                x, pointers[i], memories[i] = icc(memories[i], input_queues[i], pointers[i])\n",
    "                y, pointers[i], memories[i] = icc(memories[i], input_queues[i], pointers[i])\n",
    "        if destination == 255:\n",
    "            natvalues = [x, y]\n",
    "            destination = None\n",
    "        if destination:\n",
    "            #print(\"Output at address\", i, \": Destination:\", destination, \"x\", x, \"y\", y)\n",
    "            input_queues[destination].append(x)\n",
    "            input_queues[destination].append(y)\n",
    "            idle = False\n",
    "    \n",
    "    if idle and natvalues:\n",
    "        input_queues[0].append(natvalues[0])\n",
    "        input_queues[0].append(natvalues[1])\n",
    "        print(\"NAT sent\", natvalues)\n",
    "        if y in sent:\n",
    "            print(\"Part 2:\", y)\n",
    "            sys.exit()\n",
    "            pass\n",
    "        sent.add(y)"
   ]
  },
  {
   "cell_type": "code",
   "execution_count": 99,
   "id": "de4c38f1-f5df-42f3-b983-7f2fb27b18da",
   "metadata": {},
   "outputs": [
    {
     "name": "stdout",
     "output_type": "stream",
     "text": [
      "None\n",
      "None\n"
     ]
    }
   ],
   "source": [
    "o, p, m = icc(memories[0], [32887], pointers[0])\n",
    "print(o)\n",
    "o, p, m = icc(m, [19937], p)\n",
    "print(o)"
   ]
  },
  {
   "cell_type": "code",
   "execution_count": 101,
   "id": "2ca622d7-827d-4135-b9a8-e8710bb114b2",
   "metadata": {},
   "outputs": [
    {
     "data": {
      "text/plain": [
       "130742"
      ]
     },
     "execution_count": 101,
     "metadata": {},
     "output_type": "execute_result"
    }
   ],
   "source": [
    "o, p, m = icc(m, [19937], p)\n",
    "o"
   ]
  },
  {
   "cell_type": "code",
   "execution_count": 78,
   "id": "a4035032-83c5-4558-a239-5f01bf7cc1bf",
   "metadata": {},
   "outputs": [
    {
     "data": {
      "text/plain": [
       "75"
      ]
     },
     "execution_count": 78,
     "metadata": {},
     "output_type": "execute_result"
    }
   ],
   "source": [
    "pointers[0]"
   ]
  },
  {
   "cell_type": "code",
   "execution_count": 77,
   "id": "aa278167-d39a-45d8-8ae8-7396021a017a",
   "metadata": {},
   "outputs": [
    {
     "data": {
      "text/plain": [
       "[210, 21834, 1001, 62, 11, 10, 109, 2249, 105, 1]"
      ]
     },
     "execution_count": 77,
     "metadata": {},
     "output_type": "execute_result"
    }
   ],
   "source": [
    "memories[0][:10]"
   ]
  },
  {
   "cell_type": "code",
   "execution_count": null,
   "id": "d57d5b98-c496-43c2-bafa-2aa033df94d7",
   "metadata": {},
   "outputs": [],
   "source": []
  }
 ],
 "metadata": {
  "kernelspec": {
   "display_name": "Python 3 (ipykernel)",
   "language": "python",
   "name": "python3"
  },
  "language_info": {
   "codemirror_mode": {
    "name": "ipython",
    "version": 3
   },
   "file_extension": ".py",
   "mimetype": "text/x-python",
   "name": "python",
   "nbconvert_exporter": "python",
   "pygments_lexer": "ipython3",
   "version": "3.12.3"
  }
 },
 "nbformat": 4,
 "nbformat_minor": 5
}
