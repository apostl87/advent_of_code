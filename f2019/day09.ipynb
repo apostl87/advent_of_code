{
 "cells": [
  {
   "cell_type": "code",
   "execution_count": 19,
   "id": "431b09c9-c7ba-4651-a8a6-41c6865a45a9",
   "metadata": {},
   "outputs": [],
   "source": [
    "import re, sys, copy, numpy as np\n",
    "from math import sqrt\n",
    "from aoclib import list2string\n",
    "from collections import defaultdict\n",
    "from itertools import combinations\n",
    "from operator import add, mul\n",
    "\n",
    "lines = open('09.txt').read().strip()"
   ]
  },
  {
   "cell_type": "code",
   "execution_count": 20,
   "id": "bc28a428-32cd-4120-9d36-654a6ef32a6b",
   "metadata": {},
   "outputs": [
    {
     "name": "stdin",
     "output_type": "stream",
     "text": [
      "Please provide some input:  2\n"
     ]
    }
   ],
   "source": [
    "def icc(program): # intcode computer\n",
    "    memory = program.copy()\n",
    "    for j in range(10000 - len(memory)):\n",
    "        memory.append(0)\n",
    "                      \n",
    "    output = []\n",
    "    alt_par_modes = False # parameter modes other than position mode are enabled / disabled by this boolean\n",
    "    relative_base = 0\n",
    "\n",
    "    i = 0\n",
    "    while True:\n",
    "        if alt_par_modes:\n",
    "            alt_par_modes = False\n",
    "            instruction_header = str(memory[i]).rjust(5, \"0\")\n",
    "            opcode = int(instruction_header[-2:])\n",
    "            par_modes = [int(x) for x in instruction_header[-3::-1]]\n",
    "        else:\n",
    "            opcode = memory[i]\n",
    "            par_modes = [0, 0, 0]\n",
    "\n",
    "        if opcode == 99:\n",
    "            break\n",
    "            \n",
    "        idx1 = i + 1 if par_modes[0] == 1 else memory[i + 1]\n",
    "        idx2 = i + 2 if par_modes[1] == 1 else memory[i + 2]\n",
    "        idx3 = i + 3 if par_modes[2] == 1 else memory[i + 3]\n",
    "        if par_modes[0] == 2:\n",
    "            idx1 += relative_base\n",
    "        if par_modes[1] == 2:\n",
    "            idx2 += relative_base\n",
    "        if par_modes[2] == 2:\n",
    "            idx3 += relative_base\n",
    "        \n",
    "        match opcode:\n",
    "            case 1 | 2:\n",
    "                memory[idx3] = memory[idx1] + memory[idx2] if opcode == 1 else memory[idx1] * memory[idx2]\n",
    "                i += 4\n",
    "            case 3:\n",
    "                memory[idx1] = int(input('Please provide some input: '))\n",
    "                i += 2\n",
    "            case 4:\n",
    "                output.append(memory[idx1])\n",
    "                i += 2\n",
    "            case 5:\n",
    "                i = memory[idx2] if memory[idx1] != 0 else i + 3\n",
    "            case 6:\n",
    "                i = memory[idx2] if memory[idx1] == 0 else i + 3\n",
    "            case 7:\n",
    "                memory[idx3] = 1 if memory[idx1] < memory[idx2] else 0\n",
    "                i += 4\n",
    "            case 8:\n",
    "                memory[idx3] = 1 if memory[idx1] == memory[idx2] else 0\n",
    "                i += 4\n",
    "            case 9:\n",
    "                relative_base += memory[idx1]\n",
    "                i += 2\n",
    "            case _:\n",
    "                alt_par_modes = True\n",
    "                continue\n",
    "    return output\n",
    "\n",
    "program = [int(x) for x in lines.split(\",\")]\n",
    "output = icc(program)"
   ]
  },
  {
   "cell_type": "code",
   "execution_count": 21,
   "id": "13db9821-f1c5-4b1f-849c-097a848082ba",
   "metadata": {},
   "outputs": [
    {
     "data": {
      "text/plain": [
       "[75202]"
      ]
     },
     "execution_count": 21,
     "metadata": {},
     "output_type": "execute_result"
    }
   ],
   "source": [
    "output"
   ]
  },
  {
   "cell_type": "code",
   "execution_count": null,
   "id": "de043776-164f-46e9-ae7b-473f23566a9b",
   "metadata": {},
   "outputs": [],
   "source": []
  }
 ],
 "metadata": {
  "kernelspec": {
   "display_name": "Python 3 (ipykernel)",
   "language": "python",
   "name": "python3"
  },
  "language_info": {
   "codemirror_mode": {
    "name": "ipython",
    "version": 3
   },
   "file_extension": ".py",
   "mimetype": "text/x-python",
   "name": "python",
   "nbconvert_exporter": "python",
   "pygments_lexer": "ipython3",
   "version": "3.12.3"
  }
 },
 "nbformat": 4,
 "nbformat_minor": 5
}
