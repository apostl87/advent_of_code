{
 "cells": [
  {
   "cell_type": "code",
   "execution_count": 138,
   "id": "431b09c9-c7ba-4651-a8a6-41c6865a45a9",
   "metadata": {},
   "outputs": [],
   "source": [
    "import re, sys, copy, numpy as np\n",
    "from math import sqrt\n",
    "from aoclib import list2string\n",
    "from collections import defaultdict\n",
    "from itertools import combinations\n",
    "from operator import add, mul\n",
    "\n",
    "lines = open('22.txt').read().strip()"
   ]
  },
  {
   "cell_type": "code",
   "execution_count": 38,
   "id": "406bb2d5-2731-4526-920a-28046c4cc936",
   "metadata": {},
   "outputs": [],
   "source": [
    "class Game(object):\n",
    "    def __init__(self, decksize) -> None:\n",
    "        self.deck = list(range(decksize))\n",
    "        self.new_stack = []\n",
    "\n",
    "    def deal_into_new_stack(self):\n",
    "        while self.deck:\n",
    "            self.new_stack.insert(0, self.deck.pop(0))\n",
    "        self.deck = self.new_stack\n",
    "        self.new_stack = []\n",
    "\n",
    "    def cut(self, n: int):\n",
    "        self.deck = self.deck[n:] + self.deck[:n]\n",
    "\n",
    "    def deal_with_increment(self, n: int):\n",
    "        N = len(self.deck)\n",
    "        table = ['']*N\n",
    "        i = 0\n",
    "        while self.deck:\n",
    "            table[i % N] = self.deck.pop(0)\n",
    "            i += n\n",
    "        self.deck = table"
   ]
  },
  {
   "cell_type": "code",
   "execution_count": 34,
   "id": "a0a8fab3-65b6-4ea6-a608-f5aea73f50e4",
   "metadata": {},
   "outputs": [
    {
     "name": "stdout",
     "output_type": "stream",
     "text": [
      "6061\n"
     ]
    }
   ],
   "source": [
    "g1 = Game(10007)\n",
    "for action in lines.splitlines():\n",
    "    if \"into\" in action:\n",
    "        g1.deal_into_new_stack()\n",
    "    elif \"increment\" in action:\n",
    "        g1.deal_with_increment(int(action.split()[-1]))\n",
    "    else:\n",
    "        g1.cut(int(action.split()[-1]))\n",
    "print(g1.deck.index(2019))"
   ]
  },
  {
   "cell_type": "code",
   "execution_count": 141,
   "id": "e56e77b5-7fb0-49cb-9eca-2fe55f833cbc",
   "metadata": {},
   "outputs": [
    {
     "name": "stdout",
     "output_type": "stream",
     "text": [
      "Help on built-in function pow in module builtins:\n",
      "\n",
      "pow(base, exp, mod=None)\n",
      "    Equivalent to base**exp with 2 arguments or base**exp % mod with 3 arguments\n",
      "\n",
      "    Some types, such as ints, are able to use a more efficient algorithm when\n",
      "    invoked using the three argument form.\n",
      "\n"
     ]
    }
   ],
   "source": [
    "help(pow)"
   ]
  },
  {
   "cell_type": "code",
   "execution_count": 135,
   "id": "ae840ce8-bea5-42ee-856f-91e63a09a1af",
   "metadata": {},
   "outputs": [],
   "source": [
    "# Part 2\n",
    "class BigGame(object):\n",
    "    def __init__(self, decksize) -> None:\n",
    "        self.decksize = long(decksize)\n",
    "        self.first_card = 0\n",
    "        self.last_card = self.decksize - 1\n",
    "        self.increment = 1\n",
    "        self.incrementing_deals = []\n",
    "\n",
    "    def deal_into_new_stack(self):\n",
    "        self.first_card = self.last_card\n",
    "        self.increment = -self.increment\n",
    "        self.last_card = (self.first_card - self.increment) % self.decksize\n",
    "\n",
    "    def cut(self, n: int):\n",
    "        self.first_card = (self.first_card + self.increment * n) % self.decksize\n",
    "        self.last_card = (self.first_card - self.increment) % self.decksize\n",
    "\n",
    "    def deal_with_increment(self, n: int):\n",
    "        self.incrementing_deals.append(n)\n",
    "        product = np.prod(self.incrementing_deals)\n",
    "        for k in range(self.decksize):\n",
    "            inc = ((k*self.decksize) // product) + 1\n",
    "            if (inc * (product % self.decksize)) % self.decksize == 1:\n",
    "                self.increment = inc\n",
    "                break\n",
    "        self.last_card = (self.first_card - self.increment) % self.decksize\n",
    "\n",
    "    def get_card(self, position):\n",
    "        return (self.first_card + position * self.increment) % self.decksize"
   ]
  },
  {
   "cell_type": "code",
   "execution_count": 140,
   "id": "5c1d70f4-3799-42bd-a3b7-aec60fe752ea",
   "metadata": {},
   "outputs": [
    {
     "name": "stdout",
     "output_type": "stream",
     "text": [
      "deal with increment 53 started\n",
      "cut -619 started\n",
      "deal with increment 6 started\n",
      "cut -2911 started\n",
      "deal with increment 20 started\n",
      "cut 6986 started\n",
      "deal into new stack started\n",
      "deal with increment 38 started\n"
     ]
    },
    {
     "name": "stderr",
     "output_type": "stream",
     "text": [
      "/var/folders/m7/fb2rmjkn5xl1dxf23c4zfy0h0000gp/T/ipykernel_79430/2970386268.py:24: RuntimeWarning: overflow encountered in scalar multiply\n",
      "  if (inc * (product % self.decksize)) % self.decksize == 1:\n"
     ]
    },
    {
     "ename": "KeyboardInterrupt",
     "evalue": "",
     "output_type": "error",
     "traceback": [
      "\u001b[0;31m---------------------------------------------------------------------------\u001b[0m",
      "\u001b[0;31mKeyboardInterrupt\u001b[0m                         Traceback (most recent call last)",
      "Cell \u001b[0;32mIn[140], line 7\u001b[0m\n\u001b[1;32m      5\u001b[0m     g2\u001b[38;5;241m.\u001b[39mdeal_into_new_stack()\n\u001b[1;32m      6\u001b[0m \u001b[38;5;28;01melif\u001b[39;00m \u001b[38;5;124m\"\u001b[39m\u001b[38;5;124mincrement\u001b[39m\u001b[38;5;124m\"\u001b[39m \u001b[38;5;129;01min\u001b[39;00m action:\n\u001b[0;32m----> 7\u001b[0m     g2\u001b[38;5;241m.\u001b[39mdeal_with_increment(\u001b[38;5;28mint\u001b[39m(action\u001b[38;5;241m.\u001b[39msplit()[\u001b[38;5;241m-\u001b[39m\u001b[38;5;241m1\u001b[39m]))\n\u001b[1;32m      8\u001b[0m \u001b[38;5;28;01melse\u001b[39;00m:\n\u001b[1;32m      9\u001b[0m     g2\u001b[38;5;241m.\u001b[39mcut(\u001b[38;5;28mint\u001b[39m(action\u001b[38;5;241m.\u001b[39msplit()[\u001b[38;5;241m-\u001b[39m\u001b[38;5;241m1\u001b[39m]))\n",
      "Cell \u001b[0;32mIn[135], line 24\u001b[0m, in \u001b[0;36mBigGame.deal_with_increment\u001b[0;34m(self, n)\u001b[0m\n\u001b[1;32m     22\u001b[0m \u001b[38;5;28;01mfor\u001b[39;00m k \u001b[38;5;129;01min\u001b[39;00m \u001b[38;5;28mrange\u001b[39m(\u001b[38;5;28mself\u001b[39m\u001b[38;5;241m.\u001b[39mdecksize):\n\u001b[1;32m     23\u001b[0m     inc \u001b[38;5;241m=\u001b[39m ((k\u001b[38;5;241m*\u001b[39m\u001b[38;5;28mself\u001b[39m\u001b[38;5;241m.\u001b[39mdecksize) \u001b[38;5;241m/\u001b[39m\u001b[38;5;241m/\u001b[39m product) \u001b[38;5;241m+\u001b[39m \u001b[38;5;241m1\u001b[39m\n\u001b[0;32m---> 24\u001b[0m     \u001b[38;5;28;01mif\u001b[39;00m (inc \u001b[38;5;241m*\u001b[39m (product \u001b[38;5;241m%\u001b[39m \u001b[38;5;28mself\u001b[39m\u001b[38;5;241m.\u001b[39mdecksize)) \u001b[38;5;241m%\u001b[39m \u001b[38;5;28mself\u001b[39m\u001b[38;5;241m.\u001b[39mdecksize \u001b[38;5;241m==\u001b[39m \u001b[38;5;241m1\u001b[39m:\n\u001b[1;32m     25\u001b[0m         \u001b[38;5;28mself\u001b[39m\u001b[38;5;241m.\u001b[39mincrement \u001b[38;5;241m=\u001b[39m inc\n\u001b[1;32m     26\u001b[0m         \u001b[38;5;28;01mbreak\u001b[39;00m\n",
      "\u001b[0;31mKeyboardInterrupt\u001b[0m: "
     ]
    }
   ],
   "source": [
    "g2 = BigGame(119315717514047)\n",
    "for action in lines.splitlines():\n",
    "    print(action, \"started\")\n",
    "    if \"into\" in action:\n",
    "        g2.deal_into_new_stack()\n",
    "    elif \"increment\" in action:\n",
    "        g2.deal_with_increment(int(action.split()[-1]))\n",
    "    else:\n",
    "        g2.cut(int(action.split()[-1]))\n",
    "print(g2.get_card(2020))"
   ]
  },
  {
   "cell_type": "code",
   "execution_count": 132,
   "id": "687d21fa-8f77-4293-b5bc-576442db1c92",
   "metadata": {},
   "outputs": [
    {
     "data": {
      "text/plain": [
       "73071391534130"
      ]
     },
     "execution_count": 132,
     "metadata": {},
     "output_type": "execute_result"
    }
   ],
   "source": [
    "g2 = BigGame(119315717514047)\n",
    "g2.cut(87)\n",
    "g2.deal_with_increment(3)\n",
    "#g3.deal_into_new_stack()\n",
    "g2.deal_with_increment(81)\n",
    "g2.deal_with_increment(11)\n",
    "#g3.deal_with_increment(7)\n",
    "g2.get_card(2000)"
   ]
  },
  {
   "cell_type": "code",
   "execution_count": 67,
   "id": "2ef718ea-f270-464d-9ad5-beb512f4c859",
   "metadata": {},
   "outputs": [
    {
     "name": "stdout",
     "output_type": "stream",
     "text": [
      "23\n"
     ]
    }
   ],
   "source": [
    "from math import lcm\n",
    "k = 0\n",
    "while True:\n",
    "    k += 1\n",
    "    if (k * 87) % 100 == 1:\n",
    "        print(k)\n",
    "        break"
   ]
  },
  {
   "cell_type": "code",
   "execution_count": 117,
   "id": "3f28b3e1-d0e9-4bd5-9ab5-50ba0c18f490",
   "metadata": {},
   "outputs": [
    {
     "name": "stdout",
     "output_type": "stream",
     "text": [
      "37\n"
     ]
    },
    {
     "data": {
      "text/plain": [
       "9009"
      ]
     },
     "execution_count": 117,
     "metadata": {},
     "output_type": "execute_result"
    }
   ],
   "source": [
    "from math import lcm\n",
    "k = 0\n",
    "while True:\n",
    "    k += 1\n",
    "    if (k * 3*81*11) % 100 == 1:\n",
    "        print(k)\n",
    "        break\n",
    "\n",
    "91*99"
   ]
  },
  {
   "cell_type": "code",
   "execution_count": 130,
   "id": "2f825043-ae73-4143-b1b1-6dd520843636",
   "metadata": {},
   "outputs": [
    {
     "data": {
      "text/plain": [
       "[0,\n",
       " 67,\n",
       " 34,\n",
       " 1,\n",
       " 68,\n",
       " 35,\n",
       " 2,\n",
       " 69,\n",
       " 36,\n",
       " 3,\n",
       " 70,\n",
       " 37,\n",
       " 4,\n",
       " 71,\n",
       " 38,\n",
       " 5,\n",
       " 72,\n",
       " 39,\n",
       " 6,\n",
       " 73,\n",
       " 40,\n",
       " 7,\n",
       " 74,\n",
       " 41,\n",
       " 8,\n",
       " 75,\n",
       " 42,\n",
       " 9,\n",
       " 76,\n",
       " 43,\n",
       " 10,\n",
       " 77,\n",
       " 44,\n",
       " 11,\n",
       " 78,\n",
       " 45,\n",
       " 12,\n",
       " 79,\n",
       " 46,\n",
       " 13,\n",
       " 80,\n",
       " 47,\n",
       " 14,\n",
       " 81,\n",
       " 48,\n",
       " 15,\n",
       " 82,\n",
       " 49,\n",
       " 16,\n",
       " 83,\n",
       " 50,\n",
       " 17,\n",
       " 84,\n",
       " 51,\n",
       " 18,\n",
       " 85,\n",
       " 52,\n",
       " 19,\n",
       " 86,\n",
       " 53,\n",
       " 20,\n",
       " 87,\n",
       " 54,\n",
       " 21,\n",
       " 88,\n",
       " 55,\n",
       " 22,\n",
       " 89,\n",
       " 56,\n",
       " 23,\n",
       " 90,\n",
       " 57,\n",
       " 24,\n",
       " 91,\n",
       " 58,\n",
       " 25,\n",
       " 92,\n",
       " 59,\n",
       " 26,\n",
       " 93,\n",
       " 60,\n",
       " 27,\n",
       " 94,\n",
       " 61,\n",
       " 28,\n",
       " 95,\n",
       " 62,\n",
       " 29,\n",
       " 96,\n",
       " 63,\n",
       " 30,\n",
       " 97,\n",
       " 64,\n",
       " 31,\n",
       " 98,\n",
       " 65,\n",
       " 32,\n",
       " 99,\n",
       " 66,\n",
       " 33]"
      ]
     },
     "execution_count": 130,
     "metadata": {},
     "output_type": "execute_result"
    }
   ],
   "source": [
    "g3 = Game(100)\n",
    "#g3.cut(87)\n",
    "g3.deal_with_increment(3)\n",
    "#g3.deal_into_new_stack()\n",
    "#g3.deal_with_increment(81)\n",
    "#g3.deal_with_increment(11)\n",
    "#g3.deal_with_increment(7)\n",
    "g3.deck"
   ]
  },
  {
   "cell_type": "code",
   "execution_count": null,
   "id": "5ade0a6d-8617-4301-b116-308a12a5dad4",
   "metadata": {},
   "outputs": [],
   "source": []
  }
 ],
 "metadata": {
  "kernelspec": {
   "display_name": "Python 3 (ipykernel)",
   "language": "python",
   "name": "python3"
  },
  "language_info": {
   "codemirror_mode": {
    "name": "ipython",
    "version": 3
   },
   "file_extension": ".py",
   "mimetype": "text/x-python",
   "name": "python",
   "nbconvert_exporter": "python",
   "pygments_lexer": "ipython3",
   "version": "3.12.3"
  }
 },
 "nbformat": 4,
 "nbformat_minor": 5
}
