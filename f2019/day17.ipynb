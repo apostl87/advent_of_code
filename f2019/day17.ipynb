{
 "cells": [
  {
   "cell_type": "code",
   "execution_count": 1,
   "id": "26be3593-dd2c-4e59-ab80-5e110da7fcda",
   "metadata": {},
   "outputs": [],
   "source": [
    "import re, sys, copy, numpy as np\n",
    "from math import sqrt\n",
    "from aoclib import list2string\n",
    "from collections import defaultdict\n",
    "from itertools import combinations\n",
    "from operator import add, mul\n",
    "\n",
    "lines = open('17.txt').read().strip()\n",
    "\n",
    "program = [int(x) for x in lines.split(\",\")]"
   ]
  },
  {
   "cell_type": "code",
   "execution_count": 29,
   "id": "bda50ec0-6d56-48da-8880-40ed47ede628",
   "metadata": {},
   "outputs": [],
   "source": [
    "def icc(program, inputs = None, pointer = 0): # intcode computer\n",
    "    memory = program.copy()\n",
    "    for j in range(10000 - len(memory)):\n",
    "        memory.append(0)\n",
    "                      \n",
    "    output = []\n",
    "    alt_par_modes = False # parameter modes other than position mode are enabled / disabled by this boolean\n",
    "    relative_base = 0\n",
    "\n",
    "    i = 0\n",
    "    while True:\n",
    "        if alt_par_modes:\n",
    "            alt_par_modes = False\n",
    "            instruction_header = str(memory[i]).rjust(5, \"0\")\n",
    "            opcode = int(instruction_header[-2:])\n",
    "            par_modes = [int(x) for x in instruction_header[-3::-1]]\n",
    "        else:\n",
    "            opcode = memory[i]\n",
    "            par_modes = [0, 0, 0]\n",
    "\n",
    "        if opcode == 99:\n",
    "            break\n",
    "            \n",
    "        idx1 = i + 1 if par_modes[0] == 1 else memory[i + 1]\n",
    "        idx2 = i + 2 if par_modes[1] == 1 else memory[i + 2]\n",
    "        idx3 = i + 3 if par_modes[2] == 1 else memory[i + 3]\n",
    "        if par_modes[0] == 2:\n",
    "            idx1 += relative_base\n",
    "        if par_modes[1] == 2:\n",
    "            idx2 += relative_base\n",
    "        if par_modes[2] == 2:\n",
    "            idx3 += relative_base\n",
    "        \n",
    "        match opcode:\n",
    "            case 1 | 2:\n",
    "                memory[idx3] = memory[idx1] + memory[idx2] if opcode == 1 else memory[idx1] * memory[idx2]\n",
    "                i += 4\n",
    "            case 3:\n",
    "                if inputs:\n",
    "                    input_ = int(inputs.pop(0))\n",
    "                else:\n",
    "                    input_ = int(input('Please provide some input: '))\n",
    "                memory[idx1] = input_\n",
    "                i += 2\n",
    "            case 4:\n",
    "                output.append(memory[idx1])\n",
    "                i += 2\n",
    "            case 5:\n",
    "                i = memory[idx2] if memory[idx1] != 0 else i + 3\n",
    "            case 6:\n",
    "                i = memory[idx2] if memory[idx1] == 0 else i + 3\n",
    "            case 7:\n",
    "                memory[idx3] = 1 if memory[idx1] < memory[idx2] else 0\n",
    "                i += 4\n",
    "            case 8:\n",
    "                memory[idx3] = 1 if memory[idx1] == memory[idx2] else 0\n",
    "                i += 4\n",
    "            case 9:\n",
    "                relative_base += memory[idx1]\n",
    "                i += 2\n",
    "            case _:\n",
    "                alt_par_modes = True\n",
    "                continue\n",
    "    return output\n"
   ]
  },
  {
   "cell_type": "code",
   "execution_count": 22,
   "id": "4ecec995-81b4-41f7-9bb3-e910ba924aec",
   "metadata": {},
   "outputs": [
    {
     "name": "stdout",
     "output_type": "stream",
     "text": [
      "Help on built-in function ascii in module builtins:\n",
      "\n",
      "ascii(obj, /)\n",
      "    Return an ASCII-only representation of an object.\n",
      "\n",
      "    As repr(), return a string containing a printable representation of an\n",
      "    object, but escape the non-ASCII characters in the string returned by\n",
      "    repr() using \\\\x, \\\\u or \\\\U escapes. This generates a string similar\n",
      "    to that returned by repr() in Python 2.\n",
      "\n"
     ]
    },
    {
     "ename": "TypeError",
     "evalue": "'list' object cannot be interpreted as an integer",
     "output_type": "error",
     "traceback": [
      "\u001b[0;31m---------------------------------------------------------------------------\u001b[0m",
      "\u001b[0;31mTypeError\u001b[0m                                 Traceback (most recent call last)",
      "Cell \u001b[0;32mIn[22], line 2\u001b[0m\n\u001b[1;32m      1\u001b[0m help(ascii)\n\u001b[0;32m----> 2\u001b[0m \u001b[38;5;28mchr\u001b[39m([\u001b[38;5;241m35\u001b[39m, \u001b[38;5;241m110\u001b[39m])\n",
      "\u001b[0;31mTypeError\u001b[0m: 'list' object cannot be interpreted as an integer"
     ]
    }
   ],
   "source": [
    "help(ascii)\n",
    "chr([35, 110])"
   ]
  },
  {
   "cell_type": "code",
   "execution_count": 30,
   "id": "90405d21-80a8-49d4-b42b-03f0c9d9962b",
   "metadata": {},
   "outputs": [
    {
     "name": "stdin",
     "output_type": "stream",
     "text": [
      "Please provide some input:  0\n",
      "Please provide some input:  0\n"
     ]
    }
   ],
   "source": [
    "output = icc(program, inputs = None, pointer = 0)\n",
    "str_ = ''\n",
    "for o in output:\n",
    "    str_ += chr(o)"
   ]
  },
  {
   "cell_type": "code",
   "execution_count": 31,
   "id": "1d85a323-ac5a-4b2b-9a93-35b2113a5ebf",
   "metadata": {},
   "outputs": [
    {
     "data": {
      "text/plain": [
       "'Input instructions:\\n\\nInvalid operation; expected something like AND, OR, or NOT\\n'"
      ]
     },
     "execution_count": 31,
     "metadata": {},
     "output_type": "execute_result"
    }
   ],
   "source": [
    "str_"
   ]
  },
  {
   "cell_type": "code",
   "execution_count": 28,
   "id": "3a0581b4-65dc-4370-bbac-8d8e25c54019",
   "metadata": {},
   "outputs": [
    {
     "data": {
      "text/plain": [
       "[73,\n",
       " 110,\n",
       " 112,\n",
       " 117,\n",
       " 116,\n",
       " 32,\n",
       " 105,\n",
       " 110,\n",
       " 115,\n",
       " 116,\n",
       " 114,\n",
       " 117,\n",
       " 99,\n",
       " 116,\n",
       " 105,\n",
       " 111,\n",
       " 110,\n",
       " 115,\n",
       " 58,\n",
       " 10,\n",
       " 10,\n",
       " 73,\n",
       " 110,\n",
       " 118,\n",
       " 97,\n",
       " 108,\n",
       " 105,\n",
       " 100,\n",
       " 32,\n",
       " 111,\n",
       " 112,\n",
       " 101,\n",
       " 114,\n",
       " 97,\n",
       " 116,\n",
       " 105,\n",
       " 111,\n",
       " 110,\n",
       " 59,\n",
       " 32,\n",
       " 101,\n",
       " 120,\n",
       " 112,\n",
       " 101,\n",
       " 99,\n",
       " 116,\n",
       " 101,\n",
       " 100,\n",
       " 32,\n",
       " 115,\n",
       " 111,\n",
       " 109,\n",
       " 101,\n",
       " 116,\n",
       " 104,\n",
       " 105,\n",
       " 110,\n",
       " 103,\n",
       " 32,\n",
       " 108,\n",
       " 105,\n",
       " 107,\n",
       " 101,\n",
       " 32,\n",
       " 65,\n",
       " 78,\n",
       " 68,\n",
       " 44,\n",
       " 32,\n",
       " 79,\n",
       " 82,\n",
       " 44,\n",
       " 32,\n",
       " 111,\n",
       " 114,\n",
       " 32,\n",
       " 78,\n",
       " 79,\n",
       " 84,\n",
       " 10]"
      ]
     },
     "execution_count": 28,
     "metadata": {},
     "output_type": "execute_result"
    }
   ],
   "source": [
    "output"
   ]
  },
  {
   "cell_type": "code",
   "execution_count": null,
   "id": "14678f07-fbc4-4e3a-869d-de904a8cff7d",
   "metadata": {},
   "outputs": [],
   "source": []
  }
 ],
 "metadata": {
  "kernelspec": {
   "display_name": "Python 3 (ipykernel)",
   "language": "python",
   "name": "python3"
  },
  "language_info": {
   "codemirror_mode": {
    "name": "ipython",
    "version": 3
   },
   "file_extension": ".py",
   "mimetype": "text/x-python",
   "name": "python",
   "nbconvert_exporter": "python",
   "pygments_lexer": "ipython3",
   "version": "3.12.3"
  }
 },
 "nbformat": 4,
 "nbformat_minor": 5
}
